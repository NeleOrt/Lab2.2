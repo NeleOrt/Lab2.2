{
 "cells": [
  {
   "cell_type": "code",
   "execution_count": 1,
   "id": "325ebd7b-81da-409d-801b-9016f869851f",
   "metadata": {},
   "outputs": [],
   "source": [
    "import polars as pl"
   ]
  },
  {
   "cell_type": "code",
   "execution_count": 2,
   "id": "c9988e5a-8a51-440f-988a-6c4bbf945163",
   "metadata": {},
   "outputs": [
    {
     "data": {
      "text/html": [
       "<div><style>\n",
       ".dataframe > thead > tr,\n",
       ".dataframe > tbody > tr {\n",
       "  text-align: right;\n",
       "  white-space: pre-wrap;\n",
       "}\n",
       "</style>\n",
       "<small>shape: (5, 6)</small><table border=\"1\" class=\"dataframe\"><thead><tr><th>playerID</th><th>awardID</th><th>yearID</th><th>lgID</th><th>tie</th><th>notes</th></tr><tr><td>str</td><td>str</td><td>i64</td><td>str</td><td>str</td><td>str</td></tr></thead><tbody><tr><td>&quot;poseybu01&quot;</td><td>&quot;Lou Gehrig Memorial Award&quot;</td><td>2019</td><td>&quot;ML&quot;</td><td>null</td><td>null</td></tr><tr><td>&quot;klubeco01&quot;</td><td>&quot;Lou Gehrig Memorial Award&quot;</td><td>2018</td><td>&quot;ML&quot;</td><td>null</td><td>null</td></tr><tr><td>&quot;vottojo01&quot;</td><td>&quot;Lou Gehrig Memorial Award&quot;</td><td>2017</td><td>&quot;ML&quot;</td><td>null</td><td>null</td></tr><tr><td>&quot;altuvjo01&quot;</td><td>&quot;Lou Gehrig Memorial Award&quot;</td><td>2016</td><td>&quot;ML&quot;</td><td>null</td><td>null</td></tr><tr><td>&quot;grandcu01&quot;</td><td>&quot;Lou Gehrig Memorial Award&quot;</td><td>2015</td><td>&quot;ML&quot;</td><td>null</td><td>null</td></tr></tbody></table></div>"
      ],
      "text/plain": [
       "shape: (5, 6)\n",
       "┌───────────┬───────────────────────────┬────────┬──────┬──────┬───────┐\n",
       "│ playerID  ┆ awardID                   ┆ yearID ┆ lgID ┆ tie  ┆ notes │\n",
       "│ ---       ┆ ---                       ┆ ---    ┆ ---  ┆ ---  ┆ ---   │\n",
       "│ str       ┆ str                       ┆ i64    ┆ str  ┆ str  ┆ str   │\n",
       "╞═══════════╪═══════════════════════════╪════════╪══════╪══════╪═══════╡\n",
       "│ poseybu01 ┆ Lou Gehrig Memorial Award ┆ 2019   ┆ ML   ┆ null ┆ null  │\n",
       "│ klubeco01 ┆ Lou Gehrig Memorial Award ┆ 2018   ┆ ML   ┆ null ┆ null  │\n",
       "│ vottojo01 ┆ Lou Gehrig Memorial Award ┆ 2017   ┆ ML   ┆ null ┆ null  │\n",
       "│ altuvjo01 ┆ Lou Gehrig Memorial Award ┆ 2016   ┆ ML   ┆ null ┆ null  │\n",
       "│ grandcu01 ┆ Lou Gehrig Memorial Award ┆ 2015   ┆ ML   ┆ null ┆ null  │\n",
       "└───────────┴───────────────────────────┴────────┴──────┴──────┴───────┘"
      ]
     },
     "execution_count": 2,
     "metadata": {},
     "output_type": "execute_result"
    }
   ],
   "source": [
    "awardsPlayers = pl.read_csv('./Data/AwardsPlayers.csv') \n",
    "awardsPlayers.head()"
   ]
  },
  {
   "cell_type": "code",
   "execution_count": 12,
   "id": "1956ea19-7363-4113-8fca-231e40ba2464",
   "metadata": {},
   "outputs": [
    {
     "data": {
      "text/html": [
       "<div><style>\n",
       ".dataframe > thead > tr,\n",
       ".dataframe > tbody > tr {\n",
       "  text-align: right;\n",
       "  white-space: pre-wrap;\n",
       "}\n",
       "</style>\n",
       "<small>shape: (5, 18)</small><table border=\"1\" class=\"dataframe\"><thead><tr><th>playerID</th><th>yearID</th><th>stint</th><th>teamID</th><th>lgID</th><th>POS</th><th>G</th><th>GS</th><th>InnOuts</th><th>PO</th><th>A</th><th>E</th><th>DP</th><th>PB</th><th>WP</th><th>SB</th><th>CS</th><th>ZR</th></tr><tr><td>str</td><td>i64</td><td>i64</td><td>str</td><td>str</td><td>str</td><td>i64</td><td>i64</td><td>i64</td><td>i64</td><td>i64</td><td>i64</td><td>i64</td><td>str</td><td>str</td><td>str</td><td>str</td><td>str</td></tr></thead><tbody><tr><td>&quot;aardsda01&quot;</td><td>2004</td><td>1</td><td>&quot;SFN&quot;</td><td>&quot;NL&quot;</td><td>&quot;P&quot;</td><td>11</td><td>0</td><td>32</td><td>0</td><td>0</td><td>0</td><td>0</td><td>null</td><td>null</td><td>null</td><td>null</td><td>null</td></tr><tr><td>&quot;aardsda01&quot;</td><td>2006</td><td>1</td><td>&quot;CHN&quot;</td><td>&quot;NL&quot;</td><td>&quot;P&quot;</td><td>45</td><td>0</td><td>159</td><td>1</td><td>5</td><td>0</td><td>1</td><td>null</td><td>null</td><td>null</td><td>null</td><td>null</td></tr><tr><td>&quot;aardsda01&quot;</td><td>2007</td><td>1</td><td>&quot;CHA&quot;</td><td>&quot;AL&quot;</td><td>&quot;P&quot;</td><td>25</td><td>0</td><td>97</td><td>2</td><td>4</td><td>1</td><td>0</td><td>null</td><td>null</td><td>null</td><td>null</td><td>null</td></tr><tr><td>&quot;aardsda01&quot;</td><td>2008</td><td>1</td><td>&quot;BOS&quot;</td><td>&quot;AL&quot;</td><td>&quot;P&quot;</td><td>47</td><td>0</td><td>146</td><td>3</td><td>6</td><td>0</td><td>0</td><td>null</td><td>null</td><td>null</td><td>null</td><td>null</td></tr><tr><td>&quot;aardsda01&quot;</td><td>2009</td><td>1</td><td>&quot;SEA&quot;</td><td>&quot;AL&quot;</td><td>&quot;P&quot;</td><td>73</td><td>0</td><td>214</td><td>2</td><td>5</td><td>0</td><td>1</td><td>null</td><td>null</td><td>null</td><td>null</td><td>null</td></tr></tbody></table></div>"
      ],
      "text/plain": [
       "shape: (5, 18)\n",
       "┌───────────┬────────┬───────┬────────┬───┬──────┬──────┬──────┬──────┐\n",
       "│ playerID  ┆ yearID ┆ stint ┆ teamID ┆ … ┆ WP   ┆ SB   ┆ CS   ┆ ZR   │\n",
       "│ ---       ┆ ---    ┆ ---   ┆ ---    ┆   ┆ ---  ┆ ---  ┆ ---  ┆ ---  │\n",
       "│ str       ┆ i64    ┆ i64   ┆ str    ┆   ┆ str  ┆ str  ┆ str  ┆ str  │\n",
       "╞═══════════╪════════╪═══════╪════════╪═══╪══════╪══════╪══════╪══════╡\n",
       "│ aardsda01 ┆ 2004   ┆ 1     ┆ SFN    ┆ … ┆ null ┆ null ┆ null ┆ null │\n",
       "│ aardsda01 ┆ 2006   ┆ 1     ┆ CHN    ┆ … ┆ null ┆ null ┆ null ┆ null │\n",
       "│ aardsda01 ┆ 2007   ┆ 1     ┆ CHA    ┆ … ┆ null ┆ null ┆ null ┆ null │\n",
       "│ aardsda01 ┆ 2008   ┆ 1     ┆ BOS    ┆ … ┆ null ┆ null ┆ null ┆ null │\n",
       "│ aardsda01 ┆ 2009   ┆ 1     ┆ SEA    ┆ … ┆ null ┆ null ┆ null ┆ null │\n",
       "└───────────┴────────┴───────┴────────┴───┴──────┴──────┴──────┴──────┘"
      ]
     },
     "execution_count": 12,
     "metadata": {},
     "output_type": "execute_result"
    }
   ],
   "source": [
    "fielding = pl.read_csv('./Data/Fielding.csv') \n",
    "fielding.head()"
   ]
  },
  {
   "cell_type": "code",
   "execution_count": 13,
   "id": "d63708d7-b652-49d4-b93a-497e9fa4cf1a",
   "metadata": {},
   "outputs": [
    {
     "data": {
      "text/html": [
       "<div><style>\n",
       ".dataframe > thead > tr,\n",
       ".dataframe > tbody > tr {\n",
       "  text-align: right;\n",
       "  white-space: pre-wrap;\n",
       "}\n",
       "</style>\n",
       "<small>shape: (5, 5)</small><table border=\"1\" class=\"dataframe\"><thead><tr><th>yearID</th><th>teamID</th><th>lgID</th><th>playerID</th><th>salary</th></tr><tr><td>i64</td><td>str</td><td>str</td><td>str</td><td>i64</td></tr></thead><tbody><tr><td>1985</td><td>&quot;ATL&quot;</td><td>&quot;NL&quot;</td><td>&quot;barkele01&quot;</td><td>870000</td></tr><tr><td>1985</td><td>&quot;ATL&quot;</td><td>&quot;NL&quot;</td><td>&quot;bedrost01&quot;</td><td>550000</td></tr><tr><td>1985</td><td>&quot;ATL&quot;</td><td>&quot;NL&quot;</td><td>&quot;benedbr01&quot;</td><td>545000</td></tr><tr><td>1985</td><td>&quot;ATL&quot;</td><td>&quot;NL&quot;</td><td>&quot;campri01&quot;</td><td>633333</td></tr><tr><td>1985</td><td>&quot;ATL&quot;</td><td>&quot;NL&quot;</td><td>&quot;ceronri01&quot;</td><td>625000</td></tr></tbody></table></div>"
      ],
      "text/plain": [
       "shape: (5, 5)\n",
       "┌────────┬────────┬──────┬───────────┬────────┐\n",
       "│ yearID ┆ teamID ┆ lgID ┆ playerID  ┆ salary │\n",
       "│ ---    ┆ ---    ┆ ---  ┆ ---       ┆ ---    │\n",
       "│ i64    ┆ str    ┆ str  ┆ str       ┆ i64    │\n",
       "╞════════╪════════╪══════╪═══════════╪════════╡\n",
       "│ 1985   ┆ ATL    ┆ NL   ┆ barkele01 ┆ 870000 │\n",
       "│ 1985   ┆ ATL    ┆ NL   ┆ bedrost01 ┆ 550000 │\n",
       "│ 1985   ┆ ATL    ┆ NL   ┆ benedbr01 ┆ 545000 │\n",
       "│ 1985   ┆ ATL    ┆ NL   ┆ campri01  ┆ 633333 │\n",
       "│ 1985   ┆ ATL    ┆ NL   ┆ ceronri01 ┆ 625000 │\n",
       "└────────┴────────┴──────┴───────────┴────────┘"
      ]
     },
     "execution_count": 13,
     "metadata": {},
     "output_type": "execute_result"
    }
   ],
   "source": [
    "salaries = pl.read_csv('./Data/Salaries.csv') \n",
    "salaries.head()"
   ]
  },
  {
   "cell_type": "code",
   "execution_count": 92,
   "id": "c5459327-b1c2-46c6-80e9-974e62af56d7",
   "metadata": {},
   "outputs": [
    {
     "data": {
      "text/html": [
       "<div><style>\n",
       ".dataframe > thead > tr,\n",
       ".dataframe > tbody > tr {\n",
       "  text-align: right;\n",
       "  white-space: pre-wrap;\n",
       "}\n",
       "</style>\n",
       "<small>shape: (5, 24)</small><table border=\"1\" class=\"dataframe\"><thead><tr><th>playerID</th><th>yearID</th><th>stint</th><th>teamID</th><th>lgID</th><th>G</th><th>G_batting</th><th>AB</th><th>R</th><th>H</th><th>2B</th><th>3B</th><th>HR</th><th>RBI</th><th>SB</th><th>CS</th><th>BB</th><th>SO</th><th>IBB</th><th>HBP</th><th>SH</th><th>SF</th><th>GIDP</th><th>G_old</th></tr><tr><td>str</td><td>i64</td><td>i64</td><td>str</td><td>str</td><td>i64</td><td>i64</td><td>i64</td><td>i64</td><td>i64</td><td>i64</td><td>i64</td><td>i64</td><td>i64</td><td>i64</td><td>i64</td><td>i64</td><td>i64</td><td>i64</td><td>i64</td><td>i64</td><td>i64</td><td>i64</td><td>str</td></tr></thead><tbody><tr><td>&quot;aardsda01&quot;</td><td>2004</td><td>1</td><td>&quot;SFN&quot;</td><td>&quot;NL&quot;</td><td>11</td><td>null</td><td>0</td><td>0</td><td>0</td><td>0</td><td>0</td><td>0</td><td>0</td><td>0</td><td>0</td><td>0</td><td>0</td><td>0</td><td>0</td><td>0</td><td>0</td><td>0</td><td>null</td></tr><tr><td>&quot;aardsda01&quot;</td><td>2006</td><td>1</td><td>&quot;CHN&quot;</td><td>&quot;NL&quot;</td><td>45</td><td>null</td><td>2</td><td>0</td><td>0</td><td>0</td><td>0</td><td>0</td><td>0</td><td>0</td><td>0</td><td>0</td><td>0</td><td>0</td><td>0</td><td>1</td><td>0</td><td>0</td><td>null</td></tr><tr><td>&quot;aardsda01&quot;</td><td>2007</td><td>1</td><td>&quot;CHA&quot;</td><td>&quot;AL&quot;</td><td>25</td><td>null</td><td>0</td><td>0</td><td>0</td><td>0</td><td>0</td><td>0</td><td>0</td><td>0</td><td>0</td><td>0</td><td>0</td><td>0</td><td>0</td><td>0</td><td>0</td><td>0</td><td>null</td></tr><tr><td>&quot;aardsda01&quot;</td><td>2008</td><td>1</td><td>&quot;BOS&quot;</td><td>&quot;AL&quot;</td><td>47</td><td>null</td><td>1</td><td>0</td><td>0</td><td>0</td><td>0</td><td>0</td><td>0</td><td>0</td><td>0</td><td>0</td><td>1</td><td>0</td><td>0</td><td>0</td><td>0</td><td>0</td><td>null</td></tr><tr><td>&quot;aardsda01&quot;</td><td>2009</td><td>1</td><td>&quot;SEA&quot;</td><td>&quot;AL&quot;</td><td>73</td><td>null</td><td>0</td><td>0</td><td>0</td><td>0</td><td>0</td><td>0</td><td>0</td><td>0</td><td>0</td><td>0</td><td>0</td><td>0</td><td>0</td><td>0</td><td>0</td><td>0</td><td>null</td></tr></tbody></table></div>"
      ],
      "text/plain": [
       "shape: (5, 24)\n",
       "┌───────────┬────────┬───────┬────────┬───┬─────┬─────┬──────┬───────┐\n",
       "│ playerID  ┆ yearID ┆ stint ┆ teamID ┆ … ┆ SH  ┆ SF  ┆ GIDP ┆ G_old │\n",
       "│ ---       ┆ ---    ┆ ---   ┆ ---    ┆   ┆ --- ┆ --- ┆ ---  ┆ ---   │\n",
       "│ str       ┆ i64    ┆ i64   ┆ str    ┆   ┆ i64 ┆ i64 ┆ i64  ┆ str   │\n",
       "╞═══════════╪════════╪═══════╪════════╪═══╪═════╪═════╪══════╪═══════╡\n",
       "│ aardsda01 ┆ 2004   ┆ 1     ┆ SFN    ┆ … ┆ 0   ┆ 0   ┆ 0    ┆ null  │\n",
       "│ aardsda01 ┆ 2006   ┆ 1     ┆ CHN    ┆ … ┆ 1   ┆ 0   ┆ 0    ┆ null  │\n",
       "│ aardsda01 ┆ 2007   ┆ 1     ┆ CHA    ┆ … ┆ 0   ┆ 0   ┆ 0    ┆ null  │\n",
       "│ aardsda01 ┆ 2008   ┆ 1     ┆ BOS    ┆ … ┆ 0   ┆ 0   ┆ 0    ┆ null  │\n",
       "│ aardsda01 ┆ 2009   ┆ 1     ┆ SEA    ┆ … ┆ 0   ┆ 0   ┆ 0    ┆ null  │\n",
       "└───────────┴────────┴───────┴────────┴───┴─────┴─────┴──────┴───────┘"
      ]
     },
     "execution_count": 92,
     "metadata": {},
     "output_type": "execute_result"
    }
   ],
   "source": [
    "batting = pl.read_csv('./Data/Batting.csv') \n",
    "batting.head()"
   ]
  },
  {
   "cell_type": "code",
   "execution_count": 93,
   "id": "610fbe44-7bb1-4319-9a1f-9209be98bd50",
   "metadata": {},
   "outputs": [
    {
     "data": {
      "text/html": [
       "<div><style>\n",
       ".dataframe > thead > tr,\n",
       ".dataframe > tbody > tr {\n",
       "  text-align: right;\n",
       "  white-space: pre-wrap;\n",
       "}\n",
       "</style>\n",
       "<small>shape: (5, 30)</small><table border=\"1\" class=\"dataframe\"><thead><tr><th>playerID</th><th>yearID</th><th>stint</th><th>teamID</th><th>lgID</th><th>W</th><th>L</th><th>G</th><th>GS</th><th>CG</th><th>SHO</th><th>SV</th><th>IPouts</th><th>H</th><th>ER</th><th>HR</th><th>BB</th><th>SO</th><th>BAOpp</th><th>ERA</th><th>IBB</th><th>WP</th><th>HBP</th><th>BK</th><th>BFP</th><th>GF</th><th>R</th><th>SH</th><th>SF</th><th>GIDP</th></tr><tr><td>str</td><td>i64</td><td>i64</td><td>str</td><td>str</td><td>i64</td><td>i64</td><td>i64</td><td>i64</td><td>i64</td><td>i64</td><td>i64</td><td>i64</td><td>i64</td><td>i64</td><td>i64</td><td>i64</td><td>i64</td><td>f64</td><td>f64</td><td>i64</td><td>i64</td><td>i64</td><td>i64</td><td>i64</td><td>i64</td><td>i64</td><td>i64</td><td>i64</td><td>i64</td></tr></thead><tbody><tr><td>&quot;aardsda01&quot;</td><td>2004</td><td>1</td><td>&quot;SFN&quot;</td><td>&quot;NL&quot;</td><td>1</td><td>0</td><td>11</td><td>0</td><td>0</td><td>0</td><td>0</td><td>32</td><td>20</td><td>8</td><td>1</td><td>10</td><td>5</td><td>0.417</td><td>6.75</td><td>0</td><td>0</td><td>2</td><td>0</td><td>61</td><td>5</td><td>8</td><td>0</td><td>1</td><td>1</td></tr><tr><td>&quot;aardsda01&quot;</td><td>2006</td><td>1</td><td>&quot;CHN&quot;</td><td>&quot;NL&quot;</td><td>3</td><td>0</td><td>45</td><td>0</td><td>0</td><td>0</td><td>0</td><td>159</td><td>41</td><td>24</td><td>9</td><td>28</td><td>49</td><td>0.214</td><td>4.08</td><td>0</td><td>1</td><td>1</td><td>0</td><td>225</td><td>9</td><td>25</td><td>1</td><td>3</td><td>2</td></tr><tr><td>&quot;aardsda01&quot;</td><td>2007</td><td>1</td><td>&quot;CHA&quot;</td><td>&quot;AL&quot;</td><td>2</td><td>1</td><td>25</td><td>0</td><td>0</td><td>0</td><td>0</td><td>97</td><td>39</td><td>23</td><td>4</td><td>17</td><td>36</td><td>0.3</td><td>6.4</td><td>3</td><td>2</td><td>1</td><td>0</td><td>151</td><td>7</td><td>24</td><td>2</td><td>1</td><td>1</td></tr><tr><td>&quot;aardsda01&quot;</td><td>2008</td><td>1</td><td>&quot;BOS&quot;</td><td>&quot;AL&quot;</td><td>4</td><td>2</td><td>47</td><td>0</td><td>0</td><td>0</td><td>0</td><td>146</td><td>49</td><td>30</td><td>4</td><td>35</td><td>49</td><td>0.268</td><td>5.55</td><td>2</td><td>3</td><td>5</td><td>0</td><td>228</td><td>7</td><td>32</td><td>3</td><td>2</td><td>4</td></tr><tr><td>&quot;aardsda01&quot;</td><td>2009</td><td>1</td><td>&quot;SEA&quot;</td><td>&quot;AL&quot;</td><td>3</td><td>6</td><td>73</td><td>0</td><td>0</td><td>0</td><td>38</td><td>214</td><td>49</td><td>20</td><td>4</td><td>34</td><td>80</td><td>0.19</td><td>2.52</td><td>3</td><td>2</td><td>0</td><td>0</td><td>296</td><td>53</td><td>23</td><td>2</td><td>1</td><td>2</td></tr></tbody></table></div>"
      ],
      "text/plain": [
       "shape: (5, 30)\n",
       "┌───────────┬────────┬───────┬────────┬───┬─────┬─────┬─────┬──────┐\n",
       "│ playerID  ┆ yearID ┆ stint ┆ teamID ┆ … ┆ R   ┆ SH  ┆ SF  ┆ GIDP │\n",
       "│ ---       ┆ ---    ┆ ---   ┆ ---    ┆   ┆ --- ┆ --- ┆ --- ┆ ---  │\n",
       "│ str       ┆ i64    ┆ i64   ┆ str    ┆   ┆ i64 ┆ i64 ┆ i64 ┆ i64  │\n",
       "╞═══════════╪════════╪═══════╪════════╪═══╪═════╪═════╪═════╪══════╡\n",
       "│ aardsda01 ┆ 2004   ┆ 1     ┆ SFN    ┆ … ┆ 8   ┆ 0   ┆ 1   ┆ 1    │\n",
       "│ aardsda01 ┆ 2006   ┆ 1     ┆ CHN    ┆ … ┆ 25  ┆ 1   ┆ 3   ┆ 2    │\n",
       "│ aardsda01 ┆ 2007   ┆ 1     ┆ CHA    ┆ … ┆ 24  ┆ 2   ┆ 1   ┆ 1    │\n",
       "│ aardsda01 ┆ 2008   ┆ 1     ┆ BOS    ┆ … ┆ 32  ┆ 3   ┆ 2   ┆ 4    │\n",
       "│ aardsda01 ┆ 2009   ┆ 1     ┆ SEA    ┆ … ┆ 23  ┆ 2   ┆ 1   ┆ 2    │\n",
       "└───────────┴────────┴───────┴────────┴───┴─────┴─────┴─────┴──────┘"
      ]
     },
     "execution_count": 93,
     "metadata": {},
     "output_type": "execute_result"
    }
   ],
   "source": [
    "pitching = pl.read_csv('./Data/Pitching.csv') \n",
    "pitching.head()"
   ]
  },
  {
   "cell_type": "code",
   "execution_count": 137,
   "id": "5329b432-52b0-414d-93a9-da79d03a0f9e",
   "metadata": {},
   "outputs": [
    {
     "name": "stdout",
     "output_type": "stream",
     "text": [
      "['1B', '3B', 'C2', 'C3', 'C4', 'RP', 'RF', '2nd Game', 'P2', None, 'DH', 'Co-MVP', 'OF', 'SS', 'P1', 'CF', 'C', 'LF', 'P4', 'C1', '2B', 'P6', 'Unanimous', 'SP', '1st Game', 'P5', 'UT', 'RHP', 'P', 'P3', 'LHP']\n"
     ]
    }
   ],
   "source": [
    "unique_notes = awardsPlayers['notes'].unique().to_list()\n",
    "print(unique_notes)"
   ]
  },
  {
   "cell_type": "code",
   "execution_count": 138,
   "id": "5648180e-55fb-4a04-ac4a-e2f8a746a6d1",
   "metadata": {},
   "outputs": [
    {
     "data": {
      "text/html": [
       "<div><style>\n",
       ".dataframe > thead > tr,\n",
       ".dataframe > tbody > tr {\n",
       "  text-align: right;\n",
       "  white-space: pre-wrap;\n",
       "}\n",
       "</style>\n",
       "<small>shape: (7,)</small><table border=\"1\" class=\"dataframe\"><thead><tr><th>POS</th></tr><tr><td>str</td></tr></thead><tbody><tr><td>&quot;SS&quot;</td></tr><tr><td>&quot;3B&quot;</td></tr><tr><td>&quot;P&quot;</td></tr><tr><td>&quot;OF&quot;</td></tr><tr><td>&quot;1B&quot;</td></tr><tr><td>&quot;C&quot;</td></tr><tr><td>&quot;2B&quot;</td></tr></tbody></table></div>"
      ],
      "text/plain": [
       "shape: (7,)\n",
       "Series: 'POS' [str]\n",
       "[\n",
       "\t\"SS\"\n",
       "\t\"3B\"\n",
       "\t\"P\"\n",
       "\t\"OF\"\n",
       "\t\"1B\"\n",
       "\t\"C\"\n",
       "\t\"2B\"\n",
       "]"
      ]
     },
     "execution_count": 138,
     "metadata": {},
     "output_type": "execute_result"
    }
   ],
   "source": [
    "fielding['POS'].unique()"
   ]
  },
  {
   "cell_type": "code",
   "execution_count": 177,
   "id": "5e5ab2e1-b57c-4c7f-bef5-00f134828af7",
   "metadata": {},
   "outputs": [
    {
     "data": {
      "text/html": [
       "<div><style>\n",
       ".dataframe > thead > tr,\n",
       ".dataframe > tbody > tr {\n",
       "  text-align: right;\n",
       "  white-space: pre-wrap;\n",
       "}\n",
       "</style>\n",
       "<small>shape: (441, 5)</small><table border=\"1\" class=\"dataframe\"><thead><tr><th>playerID</th><th>yearID</th><th>POS</th><th>lgID</th><th>GoldGloveWinner</th></tr><tr><td>str</td><td>i64</td><td>str</td><td>str</td><td>str</td></tr></thead><tbody><tr><td>&quot;abreujo02&quot;</td><td>2014</td><td>&quot;1B&quot;</td><td>&quot;AL&quot;</td><td>&quot;No&quot;</td></tr><tr><td>&quot;abreujo02&quot;</td><td>2018</td><td>&quot;1B&quot;</td><td>&quot;AL&quot;</td><td>&quot;No&quot;</td></tr><tr><td>&quot;abreujo02&quot;</td><td>2020</td><td>&quot;1B&quot;</td><td>&quot;AL&quot;</td><td>&quot;No&quot;</td></tr><tr><td>&quot;abreujo02&quot;</td><td>2022</td><td>&quot;1B&quot;</td><td>&quot;AL&quot;</td><td>&quot;No&quot;</td></tr><tr><td>&quot;acunaro01&quot;</td><td>2018</td><td>&quot;OF&quot;</td><td>&quot;NL&quot;</td><td>&quot;No&quot;</td></tr><tr><td>&hellip;</td><td>&hellip;</td><td>&hellip;</td><td>&hellip;</td><td>&hellip;</td></tr><tr><td>&quot;yateski01&quot;</td><td>2019</td><td>&quot;P&quot;</td><td>&quot;NL&quot;</td><td>&quot;No&quot;</td></tr><tr><td>&quot;yelicch01&quot;</td><td>2014</td><td>&quot;OF&quot;</td><td>&quot;NL&quot;</td><td>&quot;Yes&quot;</td></tr><tr><td>&quot;yelicch01&quot;</td><td>2016</td><td>&quot;OF&quot;</td><td>&quot;NL&quot;</td><td>&quot;No&quot;</td></tr><tr><td>&quot;yelicch01&quot;</td><td>2018</td><td>&quot;OF&quot;</td><td>&quot;NL&quot;</td><td>&quot;No&quot;</td></tr><tr><td>&quot;yelicch01&quot;</td><td>2019</td><td>&quot;OF&quot;</td><td>&quot;NL&quot;</td><td>&quot;No&quot;</td></tr></tbody></table></div>"
      ],
      "text/plain": [
       "shape: (441, 5)\n",
       "┌───────────┬────────┬─────┬──────┬─────────────────┐\n",
       "│ playerID  ┆ yearID ┆ POS ┆ lgID ┆ GoldGloveWinner │\n",
       "│ ---       ┆ ---    ┆ --- ┆ ---  ┆ ---             │\n",
       "│ str       ┆ i64    ┆ str ┆ str  ┆ str             │\n",
       "╞═══════════╪════════╪═════╪══════╪═════════════════╡\n",
       "│ abreujo02 ┆ 2014   ┆ 1B  ┆ AL   ┆ No              │\n",
       "│ abreujo02 ┆ 2018   ┆ 1B  ┆ AL   ┆ No              │\n",
       "│ abreujo02 ┆ 2020   ┆ 1B  ┆ AL   ┆ No              │\n",
       "│ abreujo02 ┆ 2022   ┆ 1B  ┆ AL   ┆ No              │\n",
       "│ acunaro01 ┆ 2018   ┆ OF  ┆ NL   ┆ No              │\n",
       "│ …         ┆ …      ┆ …   ┆ …    ┆ …               │\n",
       "│ yateski01 ┆ 2019   ┆ P   ┆ NL   ┆ No              │\n",
       "│ yelicch01 ┆ 2014   ┆ OF  ┆ NL   ┆ Yes             │\n",
       "│ yelicch01 ┆ 2016   ┆ OF  ┆ NL   ┆ No              │\n",
       "│ yelicch01 ┆ 2018   ┆ OF  ┆ NL   ┆ No              │\n",
       "│ yelicch01 ┆ 2019   ┆ OF  ┆ NL   ┆ No              │\n",
       "└───────────┴────────┴─────┴──────┴─────────────────┘"
      ]
     },
     "execution_count": 177,
     "metadata": {},
     "output_type": "execute_result"
    }
   ],
   "source": [
    "awardsPlayers_edit = (awardsPlayers\n",
    "                      .filter(pl.col('yearID') >= 2013)\n",
    "                      .rename({'notes': 'POS'})\n",
    "                      .with_columns(\n",
    "                          pl.when(pl.col('awardID') == 'Gold Glove')\n",
    "                          .then(pl.lit('Yes'))\n",
    "                          .otherwise(pl.lit('No'))\n",
    "                          .alias('GoldGloveWinner'),\n",
    "                          pl.when(pl.col('POS').is_in(['SS']))\n",
    "                          .then(pl.lit('SS'))\n",
    "                          .when(pl.col('POS').is_in(['3B']))\n",
    "                          .then(pl.lit('3B'))\n",
    "                          .when(pl.col('POS').is_in(['P', 'RP', 'SP', 'LHP', 'RHP','P1', 'P2', 'P3', 'P4', 'P5', 'P6']))\n",
    "                          .then(pl.lit('P'))\n",
    "                          .when(pl.col('POS').is_in(['OF', 'RF', 'LF', 'CF', 'UT']))\n",
    "                          .then(pl.lit('OF'))\n",
    "                          .when(pl.col('POS').is_in(['1B']))\n",
    "                          .then(pl.lit('1B'))\n",
    "                          .when(pl.col('POS').is_in(['C', 'C1', 'C2', 'C3', 'C4']))\n",
    "                          .then(pl.lit('C'))\n",
    "                          .when(pl.col('POS').is_in(['2B']))\n",
    "                          .then(pl.lit('2B'))\n",
    "                          .otherwise(pl.col('POS')) \n",
    "                          .alias('POS')\n",
    "                      )\n",
    "                      .select(pl.col('playerID'), pl.col('yearID'), pl.col('GoldGloveWinner'), pl.col('POS'), pl.col('lgID'))\n",
    "                        .group_by(['playerID', 'yearID', 'POS', 'lgID'])\n",
    "                       .agg(\n",
    "                            pl.max('GoldGloveWinner').alias('GoldGloveWinner')\n",
    "                       )\n",
    "                     .filter(pl.col('POS').is_not_null())\n",
    "                      .sort(pl.col('playerID'), pl.col('yearID'))\n",
    "                     )\n",
    "\n",
    "awardsPlayers_edit"
   ]
  },
  {
   "cell_type": "code",
   "execution_count": 159,
   "id": "6de700d5-c6d9-463c-886b-a27141614f86",
   "metadata": {},
   "outputs": [
    {
     "name": "stdout",
     "output_type": "stream",
     "text": [
      "['Co-MVP', 'Unanimous', 'SS', '3B', None, 'P', 'DH', '2B', 'C', '1B', 'OF']\n"
     ]
    }
   ],
   "source": [
    "unique_notes2 = awardsPlayers_edit['POS'].unique().to_list()\n",
    "print(unique_notes2)"
   ]
  },
  {
   "cell_type": "code",
   "execution_count": 178,
   "id": "6764c85c-ed5d-404c-98f4-0bed444c4e33",
   "metadata": {},
   "outputs": [
    {
     "data": {
      "text/html": [
       "<div><style>\n",
       ".dataframe > thead > tr,\n",
       ".dataframe > tbody > tr {\n",
       "  text-align: right;\n",
       "  white-space: pre-wrap;\n",
       "}\n",
       "</style>\n",
       "<small>shape: (21_356, 11)</small><table border=\"1\" class=\"dataframe\"><thead><tr><th>yearID</th><th>playerID</th><th>POS</th><th>lgID</th><th>G</th><th>GS</th><th>InnOuts</th><th>PO</th><th>A</th><th>DP</th><th>stint</th></tr><tr><td>i64</td><td>str</td><td>str</td><td>str</td><td>i64</td><td>i64</td><td>i64</td><td>i64</td><td>i64</td><td>i64</td><td>i64</td></tr></thead><tbody><tr><td>2013</td><td>&quot;aardsda01&quot;</td><td>&quot;P&quot;</td><td>&quot;NL&quot;</td><td>43</td><td>0</td><td>119</td><td>1</td><td>5</td><td>0</td><td>1</td></tr><tr><td>2015</td><td>&quot;aardsda01&quot;</td><td>&quot;P&quot;</td><td>&quot;NL&quot;</td><td>33</td><td>0</td><td>92</td><td>0</td><td>1</td><td>0</td><td>1</td></tr><tr><td>2013</td><td>&quot;abadfe01&quot;</td><td>&quot;P&quot;</td><td>&quot;NL&quot;</td><td>39</td><td>0</td><td>113</td><td>1</td><td>4</td><td>0</td><td>1</td></tr><tr><td>2014</td><td>&quot;abadfe01&quot;</td><td>&quot;P&quot;</td><td>&quot;AL&quot;</td><td>69</td><td>0</td><td>172</td><td>0</td><td>8</td><td>0</td><td>1</td></tr><tr><td>2015</td><td>&quot;abadfe01&quot;</td><td>&quot;P&quot;</td><td>&quot;AL&quot;</td><td>62</td><td>0</td><td>143</td><td>2</td><td>4</td><td>0</td><td>1</td></tr><tr><td>&hellip;</td><td>&hellip;</td><td>&hellip;</td><td>&hellip;</td><td>&hellip;</td><td>&hellip;</td><td>&hellip;</td><td>&hellip;</td><td>&hellip;</td><td>&hellip;</td><td>&hellip;</td></tr><tr><td>2022</td><td>&quot;zuninmi01&quot;</td><td>&quot;C&quot;</td><td>&quot;AL&quot;</td><td>35</td><td>34</td><td>898</td><td>283</td><td>9</td><td>0</td><td>1</td></tr><tr><td>2023</td><td>&quot;zuninmi01&quot;</td><td>&quot;C&quot;</td><td>&quot;AL&quot;</td><td>42</td><td>41</td><td>1019</td><td>276</td><td>17</td><td>2</td><td>1</td></tr><tr><td>2015</td><td>&quot;zychto01&quot;</td><td>&quot;P&quot;</td><td>&quot;AL&quot;</td><td>13</td><td>1</td><td>55</td><td>0</td><td>3</td><td>0</td><td>1</td></tr><tr><td>2016</td><td>&quot;zychto01&quot;</td><td>&quot;P&quot;</td><td>&quot;AL&quot;</td><td>12</td><td>0</td><td>41</td><td>0</td><td>0</td><td>0</td><td>1</td></tr><tr><td>2017</td><td>&quot;zychto01&quot;</td><td>&quot;P&quot;</td><td>&quot;AL&quot;</td><td>45</td><td>0</td><td>122</td><td>1</td><td>3</td><td>0</td><td>1</td></tr></tbody></table></div>"
      ],
      "text/plain": [
       "shape: (21_356, 11)\n",
       "┌────────┬───────────┬─────┬──────┬───┬─────┬─────┬─────┬───────┐\n",
       "│ yearID ┆ playerID  ┆ POS ┆ lgID ┆ … ┆ PO  ┆ A   ┆ DP  ┆ stint │\n",
       "│ ---    ┆ ---       ┆ --- ┆ ---  ┆   ┆ --- ┆ --- ┆ --- ┆ ---   │\n",
       "│ i64    ┆ str       ┆ str ┆ str  ┆   ┆ i64 ┆ i64 ┆ i64 ┆ i64   │\n",
       "╞════════╪═══════════╪═════╪══════╪═══╪═════╪═════╪═════╪═══════╡\n",
       "│ 2013   ┆ aardsda01 ┆ P   ┆ NL   ┆ … ┆ 1   ┆ 5   ┆ 0   ┆ 1     │\n",
       "│ 2015   ┆ aardsda01 ┆ P   ┆ NL   ┆ … ┆ 0   ┆ 1   ┆ 0   ┆ 1     │\n",
       "│ 2013   ┆ abadfe01  ┆ P   ┆ NL   ┆ … ┆ 1   ┆ 4   ┆ 0   ┆ 1     │\n",
       "│ 2014   ┆ abadfe01  ┆ P   ┆ AL   ┆ … ┆ 0   ┆ 8   ┆ 0   ┆ 1     │\n",
       "│ 2015   ┆ abadfe01  ┆ P   ┆ AL   ┆ … ┆ 2   ┆ 4   ┆ 0   ┆ 1     │\n",
       "│ …      ┆ …         ┆ …   ┆ …    ┆ … ┆ …   ┆ …   ┆ …   ┆ …     │\n",
       "│ 2022   ┆ zuninmi01 ┆ C   ┆ AL   ┆ … ┆ 283 ┆ 9   ┆ 0   ┆ 1     │\n",
       "│ 2023   ┆ zuninmi01 ┆ C   ┆ AL   ┆ … ┆ 276 ┆ 17  ┆ 2   ┆ 1     │\n",
       "│ 2015   ┆ zychto01  ┆ P   ┆ AL   ┆ … ┆ 0   ┆ 3   ┆ 0   ┆ 1     │\n",
       "│ 2016   ┆ zychto01  ┆ P   ┆ AL   ┆ … ┆ 0   ┆ 0   ┆ 0   ┆ 1     │\n",
       "│ 2017   ┆ zychto01  ┆ P   ┆ AL   ┆ … ┆ 1   ┆ 3   ┆ 0   ┆ 1     │\n",
       "└────────┴───────────┴─────┴──────┴───┴─────┴─────┴─────┴───────┘"
      ]
     },
     "execution_count": 178,
     "metadata": {},
     "output_type": "execute_result"
    }
   ],
   "source": [
    "fielding_edit = (fielding\n",
    "                 .filter(pl.col('yearID') >= 2013)\n",
    "                 .group_by(pl.col('yearID'), pl.col('playerID'), pl.col('POS'), pl.col('lgID'))\n",
    "                 .agg(pl.col('G').sum(), pl.col('GS').sum(), pl.col('InnOuts').sum(), pl.col('PO').sum(), pl.col('A').sum(), pl.col('DP').sum(),\n",
    "                      pl.col('stint').sum())\n",
    "                 .sort(pl.col('playerID'), pl.col('yearID'))\n",
    "                )\n",
    "fielding_edit"
   ]
  },
  {
   "cell_type": "code",
   "execution_count": 181,
   "id": "f200db9f-df36-4891-a2b3-9f55db6a0e2b",
   "metadata": {},
   "outputs": [
    {
     "data": {
      "text/html": [
       "<div><style>\n",
       ".dataframe > thead > tr,\n",
       ".dataframe > tbody > tr {\n",
       "  text-align: right;\n",
       "  white-space: pre-wrap;\n",
       "}\n",
       "</style>\n",
       "<small>shape: (441, 12)</small><table border=\"1\" class=\"dataframe\"><thead><tr><th>playerID</th><th>yearID</th><th>POS</th><th>lgID</th><th>GoldGloveWinner</th><th>G</th><th>GS</th><th>InnOuts</th><th>PO</th><th>A</th><th>DP</th><th>stint</th></tr><tr><td>str</td><td>i64</td><td>str</td><td>str</td><td>str</td><td>i64</td><td>i64</td><td>i64</td><td>i64</td><td>i64</td><td>i64</td><td>i64</td></tr></thead><tbody><tr><td>&quot;abreujo02&quot;</td><td>2014</td><td>&quot;1B&quot;</td><td>&quot;AL&quot;</td><td>&quot;No&quot;</td><td>109</td><td>109</td><td>2872</td><td>970</td><td>69</td><td>105</td><td>1</td></tr><tr><td>&quot;abreujo02&quot;</td><td>2018</td><td>&quot;1B&quot;</td><td>&quot;AL&quot;</td><td>&quot;No&quot;</td><td>114</td><td>114</td><td>2999</td><td>903</td><td>73</td><td>81</td><td>1</td></tr><tr><td>&quot;abreujo02&quot;</td><td>2020</td><td>&quot;1B&quot;</td><td>&quot;AL&quot;</td><td>&quot;No&quot;</td><td>54</td><td>54</td><td>1410</td><td>430</td><td>27</td><td>39</td><td>1</td></tr><tr><td>&quot;abreujo02&quot;</td><td>2022</td><td>&quot;1B&quot;</td><td>&quot;AL&quot;</td><td>&quot;No&quot;</td><td>128</td><td>128</td><td>3409</td><td>954</td><td>51</td><td>96</td><td>1</td></tr><tr><td>&quot;acunaro01&quot;</td><td>2018</td><td>&quot;OF&quot;</td><td>&quot;NL&quot;</td><td>&quot;No&quot;</td><td>108</td><td>107</td><td>2808</td><td>184</td><td>3</td><td>0</td><td>1</td></tr><tr><td>&hellip;</td><td>&hellip;</td><td>&hellip;</td><td>&hellip;</td><td>&hellip;</td><td>&hellip;</td><td>&hellip;</td><td>&hellip;</td><td>&hellip;</td><td>&hellip;</td><td>&hellip;</td><td>&hellip;</td></tr><tr><td>&quot;yateski01&quot;</td><td>2019</td><td>&quot;P&quot;</td><td>&quot;NL&quot;</td><td>&quot;No&quot;</td><td>60</td><td>0</td><td>182</td><td>6</td><td>5</td><td>1</td><td>1</td></tr><tr><td>&quot;yelicch01&quot;</td><td>2014</td><td>&quot;OF&quot;</td><td>&quot;NL&quot;</td><td>&quot;Yes&quot;</td><td>144</td><td>142</td><td>3776</td><td>271</td><td>6</td><td>1</td><td>1</td></tr><tr><td>&quot;yelicch01&quot;</td><td>2016</td><td>&quot;OF&quot;</td><td>&quot;NL&quot;</td><td>&quot;No&quot;</td><td>149</td><td>149</td><td>3957</td><td>260</td><td>6</td><td>1</td><td>1</td></tr><tr><td>&quot;yelicch01&quot;</td><td>2018</td><td>&quot;OF&quot;</td><td>&quot;NL&quot;</td><td>&quot;No&quot;</td><td>145</td><td>144</td><td>3807</td><td>266</td><td>4</td><td>1</td><td>1</td></tr><tr><td>&quot;yelicch01&quot;</td><td>2019</td><td>&quot;OF&quot;</td><td>&quot;NL&quot;</td><td>&quot;No&quot;</td><td>124</td><td>125</td><td>3279</td><td>225</td><td>7</td><td>2</td><td>1</td></tr></tbody></table></div>"
      ],
      "text/plain": [
       "shape: (441, 12)\n",
       "┌───────────┬────────┬─────┬──────┬───┬─────┬─────┬─────┬───────┐\n",
       "│ playerID  ┆ yearID ┆ POS ┆ lgID ┆ … ┆ PO  ┆ A   ┆ DP  ┆ stint │\n",
       "│ ---       ┆ ---    ┆ --- ┆ ---  ┆   ┆ --- ┆ --- ┆ --- ┆ ---   │\n",
       "│ str       ┆ i64    ┆ str ┆ str  ┆   ┆ i64 ┆ i64 ┆ i64 ┆ i64   │\n",
       "╞═══════════╪════════╪═════╪══════╪═══╪═════╪═════╪═════╪═══════╡\n",
       "│ abreujo02 ┆ 2014   ┆ 1B  ┆ AL   ┆ … ┆ 970 ┆ 69  ┆ 105 ┆ 1     │\n",
       "│ abreujo02 ┆ 2018   ┆ 1B  ┆ AL   ┆ … ┆ 903 ┆ 73  ┆ 81  ┆ 1     │\n",
       "│ abreujo02 ┆ 2020   ┆ 1B  ┆ AL   ┆ … ┆ 430 ┆ 27  ┆ 39  ┆ 1     │\n",
       "│ abreujo02 ┆ 2022   ┆ 1B  ┆ AL   ┆ … ┆ 954 ┆ 51  ┆ 96  ┆ 1     │\n",
       "│ acunaro01 ┆ 2018   ┆ OF  ┆ NL   ┆ … ┆ 184 ┆ 3   ┆ 0   ┆ 1     │\n",
       "│ …         ┆ …      ┆ …   ┆ …    ┆ … ┆ …   ┆ …   ┆ …   ┆ …     │\n",
       "│ yateski01 ┆ 2019   ┆ P   ┆ NL   ┆ … ┆ 6   ┆ 5   ┆ 1   ┆ 1     │\n",
       "│ yelicch01 ┆ 2014   ┆ OF  ┆ NL   ┆ … ┆ 271 ┆ 6   ┆ 1   ┆ 1     │\n",
       "│ yelicch01 ┆ 2016   ┆ OF  ┆ NL   ┆ … ┆ 260 ┆ 6   ┆ 1   ┆ 1     │\n",
       "│ yelicch01 ┆ 2018   ┆ OF  ┆ NL   ┆ … ┆ 266 ┆ 4   ┆ 1   ┆ 1     │\n",
       "│ yelicch01 ┆ 2019   ┆ OF  ┆ NL   ┆ … ┆ 225 ┆ 7   ┆ 2   ┆ 1     │\n",
       "└───────────┴────────┴─────┴──────┴───┴─────┴─────┴─────┴───────┘"
      ]
     },
     "execution_count": 181,
     "metadata": {},
     "output_type": "execute_result"
    }
   ],
   "source": [
    "fieldingAwards = (awardsPlayers_edit\n",
    "                  .join(fielding_edit, on=['yearID', 'playerID', 'POS', 'lgID'], how='left')\n",
    "                 )\n",
    "fieldingAwards"
   ]
  },
  {
   "cell_type": "code",
   "execution_count": 182,
   "id": "8fd768ce-f495-4d20-913a-1f637e1dbc22",
   "metadata": {},
   "outputs": [
    {
     "data": {
      "text/html": [
       "<div><style>\n",
       ".dataframe > thead > tr,\n",
       ".dataframe > tbody > tr {\n",
       "  text-align: right;\n",
       "  white-space: pre-wrap;\n",
       "}\n",
       "</style>\n",
       "<small>shape: (441, 13)</small><table border=\"1\" class=\"dataframe\"><thead><tr><th>playerID</th><th>yearID</th><th>POS</th><th>lgID</th><th>GoldGloveWinner</th><th>G</th><th>GS</th><th>InnOuts</th><th>PO</th><th>A</th><th>DP</th><th>stint</th><th>Training_Validation</th></tr><tr><td>str</td><td>i64</td><td>str</td><td>str</td><td>str</td><td>i64</td><td>i64</td><td>i64</td><td>i64</td><td>i64</td><td>i64</td><td>i64</td><td>str</td></tr></thead><tbody><tr><td>&quot;abreujo02&quot;</td><td>2014</td><td>&quot;1B&quot;</td><td>&quot;AL&quot;</td><td>&quot;No&quot;</td><td>109</td><td>109</td><td>2872</td><td>970</td><td>69</td><td>105</td><td>1</td><td>&quot;Training&quot;</td></tr><tr><td>&quot;abreujo02&quot;</td><td>2018</td><td>&quot;1B&quot;</td><td>&quot;AL&quot;</td><td>&quot;No&quot;</td><td>114</td><td>114</td><td>2999</td><td>903</td><td>73</td><td>81</td><td>1</td><td>&quot;Training&quot;</td></tr><tr><td>&quot;abreujo02&quot;</td><td>2020</td><td>&quot;1B&quot;</td><td>&quot;AL&quot;</td><td>&quot;No&quot;</td><td>54</td><td>54</td><td>1410</td><td>430</td><td>27</td><td>39</td><td>1</td><td>&quot;Training&quot;</td></tr><tr><td>&quot;abreujo02&quot;</td><td>2022</td><td>&quot;1B&quot;</td><td>&quot;AL&quot;</td><td>&quot;No&quot;</td><td>128</td><td>128</td><td>3409</td><td>954</td><td>51</td><td>96</td><td>1</td><td>&quot;Training&quot;</td></tr><tr><td>&quot;acunaro01&quot;</td><td>2018</td><td>&quot;OF&quot;</td><td>&quot;NL&quot;</td><td>&quot;No&quot;</td><td>108</td><td>107</td><td>2808</td><td>184</td><td>3</td><td>0</td><td>1</td><td>&quot;Training&quot;</td></tr><tr><td>&hellip;</td><td>&hellip;</td><td>&hellip;</td><td>&hellip;</td><td>&hellip;</td><td>&hellip;</td><td>&hellip;</td><td>&hellip;</td><td>&hellip;</td><td>&hellip;</td><td>&hellip;</td><td>&hellip;</td><td>&hellip;</td></tr><tr><td>&quot;yateski01&quot;</td><td>2019</td><td>&quot;P&quot;</td><td>&quot;NL&quot;</td><td>&quot;No&quot;</td><td>60</td><td>0</td><td>182</td><td>6</td><td>5</td><td>1</td><td>1</td><td>&quot;Training&quot;</td></tr><tr><td>&quot;yelicch01&quot;</td><td>2014</td><td>&quot;OF&quot;</td><td>&quot;NL&quot;</td><td>&quot;Yes&quot;</td><td>144</td><td>142</td><td>3776</td><td>271</td><td>6</td><td>1</td><td>1</td><td>&quot;Training&quot;</td></tr><tr><td>&quot;yelicch01&quot;</td><td>2016</td><td>&quot;OF&quot;</td><td>&quot;NL&quot;</td><td>&quot;No&quot;</td><td>149</td><td>149</td><td>3957</td><td>260</td><td>6</td><td>1</td><td>1</td><td>&quot;Training&quot;</td></tr><tr><td>&quot;yelicch01&quot;</td><td>2018</td><td>&quot;OF&quot;</td><td>&quot;NL&quot;</td><td>&quot;No&quot;</td><td>145</td><td>144</td><td>3807</td><td>266</td><td>4</td><td>1</td><td>1</td><td>&quot;Training&quot;</td></tr><tr><td>&quot;yelicch01&quot;</td><td>2019</td><td>&quot;OF&quot;</td><td>&quot;NL&quot;</td><td>&quot;No&quot;</td><td>124</td><td>125</td><td>3279</td><td>225</td><td>7</td><td>2</td><td>1</td><td>&quot;Training&quot;</td></tr></tbody></table></div>"
      ],
      "text/plain": [
       "shape: (441, 13)\n",
       "┌───────────┬────────┬─────┬──────┬───┬─────┬─────┬───────┬─────────────────────┐\n",
       "│ playerID  ┆ yearID ┆ POS ┆ lgID ┆ … ┆ A   ┆ DP  ┆ stint ┆ Training_Validation │\n",
       "│ ---       ┆ ---    ┆ --- ┆ ---  ┆   ┆ --- ┆ --- ┆ ---   ┆ ---                 │\n",
       "│ str       ┆ i64    ┆ str ┆ str  ┆   ┆ i64 ┆ i64 ┆ i64   ┆ str                 │\n",
       "╞═══════════╪════════╪═════╪══════╪═══╪═════╪═════╪═══════╪═════════════════════╡\n",
       "│ abreujo02 ┆ 2014   ┆ 1B  ┆ AL   ┆ … ┆ 69  ┆ 105 ┆ 1     ┆ Training            │\n",
       "│ abreujo02 ┆ 2018   ┆ 1B  ┆ AL   ┆ … ┆ 73  ┆ 81  ┆ 1     ┆ Training            │\n",
       "│ abreujo02 ┆ 2020   ┆ 1B  ┆ AL   ┆ … ┆ 27  ┆ 39  ┆ 1     ┆ Training            │\n",
       "│ abreujo02 ┆ 2022   ┆ 1B  ┆ AL   ┆ … ┆ 51  ┆ 96  ┆ 1     ┆ Training            │\n",
       "│ acunaro01 ┆ 2018   ┆ OF  ┆ NL   ┆ … ┆ 3   ┆ 0   ┆ 1     ┆ Training            │\n",
       "│ …         ┆ …      ┆ …   ┆ …    ┆ … ┆ …   ┆ …   ┆ …     ┆ …                   │\n",
       "│ yateski01 ┆ 2019   ┆ P   ┆ NL   ┆ … ┆ 5   ┆ 1   ┆ 1     ┆ Training            │\n",
       "│ yelicch01 ┆ 2014   ┆ OF  ┆ NL   ┆ … ┆ 6   ┆ 1   ┆ 1     ┆ Training            │\n",
       "│ yelicch01 ┆ 2016   ┆ OF  ┆ NL   ┆ … ┆ 6   ┆ 1   ┆ 1     ┆ Training            │\n",
       "│ yelicch01 ┆ 2018   ┆ OF  ┆ NL   ┆ … ┆ 4   ┆ 1   ┆ 1     ┆ Training            │\n",
       "│ yelicch01 ┆ 2019   ┆ OF  ┆ NL   ┆ … ┆ 7   ┆ 2   ┆ 1     ┆ Training            │\n",
       "└───────────┴────────┴─────┴──────┴───┴─────┴─────┴───────┴─────────────────────┘"
      ]
     },
     "execution_count": 182,
     "metadata": {},
     "output_type": "execute_result"
    }
   ],
   "source": [
    "q1_table = (fieldingAwards\n",
    "    .with_columns(\n",
    "        pl.when(pl.col('yearID') == 2023)\n",
    "        .then(pl.lit('Validation'))\n",
    "        .otherwise(pl.lit('Training'))\n",
    "        .alias('Training_Validation')\n",
    "    ))\n",
    "q1_table"
   ]
  },
  {
   "cell_type": "code",
   "execution_count": 183,
   "id": "0eb0d7be-2308-4972-9475-6e9e692ca8b9",
   "metadata": {},
   "outputs": [
    {
     "data": {
      "text/html": [
       "<div><style>\n",
       ".dataframe > thead > tr,\n",
       ".dataframe > tbody > tr {\n",
       "  text-align: right;\n",
       "  white-space: pre-wrap;\n",
       "}\n",
       "</style>\n",
       "<small>shape: (3_285, 3)</small><table border=\"1\" class=\"dataframe\"><thead><tr><th>yearID</th><th>playerID</th><th>salary</th></tr><tr><td>i64</td><td>str</td><td>i64</td></tr></thead><tbody><tr><td>2014</td><td>&quot;abadfe01&quot;</td><td>525900</td></tr><tr><td>2015</td><td>&quot;abadfe01&quot;</td><td>1087500</td></tr><tr><td>2016</td><td>&quot;abadfe01&quot;</td><td>1250000</td></tr><tr><td>2014</td><td>&quot;abreujo02&quot;</td><td>7000000</td></tr><tr><td>2015</td><td>&quot;abreujo02&quot;</td><td>8666000</td></tr><tr><td>&hellip;</td><td>&hellip;</td><td>&hellip;</td></tr><tr><td>2015</td><td>&quot;zobribe01&quot;</td><td>7500000</td></tr><tr><td>2016</td><td>&quot;zobribe01&quot;</td><td>10500000</td></tr><tr><td>2014</td><td>&quot;zuninmi01&quot;</td><td>504100</td></tr><tr><td>2015</td><td>&quot;zuninmi01&quot;</td><td>523500</td></tr><tr><td>2016</td><td>&quot;zychto01&quot;</td><td>511000</td></tr></tbody></table></div>"
      ],
      "text/plain": [
       "shape: (3_285, 3)\n",
       "┌────────┬───────────┬──────────┐\n",
       "│ yearID ┆ playerID  ┆ salary   │\n",
       "│ ---    ┆ ---       ┆ ---      │\n",
       "│ i64    ┆ str       ┆ i64      │\n",
       "╞════════╪═══════════╪══════════╡\n",
       "│ 2014   ┆ abadfe01  ┆ 525900   │\n",
       "│ 2015   ┆ abadfe01  ┆ 1087500  │\n",
       "│ 2016   ┆ abadfe01  ┆ 1250000  │\n",
       "│ 2014   ┆ abreujo02 ┆ 7000000  │\n",
       "│ 2015   ┆ abreujo02 ┆ 8666000  │\n",
       "│ …      ┆ …         ┆ …        │\n",
       "│ 2015   ┆ zobribe01 ┆ 7500000  │\n",
       "│ 2016   ┆ zobribe01 ┆ 10500000 │\n",
       "│ 2014   ┆ zuninmi01 ┆ 504100   │\n",
       "│ 2015   ┆ zuninmi01 ┆ 523500   │\n",
       "│ 2016   ┆ zychto01  ┆ 511000   │\n",
       "└────────┴───────────┴──────────┘"
      ]
     },
     "execution_count": 183,
     "metadata": {},
     "output_type": "execute_result"
    }
   ],
   "source": [
    "salaries_edit = (salaries\n",
    "               .filter(pl.col('yearID') >= 2013)\n",
    "                 .group_by(pl.col('yearID'), pl.col('playerID'))\n",
    "                 .agg(pl.col('salary').sum())\n",
    "                 .sort(pl.col('playerID'), pl.col('yearID'))\n",
    "              )\n",
    "salaries_edit"
   ]
  },
  {
   "cell_type": "code",
   "execution_count": 184,
   "id": "4a644f79-a110-4b90-a86a-82ba86c491b1",
   "metadata": {},
   "outputs": [
    {
     "data": {
      "text/html": [
       "<div><style>\n",
       ".dataframe > thead > tr,\n",
       ".dataframe > tbody > tr {\n",
       "  text-align: right;\n",
       "  white-space: pre-wrap;\n",
       "}\n",
       "</style>\n",
       "<small>shape: (9_068, 29)</small><table border=\"1\" class=\"dataframe\"><thead><tr><th>yearID</th><th>playerID</th><th>lgID</th><th>W</th><th>L</th><th>G</th><th>GS</th><th>CG</th><th>SHO</th><th>SV</th><th>IPouts</th><th>H</th><th>ER</th><th>HR</th><th>BB</th><th>SO</th><th>BAOpp</th><th>ERA</th><th>IBB</th><th>WP</th><th>HBP</th><th>BK</th><th>BFP</th><th>GF</th><th>R</th><th>SH</th><th>SF</th><th>GIDP</th><th>stint</th></tr><tr><td>i64</td><td>str</td><td>str</td><td>i64</td><td>i64</td><td>i64</td><td>i64</td><td>i64</td><td>i64</td><td>i64</td><td>i64</td><td>i64</td><td>i64</td><td>i64</td><td>i64</td><td>i64</td><td>f64</td><td>f64</td><td>i64</td><td>i64</td><td>i64</td><td>i64</td><td>i64</td><td>i64</td><td>i64</td><td>i64</td><td>i64</td><td>i64</td><td>i64</td></tr></thead><tbody><tr><td>2013</td><td>&quot;aardsda01&quot;</td><td>&quot;NL&quot;</td><td>2</td><td>2</td><td>43</td><td>0</td><td>0</td><td>0</td><td>0</td><td>119</td><td>39</td><td>19</td><td>7</td><td>19</td><td>36</td><td>0.257</td><td>4.31</td><td>6</td><td>1</td><td>4</td><td>1</td><td>178</td><td>7</td><td>20</td><td>2</td><td>1</td><td>2</td><td>1</td></tr><tr><td>2015</td><td>&quot;aardsda01&quot;</td><td>&quot;NL&quot;</td><td>1</td><td>1</td><td>33</td><td>0</td><td>0</td><td>0</td><td>0</td><td>92</td><td>25</td><td>16</td><td>6</td><td>14</td><td>35</td><td>0.223</td><td>4.7</td><td>3</td><td>1</td><td>1</td><td>0</td><td>129</td><td>9</td><td>17</td><td>0</td><td>1</td><td>4</td><td>1</td></tr><tr><td>2013</td><td>&quot;abadfe01&quot;</td><td>&quot;NL&quot;</td><td>0</td><td>3</td><td>39</td><td>0</td><td>0</td><td>0</td><td>0</td><td>113</td><td>42</td><td>14</td><td>3</td><td>10</td><td>32</td><td>0.271</td><td>3.35</td><td>0</td><td>0</td><td>1</td><td>0</td><td>166</td><td>17</td><td>14</td><td>0</td><td>0</td><td>0</td><td>1</td></tr><tr><td>2014</td><td>&quot;abadfe01&quot;</td><td>&quot;AL&quot;</td><td>2</td><td>4</td><td>69</td><td>0</td><td>0</td><td>0</td><td>0</td><td>172</td><td>34</td><td>10</td><td>4</td><td>15</td><td>51</td><td>0.175</td><td>1.57</td><td>3</td><td>0</td><td>4</td><td>0</td><td>216</td><td>17</td><td>11</td><td>1</td><td>2</td><td>6</td><td>1</td></tr><tr><td>2015</td><td>&quot;abadfe01&quot;</td><td>&quot;AL&quot;</td><td>2</td><td>2</td><td>62</td><td>0</td><td>0</td><td>0</td><td>0</td><td>143</td><td>45</td><td>22</td><td>11</td><td>19</td><td>45</td><td>0.251</td><td>4.15</td><td>3</td><td>4</td><td>1</td><td>0</td><td>205</td><td>17</td><td>23</td><td>3</td><td>3</td><td>1</td><td>1</td></tr><tr><td>&hellip;</td><td>&hellip;</td><td>&hellip;</td><td>&hellip;</td><td>&hellip;</td><td>&hellip;</td><td>&hellip;</td><td>&hellip;</td><td>&hellip;</td><td>&hellip;</td><td>&hellip;</td><td>&hellip;</td><td>&hellip;</td><td>&hellip;</td><td>&hellip;</td><td>&hellip;</td><td>&hellip;</td><td>&hellip;</td><td>&hellip;</td><td>&hellip;</td><td>&hellip;</td><td>&hellip;</td><td>&hellip;</td><td>&hellip;</td><td>&hellip;</td><td>&hellip;</td><td>&hellip;</td><td>&hellip;</td><td>&hellip;</td></tr><tr><td>2021</td><td>&quot;zuberty01&quot;</td><td>&quot;AL&quot;</td><td>0</td><td>3</td><td>31</td><td>0</td><td>0</td><td>0</td><td>0</td><td>82</td><td>26</td><td>19</td><td>6</td><td>17</td><td>25</td><td>0.25</td><td>6.26</td><td>1</td><td>2</td><td>1</td><td>0</td><td>123</td><td>6</td><td>20</td><td>0</td><td>1</td><td>2</td><td>1</td></tr><tr><td>2023</td><td>&quot;zuniggu01&quot;</td><td>&quot;NL&quot;</td><td>0</td><td>0</td><td>2</td><td>0</td><td>0</td><td>0</td><td>0</td><td>6</td><td>2</td><td>1</td><td>0</td><td>0</td><td>4</td><td>0.25</td><td>4.5</td><td>0</td><td>0</td><td>0</td><td>0</td><td>8</td><td>2</td><td>1</td><td>0</td><td>0</td><td>0</td><td>1</td></tr><tr><td>2015</td><td>&quot;zychto01&quot;</td><td>&quot;AL&quot;</td><td>0</td><td>0</td><td>13</td><td>1</td><td>0</td><td>0</td><td>0</td><td>55</td><td>17</td><td>5</td><td>1</td><td>3</td><td>24</td><td>0.239</td><td>2.45</td><td>0</td><td>1</td><td>2</td><td>0</td><td>76</td><td>4</td><td>6</td><td>0</td><td>0</td><td>0</td><td>1</td></tr><tr><td>2016</td><td>&quot;zychto01&quot;</td><td>&quot;AL&quot;</td><td>1</td><td>0</td><td>12</td><td>0</td><td>0</td><td>0</td><td>0</td><td>41</td><td>10</td><td>5</td><td>0</td><td>10</td><td>21</td><td>0.208</td><td>3.29</td><td>2</td><td>0</td><td>1</td><td>0</td><td>60</td><td>3</td><td>6</td><td>0</td><td>1</td><td>1</td><td>1</td></tr><tr><td>2017</td><td>&quot;zychto01&quot;</td><td>&quot;AL&quot;</td><td>6</td><td>3</td><td>45</td><td>0</td><td>0</td><td>0</td><td>1</td><td>122</td><td>30</td><td>12</td><td>2</td><td>21</td><td>35</td><td>0.208</td><td>2.66</td><td>3</td><td>1</td><td>5</td><td>1</td><td>173</td><td>7</td><td>12</td><td>1</td><td>2</td><td>5</td><td>1</td></tr></tbody></table></div>"
      ],
      "text/plain": [
       "shape: (9_068, 29)\n",
       "┌────────┬───────────┬──────┬─────┬───┬─────┬─────┬──────┬───────┐\n",
       "│ yearID ┆ playerID  ┆ lgID ┆ W   ┆ … ┆ SH  ┆ SF  ┆ GIDP ┆ stint │\n",
       "│ ---    ┆ ---       ┆ ---  ┆ --- ┆   ┆ --- ┆ --- ┆ ---  ┆ ---   │\n",
       "│ i64    ┆ str       ┆ str  ┆ i64 ┆   ┆ i64 ┆ i64 ┆ i64  ┆ i64   │\n",
       "╞════════╪═══════════╪══════╪═════╪═══╪═════╪═════╪══════╪═══════╡\n",
       "│ 2013   ┆ aardsda01 ┆ NL   ┆ 2   ┆ … ┆ 2   ┆ 1   ┆ 2    ┆ 1     │\n",
       "│ 2015   ┆ aardsda01 ┆ NL   ┆ 1   ┆ … ┆ 0   ┆ 1   ┆ 4    ┆ 1     │\n",
       "│ 2013   ┆ abadfe01  ┆ NL   ┆ 0   ┆ … ┆ 0   ┆ 0   ┆ 0    ┆ 1     │\n",
       "│ 2014   ┆ abadfe01  ┆ AL   ┆ 2   ┆ … ┆ 1   ┆ 2   ┆ 6    ┆ 1     │\n",
       "│ 2015   ┆ abadfe01  ┆ AL   ┆ 2   ┆ … ┆ 3   ┆ 3   ┆ 1    ┆ 1     │\n",
       "│ …      ┆ …         ┆ …    ┆ …   ┆ … ┆ …   ┆ …   ┆ …    ┆ …     │\n",
       "│ 2021   ┆ zuberty01 ┆ AL   ┆ 0   ┆ … ┆ 0   ┆ 1   ┆ 2    ┆ 1     │\n",
       "│ 2023   ┆ zuniggu01 ┆ NL   ┆ 0   ┆ … ┆ 0   ┆ 0   ┆ 0    ┆ 1     │\n",
       "│ 2015   ┆ zychto01  ┆ AL   ┆ 0   ┆ … ┆ 0   ┆ 0   ┆ 0    ┆ 1     │\n",
       "│ 2016   ┆ zychto01  ┆ AL   ┆ 1   ┆ … ┆ 0   ┆ 1   ┆ 1    ┆ 1     │\n",
       "│ 2017   ┆ zychto01  ┆ AL   ┆ 6   ┆ … ┆ 1   ┆ 2   ┆ 5    ┆ 1     │\n",
       "└────────┴───────────┴──────┴─────┴───┴─────┴─────┴──────┴───────┘"
      ]
     },
     "execution_count": 184,
     "metadata": {},
     "output_type": "execute_result"
    }
   ],
   "source": [
    "pitching_edit = (pitching\n",
    "                 .filter(pl.col('yearID') >= 2013)\n",
    "                 .group_by(pl.col('yearID'), pl.col('playerID'), pl.col('lgID'))\n",
    "                 .agg(pl.col('W').sum(), pl.col('L').sum(), pl.col('G').sum(), pl.col('GS').sum(), pl.col('CG').sum(), pl.col('SHO').sum(),\n",
    "                      pl.col('SV').sum(), pl.col('IPouts').sum(), pl.col('H').sum(), pl.col('ER').sum(), pl.col('HR').sum(), pl.col('BB').sum(), \n",
    "                     pl.col('SO').sum(), pl.col('BAOpp').mean(), pl.col('ERA').mean(), pl.col('IBB').sum(), pl.col('WP').sum(), pl.col('HBP').sum(),\n",
    "                     pl.col('BK').sum(), pl.col('BFP').sum(), pl.col('GF').sum(), pl.col('R').sum(), pl.col('SH').sum(), pl.col('SF').sum(), \n",
    "                     pl.col('GIDP').sum(), pl.col('stint').sum())\n",
    "                 .sort(pl.col('playerID'), pl.col('yearID'))\n",
    "                )\n",
    "pitching_edit"
   ]
  },
  {
   "cell_type": "code",
   "execution_count": 185,
   "id": "f2545a3d-a17b-4e9a-b406-75a7fc2b603a",
   "metadata": {},
   "outputs": [
    {
     "data": {
      "text/html": [
       "<div><style>\n",
       ".dataframe > thead > tr,\n",
       ".dataframe > tbody > tr {\n",
       "  text-align: right;\n",
       "  white-space: pre-wrap;\n",
       "}\n",
       "</style>\n",
       "<small>shape: (15_989, 23)</small><table border=\"1\" class=\"dataframe\"><thead><tr><th>yearID</th><th>playerID</th><th>lgID</th><th>G</th><th>G_batting</th><th>AB</th><th>R</th><th>H</th><th>2B</th><th>3B</th><th>HR</th><th>RBI</th><th>SB</th><th>CS</th><th>BB</th><th>SO</th><th>IBB</th><th>HBP</th><th>SH</th><th>SF</th><th>GIDP</th><th>G_old</th><th>stint</th></tr><tr><td>i64</td><td>str</td><td>str</td><td>i64</td><td>i64</td><td>i64</td><td>i64</td><td>i64</td><td>i64</td><td>i64</td><td>i64</td><td>i64</td><td>i64</td><td>i64</td><td>i64</td><td>i64</td><td>i64</td><td>i64</td><td>i64</td><td>i64</td><td>i64</td><td>str</td><td>i64</td></tr></thead><tbody><tr><td>2013</td><td>&quot;aardsda01&quot;</td><td>&quot;NL&quot;</td><td>43</td><td>0</td><td>0</td><td>0</td><td>0</td><td>0</td><td>0</td><td>0</td><td>0</td><td>0</td><td>0</td><td>0</td><td>0</td><td>0</td><td>0</td><td>0</td><td>0</td><td>0</td><td>null</td><td>1</td></tr><tr><td>2015</td><td>&quot;aardsda01&quot;</td><td>&quot;NL&quot;</td><td>33</td><td>0</td><td>1</td><td>0</td><td>0</td><td>0</td><td>0</td><td>0</td><td>0</td><td>0</td><td>0</td><td>0</td><td>1</td><td>0</td><td>0</td><td>0</td><td>0</td><td>0</td><td>null</td><td>1</td></tr><tr><td>2013</td><td>&quot;abadfe01&quot;</td><td>&quot;NL&quot;</td><td>39</td><td>0</td><td>0</td><td>0</td><td>0</td><td>0</td><td>0</td><td>0</td><td>0</td><td>0</td><td>0</td><td>0</td><td>0</td><td>0</td><td>0</td><td>0</td><td>0</td><td>0</td><td>null</td><td>1</td></tr><tr><td>2014</td><td>&quot;abadfe01&quot;</td><td>&quot;AL&quot;</td><td>69</td><td>0</td><td>0</td><td>0</td><td>0</td><td>0</td><td>0</td><td>0</td><td>0</td><td>0</td><td>0</td><td>0</td><td>0</td><td>0</td><td>0</td><td>0</td><td>0</td><td>0</td><td>null</td><td>1</td></tr><tr><td>2015</td><td>&quot;abadfe01&quot;</td><td>&quot;AL&quot;</td><td>62</td><td>0</td><td>0</td><td>0</td><td>0</td><td>0</td><td>0</td><td>0</td><td>0</td><td>0</td><td>0</td><td>0</td><td>0</td><td>0</td><td>0</td><td>0</td><td>0</td><td>0</td><td>null</td><td>1</td></tr><tr><td>&hellip;</td><td>&hellip;</td><td>&hellip;</td><td>&hellip;</td><td>&hellip;</td><td>&hellip;</td><td>&hellip;</td><td>&hellip;</td><td>&hellip;</td><td>&hellip;</td><td>&hellip;</td><td>&hellip;</td><td>&hellip;</td><td>&hellip;</td><td>&hellip;</td><td>&hellip;</td><td>&hellip;</td><td>&hellip;</td><td>&hellip;</td><td>&hellip;</td><td>&hellip;</td><td>&hellip;</td><td>&hellip;</td></tr><tr><td>2022</td><td>&quot;zuninmi01&quot;</td><td>&quot;AL&quot;</td><td>36</td><td>0</td><td>115</td><td>7</td><td>17</td><td>3</td><td>0</td><td>5</td><td>16</td><td>0</td><td>0</td><td>6</td><td>46</td><td>0</td><td>1</td><td>0</td><td>1</td><td>2</td><td>null</td><td>1</td></tr><tr><td>2023</td><td>&quot;zuninmi01&quot;</td><td>&quot;AL&quot;</td><td>42</td><td>42</td><td>124</td><td>11</td><td>22</td><td>7</td><td>0</td><td>3</td><td>11</td><td>0</td><td>0</td><td>15</td><td>61</td><td>0</td><td>1</td><td>0</td><td>0</td><td>3</td><td>null</td><td>1</td></tr><tr><td>2015</td><td>&quot;zychto01&quot;</td><td>&quot;AL&quot;</td><td>13</td><td>0</td><td>0</td><td>0</td><td>0</td><td>0</td><td>0</td><td>0</td><td>0</td><td>0</td><td>0</td><td>0</td><td>0</td><td>0</td><td>0</td><td>0</td><td>0</td><td>0</td><td>null</td><td>1</td></tr><tr><td>2016</td><td>&quot;zychto01&quot;</td><td>&quot;AL&quot;</td><td>12</td><td>0</td><td>0</td><td>0</td><td>0</td><td>0</td><td>0</td><td>0</td><td>0</td><td>0</td><td>0</td><td>0</td><td>0</td><td>0</td><td>0</td><td>0</td><td>0</td><td>0</td><td>null</td><td>1</td></tr><tr><td>2017</td><td>&quot;zychto01&quot;</td><td>&quot;AL&quot;</td><td>45</td><td>0</td><td>0</td><td>0</td><td>0</td><td>0</td><td>0</td><td>0</td><td>0</td><td>0</td><td>0</td><td>0</td><td>0</td><td>0</td><td>0</td><td>0</td><td>0</td><td>0</td><td>null</td><td>1</td></tr></tbody></table></div>"
      ],
      "text/plain": [
       "shape: (15_989, 23)\n",
       "┌────────┬───────────┬──────┬─────┬───┬─────┬──────┬───────┬───────┐\n",
       "│ yearID ┆ playerID  ┆ lgID ┆ G   ┆ … ┆ SF  ┆ GIDP ┆ G_old ┆ stint │\n",
       "│ ---    ┆ ---       ┆ ---  ┆ --- ┆   ┆ --- ┆ ---  ┆ ---   ┆ ---   │\n",
       "│ i64    ┆ str       ┆ str  ┆ i64 ┆   ┆ i64 ┆ i64  ┆ str   ┆ i64   │\n",
       "╞════════╪═══════════╪══════╪═════╪═══╪═════╪══════╪═══════╪═══════╡\n",
       "│ 2013   ┆ aardsda01 ┆ NL   ┆ 43  ┆ … ┆ 0   ┆ 0    ┆ null  ┆ 1     │\n",
       "│ 2015   ┆ aardsda01 ┆ NL   ┆ 33  ┆ … ┆ 0   ┆ 0    ┆ null  ┆ 1     │\n",
       "│ 2013   ┆ abadfe01  ┆ NL   ┆ 39  ┆ … ┆ 0   ┆ 0    ┆ null  ┆ 1     │\n",
       "│ 2014   ┆ abadfe01  ┆ AL   ┆ 69  ┆ … ┆ 0   ┆ 0    ┆ null  ┆ 1     │\n",
       "│ 2015   ┆ abadfe01  ┆ AL   ┆ 62  ┆ … ┆ 0   ┆ 0    ┆ null  ┆ 1     │\n",
       "│ …      ┆ …         ┆ …    ┆ …   ┆ … ┆ …   ┆ …    ┆ …     ┆ …     │\n",
       "│ 2022   ┆ zuninmi01 ┆ AL   ┆ 36  ┆ … ┆ 1   ┆ 2    ┆ null  ┆ 1     │\n",
       "│ 2023   ┆ zuninmi01 ┆ AL   ┆ 42  ┆ … ┆ 0   ┆ 3    ┆ null  ┆ 1     │\n",
       "│ 2015   ┆ zychto01  ┆ AL   ┆ 13  ┆ … ┆ 0   ┆ 0    ┆ null  ┆ 1     │\n",
       "│ 2016   ┆ zychto01  ┆ AL   ┆ 12  ┆ … ┆ 0   ┆ 0    ┆ null  ┆ 1     │\n",
       "│ 2017   ┆ zychto01  ┆ AL   ┆ 45  ┆ … ┆ 0   ┆ 0    ┆ null  ┆ 1     │\n",
       "└────────┴───────────┴──────┴─────┴───┴─────┴──────┴───────┴───────┘"
      ]
     },
     "execution_count": 185,
     "metadata": {},
     "output_type": "execute_result"
    }
   ],
   "source": [
    "batting_edit = (batting\n",
    "                 .filter(pl.col('yearID') >= 2013)\n",
    "                 .group_by(pl.col('yearID'), pl.col('playerID'), pl.col('lgID'))\n",
    "                 .agg(pl.col('G').sum(), pl.col('G_batting').sum(), pl.col('AB').sum(), pl.col('R').sum(), pl.col('H').sum(), pl.col('2B').sum(),\n",
    "                      pl.col('3B').sum(), pl.col('HR').sum(), pl.col('RBI').sum(), pl.col('SB').sum(), pl.col('CS').sum(), pl.col('BB').sum(), \n",
    "                     pl.col('SO').sum(), pl.col('IBB').sum(), pl.col('HBP').sum(), pl.col('SH').sum(), pl.col('SF').sum(), pl.col('GIDP').sum(),\n",
    "                     pl.col('G_old').sum(), pl.col('stint').sum())\n",
    "                 .sort(pl.col('playerID'), pl.col('yearID'))\n",
    "                )\n",
    "batting_edit"
   ]
  },
  {
   "cell_type": "code",
   "execution_count": 186,
   "id": "2a939c75-699d-415e-af1b-c6767f32f425",
   "metadata": {},
   "outputs": [
    {
     "data": {
      "text/html": [
       "<div><style>\n",
       ".dataframe > thead > tr,\n",
       ".dataframe > tbody > tr {\n",
       "  text-align: right;\n",
       "  white-space: pre-wrap;\n",
       "}\n",
       "</style>\n",
       "<small>shape: (5_365, 60)</small><table border=\"1\" class=\"dataframe\"><thead><tr><th>yearID</th><th>playerID</th><th>salary</th><th>POS</th><th>lgID_fielding</th><th>G_fielding</th><th>GS_fielding</th><th>InnOuts_fielding</th><th>PO_fielding</th><th>A_fielding</th><th>DP_fielding</th><th>stint_fielding</th><th>lgID_pitching</th><th>W_pitching</th><th>L_pitching</th><th>G_pitching</th><th>GS_pitching</th><th>CG</th><th>SHO</th><th>SV_pitching</th><th>IPouts</th><th>H</th><th>ER</th><th>HR</th><th>BB</th><th>SO</th><th>BAOpp</th><th>ERA</th><th>IBB</th><th>WP</th><th>HBP</th><th>BK</th><th>BFP</th><th>GF</th><th>R</th><th>SH</th><th>SF</th><th>GIDP</th><th>stint_pitching</th><th>lgID_batting</th><th>G_batting</th><th>G_batting_total</th><th>AB</th><th>R_right</th><th>H_right</th><th>2B</th><th>3B</th><th>HR_right</th><th>RBI</th><th>SB</th><th>CS</th><th>BB_right</th><th>SO_right</th><th>IBB_right</th><th>HBP_right</th><th>SH_right</th><th>SF_right</th><th>GIDP_right</th><th>G_old</th><th>stint_batting</th></tr><tr><td>i64</td><td>str</td><td>i64</td><td>str</td><td>str</td><td>i64</td><td>i64</td><td>i64</td><td>i64</td><td>i64</td><td>i64</td><td>i64</td><td>str</td><td>i64</td><td>i64</td><td>i64</td><td>i64</td><td>i64</td><td>i64</td><td>i64</td><td>i64</td><td>i64</td><td>i64</td><td>i64</td><td>i64</td><td>i64</td><td>f64</td><td>f64</td><td>i64</td><td>i64</td><td>i64</td><td>i64</td><td>i64</td><td>i64</td><td>i64</td><td>i64</td><td>i64</td><td>i64</td><td>i64</td><td>str</td><td>i64</td><td>i64</td><td>i64</td><td>i64</td><td>i64</td><td>i64</td><td>i64</td><td>i64</td><td>i64</td><td>i64</td><td>i64</td><td>i64</td><td>i64</td><td>i64</td><td>i64</td><td>i64</td><td>i64</td><td>i64</td><td>str</td><td>i64</td></tr></thead><tbody><tr><td>2014</td><td>&quot;abadfe01&quot;</td><td>525900</td><td>&quot;P&quot;</td><td>&quot;AL&quot;</td><td>69</td><td>0</td><td>172</td><td>0</td><td>8</td><td>0</td><td>1</td><td>&quot;AL&quot;</td><td>2</td><td>4</td><td>69</td><td>0</td><td>0</td><td>0</td><td>0</td><td>172</td><td>34</td><td>10</td><td>4</td><td>15</td><td>51</td><td>0.175</td><td>1.57</td><td>3</td><td>0</td><td>4</td><td>0</td><td>216</td><td>17</td><td>11</td><td>1</td><td>2</td><td>6</td><td>1</td><td>&quot;AL&quot;</td><td>69</td><td>0</td><td>0</td><td>0</td><td>0</td><td>0</td><td>0</td><td>0</td><td>0</td><td>0</td><td>0</td><td>0</td><td>0</td><td>0</td><td>0</td><td>0</td><td>0</td><td>0</td><td>null</td><td>1</td></tr><tr><td>2015</td><td>&quot;abadfe01&quot;</td><td>1087500</td><td>&quot;P&quot;</td><td>&quot;AL&quot;</td><td>62</td><td>0</td><td>143</td><td>2</td><td>4</td><td>0</td><td>1</td><td>&quot;AL&quot;</td><td>2</td><td>2</td><td>62</td><td>0</td><td>0</td><td>0</td><td>0</td><td>143</td><td>45</td><td>22</td><td>11</td><td>19</td><td>45</td><td>0.251</td><td>4.15</td><td>3</td><td>4</td><td>1</td><td>0</td><td>205</td><td>17</td><td>23</td><td>3</td><td>3</td><td>1</td><td>1</td><td>&quot;AL&quot;</td><td>62</td><td>0</td><td>0</td><td>0</td><td>0</td><td>0</td><td>0</td><td>0</td><td>0</td><td>0</td><td>0</td><td>0</td><td>0</td><td>0</td><td>0</td><td>0</td><td>0</td><td>0</td><td>null</td><td>1</td></tr><tr><td>2016</td><td>&quot;abadfe01&quot;</td><td>1250000</td><td>&quot;P&quot;</td><td>&quot;AL&quot;</td><td>57</td><td>0</td><td>140</td><td>0</td><td>4</td><td>1</td><td>3</td><td>&quot;AL&quot;</td><td>1</td><td>6</td><td>57</td><td>0</td><td>0</td><td>0</td><td>1</td><td>140</td><td>40</td><td>19</td><td>4</td><td>22</td><td>41</td><td>0.2375</td><td>4.52</td><td>2</td><td>1</td><td>1</td><td>1</td><td>198</td><td>15</td><td>20</td><td>0</td><td>1</td><td>7</td><td>3</td><td>&quot;AL&quot;</td><td>57</td><td>0</td><td>1</td><td>0</td><td>0</td><td>0</td><td>0</td><td>0</td><td>0</td><td>0</td><td>0</td><td>0</td><td>1</td><td>0</td><td>0</td><td>0</td><td>0</td><td>0</td><td>null</td><td>3</td></tr><tr><td>2014</td><td>&quot;abreujo02&quot;</td><td>7000000</td><td>&quot;1B&quot;</td><td>&quot;AL&quot;</td><td>109</td><td>109</td><td>2872</td><td>970</td><td>69</td><td>105</td><td>1</td><td>null</td><td>null</td><td>null</td><td>null</td><td>null</td><td>null</td><td>null</td><td>null</td><td>null</td><td>null</td><td>null</td><td>null</td><td>null</td><td>null</td><td>null</td><td>null</td><td>null</td><td>null</td><td>null</td><td>null</td><td>null</td><td>null</td><td>null</td><td>null</td><td>null</td><td>null</td><td>null</td><td>&quot;AL&quot;</td><td>145</td><td>0</td><td>556</td><td>80</td><td>176</td><td>35</td><td>2</td><td>36</td><td>107</td><td>3</td><td>1</td><td>51</td><td>131</td><td>15</td><td>11</td><td>0</td><td>4</td><td>14</td><td>null</td><td>1</td></tr><tr><td>2015</td><td>&quot;abreujo02&quot;</td><td>8666000</td><td>&quot;1B&quot;</td><td>&quot;AL&quot;</td><td>115</td><td>115</td><td>3051</td><td>952</td><td>60</td><td>100</td><td>1</td><td>null</td><td>null</td><td>null</td><td>null</td><td>null</td><td>null</td><td>null</td><td>null</td><td>null</td><td>null</td><td>null</td><td>null</td><td>null</td><td>null</td><td>null</td><td>null</td><td>null</td><td>null</td><td>null</td><td>null</td><td>null</td><td>null</td><td>null</td><td>null</td><td>null</td><td>null</td><td>null</td><td>&quot;AL&quot;</td><td>154</td><td>0</td><td>613</td><td>88</td><td>178</td><td>34</td><td>3</td><td>30</td><td>101</td><td>0</td><td>0</td><td>39</td><td>140</td><td>11</td><td>15</td><td>0</td><td>1</td><td>16</td><td>null</td><td>1</td></tr><tr><td>&hellip;</td><td>&hellip;</td><td>&hellip;</td><td>&hellip;</td><td>&hellip;</td><td>&hellip;</td><td>&hellip;</td><td>&hellip;</td><td>&hellip;</td><td>&hellip;</td><td>&hellip;</td><td>&hellip;</td><td>&hellip;</td><td>&hellip;</td><td>&hellip;</td><td>&hellip;</td><td>&hellip;</td><td>&hellip;</td><td>&hellip;</td><td>&hellip;</td><td>&hellip;</td><td>&hellip;</td><td>&hellip;</td><td>&hellip;</td><td>&hellip;</td><td>&hellip;</td><td>&hellip;</td><td>&hellip;</td><td>&hellip;</td><td>&hellip;</td><td>&hellip;</td><td>&hellip;</td><td>&hellip;</td><td>&hellip;</td><td>&hellip;</td><td>&hellip;</td><td>&hellip;</td><td>&hellip;</td><td>&hellip;</td><td>&hellip;</td><td>&hellip;</td><td>&hellip;</td><td>&hellip;</td><td>&hellip;</td><td>&hellip;</td><td>&hellip;</td><td>&hellip;</td><td>&hellip;</td><td>&hellip;</td><td>&hellip;</td><td>&hellip;</td><td>&hellip;</td><td>&hellip;</td><td>&hellip;</td><td>&hellip;</td><td>&hellip;</td><td>&hellip;</td><td>&hellip;</td><td>&hellip;</td><td>&hellip;</td></tr><tr><td>2016</td><td>&quot;zobribe01&quot;</td><td>10500000</td><td>&quot;SS&quot;</td><td>&quot;NL&quot;</td><td>1</td><td>0</td><td>6</td><td>0</td><td>0</td><td>0</td><td>1</td><td>null</td><td>null</td><td>null</td><td>null</td><td>null</td><td>null</td><td>null</td><td>null</td><td>null</td><td>null</td><td>null</td><td>null</td><td>null</td><td>null</td><td>null</td><td>null</td><td>null</td><td>null</td><td>null</td><td>null</td><td>null</td><td>null</td><td>null</td><td>null</td><td>null</td><td>null</td><td>null</td><td>&quot;NL&quot;</td><td>147</td><td>0</td><td>523</td><td>94</td><td>142</td><td>31</td><td>3</td><td>18</td><td>76</td><td>6</td><td>4</td><td>96</td><td>82</td><td>6</td><td>4</td><td>4</td><td>4</td><td>17</td><td>null</td><td>1</td></tr><tr><td>2016</td><td>&quot;zobribe01&quot;</td><td>10500000</td><td>&quot;1B&quot;</td><td>&quot;NL&quot;</td><td>1</td><td>0</td><td>1</td><td>1</td><td>0</td><td>0</td><td>1</td><td>null</td><td>null</td><td>null</td><td>null</td><td>null</td><td>null</td><td>null</td><td>null</td><td>null</td><td>null</td><td>null</td><td>null</td><td>null</td><td>null</td><td>null</td><td>null</td><td>null</td><td>null</td><td>null</td><td>null</td><td>null</td><td>null</td><td>null</td><td>null</td><td>null</td><td>null</td><td>null</td><td>&quot;NL&quot;</td><td>147</td><td>0</td><td>523</td><td>94</td><td>142</td><td>31</td><td>3</td><td>18</td><td>76</td><td>6</td><td>4</td><td>96</td><td>82</td><td>6</td><td>4</td><td>4</td><td>4</td><td>17</td><td>null</td><td>1</td></tr><tr><td>2014</td><td>&quot;zuninmi01&quot;</td><td>504100</td><td>&quot;C&quot;</td><td>&quot;AL&quot;</td><td>130</td><td>125</td><td>3363</td><td>1010</td><td>84</td><td>5</td><td>1</td><td>null</td><td>null</td><td>null</td><td>null</td><td>null</td><td>null</td><td>null</td><td>null</td><td>null</td><td>null</td><td>null</td><td>null</td><td>null</td><td>null</td><td>null</td><td>null</td><td>null</td><td>null</td><td>null</td><td>null</td><td>null</td><td>null</td><td>null</td><td>null</td><td>null</td><td>null</td><td>null</td><td>&quot;AL&quot;</td><td>131</td><td>0</td><td>438</td><td>51</td><td>87</td><td>20</td><td>2</td><td>22</td><td>60</td><td>0</td><td>3</td><td>17</td><td>158</td><td>1</td><td>17</td><td>0</td><td>4</td><td>12</td><td>null</td><td>1</td></tr><tr><td>2015</td><td>&quot;zuninmi01&quot;</td><td>523500</td><td>&quot;C&quot;</td><td>&quot;AL&quot;</td><td>112</td><td>101</td><td>2759</td><td>809</td><td>44</td><td>6</td><td>1</td><td>null</td><td>null</td><td>null</td><td>null</td><td>null</td><td>null</td><td>null</td><td>null</td><td>null</td><td>null</td><td>null</td><td>null</td><td>null</td><td>null</td><td>null</td><td>null</td><td>null</td><td>null</td><td>null</td><td>null</td><td>null</td><td>null</td><td>null</td><td>null</td><td>null</td><td>null</td><td>null</td><td>&quot;AL&quot;</td><td>112</td><td>0</td><td>350</td><td>28</td><td>61</td><td>11</td><td>0</td><td>11</td><td>28</td><td>0</td><td>1</td><td>21</td><td>132</td><td>0</td><td>5</td><td>8</td><td>2</td><td>6</td><td>null</td><td>1</td></tr><tr><td>2016</td><td>&quot;zychto01&quot;</td><td>511000</td><td>&quot;P&quot;</td><td>&quot;AL&quot;</td><td>12</td><td>0</td><td>41</td><td>0</td><td>0</td><td>0</td><td>1</td><td>&quot;AL&quot;</td><td>1</td><td>0</td><td>12</td><td>0</td><td>0</td><td>0</td><td>0</td><td>41</td><td>10</td><td>5</td><td>0</td><td>10</td><td>21</td><td>0.208</td><td>3.29</td><td>2</td><td>0</td><td>1</td><td>0</td><td>60</td><td>3</td><td>6</td><td>0</td><td>1</td><td>1</td><td>1</td><td>&quot;AL&quot;</td><td>12</td><td>0</td><td>0</td><td>0</td><td>0</td><td>0</td><td>0</td><td>0</td><td>0</td><td>0</td><td>0</td><td>0</td><td>0</td><td>0</td><td>0</td><td>0</td><td>0</td><td>0</td><td>null</td><td>1</td></tr></tbody></table></div>"
      ],
      "text/plain": [
       "shape: (5_365, 60)\n",
       "┌────────┬───────────┬──────────┬─────┬───┬──────────┬────────────┬───────┬───────────────┐\n",
       "│ yearID ┆ playerID  ┆ salary   ┆ POS ┆ … ┆ SF_right ┆ GIDP_right ┆ G_old ┆ stint_batting │\n",
       "│ ---    ┆ ---       ┆ ---      ┆ --- ┆   ┆ ---      ┆ ---        ┆ ---   ┆ ---           │\n",
       "│ i64    ┆ str       ┆ i64      ┆ str ┆   ┆ i64      ┆ i64        ┆ str   ┆ i64           │\n",
       "╞════════╪═══════════╪══════════╪═════╪═══╪══════════╪════════════╪═══════╪═══════════════╡\n",
       "│ 2014   ┆ abadfe01  ┆ 525900   ┆ P   ┆ … ┆ 0        ┆ 0          ┆ null  ┆ 1             │\n",
       "│ 2015   ┆ abadfe01  ┆ 1087500  ┆ P   ┆ … ┆ 0        ┆ 0          ┆ null  ┆ 1             │\n",
       "│ 2016   ┆ abadfe01  ┆ 1250000  ┆ P   ┆ … ┆ 0        ┆ 0          ┆ null  ┆ 3             │\n",
       "│ 2014   ┆ abreujo02 ┆ 7000000  ┆ 1B  ┆ … ┆ 4        ┆ 14         ┆ null  ┆ 1             │\n",
       "│ 2015   ┆ abreujo02 ┆ 8666000  ┆ 1B  ┆ … ┆ 1        ┆ 16         ┆ null  ┆ 1             │\n",
       "│ …      ┆ …         ┆ …        ┆ …   ┆ … ┆ …        ┆ …          ┆ …     ┆ …             │\n",
       "│ 2016   ┆ zobribe01 ┆ 10500000 ┆ SS  ┆ … ┆ 4        ┆ 17         ┆ null  ┆ 1             │\n",
       "│ 2016   ┆ zobribe01 ┆ 10500000 ┆ 1B  ┆ … ┆ 4        ┆ 17         ┆ null  ┆ 1             │\n",
       "│ 2014   ┆ zuninmi01 ┆ 504100   ┆ C   ┆ … ┆ 4        ┆ 12         ┆ null  ┆ 1             │\n",
       "│ 2015   ┆ zuninmi01 ┆ 523500   ┆ C   ┆ … ┆ 2        ┆ 6          ┆ null  ┆ 1             │\n",
       "│ 2016   ┆ zychto01  ┆ 511000   ┆ P   ┆ … ┆ 0        ┆ 0          ┆ null  ┆ 1             │\n",
       "└────────┴───────────┴──────────┴─────┴───┴──────────┴────────────┴───────┴───────────────┘"
      ]
     },
     "execution_count": 186,
     "metadata": {},
     "output_type": "execute_result"
    }
   ],
   "source": [
    "salaries_joined = (salaries_edit\n",
    "                   .join(fielding_edit.rename({\n",
    "                       \"lgID\": \"lgID_fielding\", \n",
    "                       \"G\": \"G_fielding\", \n",
    "                       \"GS\": \"GS_fielding\", \n",
    "                       \"InnOuts\": \"InnOuts_fielding\", \n",
    "                       \"PO\": \"PO_fielding\", \n",
    "                       \"A\": \"A_fielding\", \n",
    "                       \"DP\": \"DP_fielding\", \n",
    "                       \"stint\": \"stint_fielding\"\n",
    "                   }), on=['yearID', 'playerID'], how='left')\n",
    "                   .join(pitching_edit.rename({\n",
    "                       \"lgID\": \"lgID_pitching\", \n",
    "                       \"G\": \"G_pitching\", \n",
    "                       \"GS\": \"GS_pitching\", \n",
    "                       \"W\": \"W_pitching\", \n",
    "                       \"L\": \"L_pitching\", \n",
    "                       \"SV\": \"SV_pitching\", \n",
    "                       \"stint\": \"stint_pitching\"\n",
    "                   }), on=['yearID', 'playerID'], how='left')\n",
    "                   .join(batting_edit.rename({\n",
    "                       \"lgID\": \"lgID_batting\", \n",
    "                       \"G\": \"G_batting\", \n",
    "                       \"G_batting\": \"G_batting_total\", \n",
    "                       \"stint\": \"stint_batting\"\n",
    "                   }), on=['yearID', 'playerID'], how='left')\n",
    "                 )\n",
    "salaries_joined"
   ]
  },
  {
   "cell_type": "code",
   "execution_count": 187,
   "id": "f3496f4f-f558-4ef0-9292-e2247483e389",
   "metadata": {},
   "outputs": [
    {
     "data": {
      "text/html": [
       "<div><style>\n",
       ".dataframe > thead > tr,\n",
       ".dataframe > tbody > tr {\n",
       "  text-align: right;\n",
       "  white-space: pre-wrap;\n",
       "}\n",
       "</style>\n",
       "<small>shape: (5_365, 61)</small><table border=\"1\" class=\"dataframe\"><thead><tr><th>yearID</th><th>playerID</th><th>salary</th><th>POS</th><th>lgID_fielding</th><th>G_fielding</th><th>GS_fielding</th><th>InnOuts_fielding</th><th>PO_fielding</th><th>A_fielding</th><th>DP_fielding</th><th>stint_fielding</th><th>lgID_pitching</th><th>W_pitching</th><th>L_pitching</th><th>G_pitching</th><th>GS_pitching</th><th>CG</th><th>SHO</th><th>SV_pitching</th><th>IPouts</th><th>H</th><th>ER</th><th>HR</th><th>BB</th><th>SO</th><th>BAOpp</th><th>ERA</th><th>IBB</th><th>WP</th><th>HBP</th><th>BK</th><th>BFP</th><th>GF</th><th>R</th><th>SH</th><th>SF</th><th>GIDP</th><th>stint_pitching</th><th>lgID_batting</th><th>G_batting</th><th>G_batting_total</th><th>AB</th><th>R_right</th><th>H_right</th><th>2B</th><th>3B</th><th>HR_right</th><th>RBI</th><th>SB</th><th>CS</th><th>BB_right</th><th>SO_right</th><th>IBB_right</th><th>HBP_right</th><th>SH_right</th><th>SF_right</th><th>GIDP_right</th><th>G_old</th><th>stint_batting</th><th>Training_Validation</th></tr><tr><td>i64</td><td>str</td><td>i64</td><td>str</td><td>str</td><td>i64</td><td>i64</td><td>i64</td><td>i64</td><td>i64</td><td>i64</td><td>i64</td><td>str</td><td>i64</td><td>i64</td><td>i64</td><td>i64</td><td>i64</td><td>i64</td><td>i64</td><td>i64</td><td>i64</td><td>i64</td><td>i64</td><td>i64</td><td>i64</td><td>f64</td><td>f64</td><td>i64</td><td>i64</td><td>i64</td><td>i64</td><td>i64</td><td>i64</td><td>i64</td><td>i64</td><td>i64</td><td>i64</td><td>i64</td><td>str</td><td>i64</td><td>i64</td><td>i64</td><td>i64</td><td>i64</td><td>i64</td><td>i64</td><td>i64</td><td>i64</td><td>i64</td><td>i64</td><td>i64</td><td>i64</td><td>i64</td><td>i64</td><td>i64</td><td>i64</td><td>i64</td><td>str</td><td>i64</td><td>str</td></tr></thead><tbody><tr><td>2014</td><td>&quot;abadfe01&quot;</td><td>525900</td><td>&quot;P&quot;</td><td>&quot;AL&quot;</td><td>69</td><td>0</td><td>172</td><td>0</td><td>8</td><td>0</td><td>1</td><td>&quot;AL&quot;</td><td>2</td><td>4</td><td>69</td><td>0</td><td>0</td><td>0</td><td>0</td><td>172</td><td>34</td><td>10</td><td>4</td><td>15</td><td>51</td><td>0.175</td><td>1.57</td><td>3</td><td>0</td><td>4</td><td>0</td><td>216</td><td>17</td><td>11</td><td>1</td><td>2</td><td>6</td><td>1</td><td>&quot;AL&quot;</td><td>69</td><td>0</td><td>0</td><td>0</td><td>0</td><td>0</td><td>0</td><td>0</td><td>0</td><td>0</td><td>0</td><td>0</td><td>0</td><td>0</td><td>0</td><td>0</td><td>0</td><td>0</td><td>null</td><td>1</td><td>&quot;Training&quot;</td></tr><tr><td>2015</td><td>&quot;abadfe01&quot;</td><td>1087500</td><td>&quot;P&quot;</td><td>&quot;AL&quot;</td><td>62</td><td>0</td><td>143</td><td>2</td><td>4</td><td>0</td><td>1</td><td>&quot;AL&quot;</td><td>2</td><td>2</td><td>62</td><td>0</td><td>0</td><td>0</td><td>0</td><td>143</td><td>45</td><td>22</td><td>11</td><td>19</td><td>45</td><td>0.251</td><td>4.15</td><td>3</td><td>4</td><td>1</td><td>0</td><td>205</td><td>17</td><td>23</td><td>3</td><td>3</td><td>1</td><td>1</td><td>&quot;AL&quot;</td><td>62</td><td>0</td><td>0</td><td>0</td><td>0</td><td>0</td><td>0</td><td>0</td><td>0</td><td>0</td><td>0</td><td>0</td><td>0</td><td>0</td><td>0</td><td>0</td><td>0</td><td>0</td><td>null</td><td>1</td><td>&quot;Training&quot;</td></tr><tr><td>2016</td><td>&quot;abadfe01&quot;</td><td>1250000</td><td>&quot;P&quot;</td><td>&quot;AL&quot;</td><td>57</td><td>0</td><td>140</td><td>0</td><td>4</td><td>1</td><td>3</td><td>&quot;AL&quot;</td><td>1</td><td>6</td><td>57</td><td>0</td><td>0</td><td>0</td><td>1</td><td>140</td><td>40</td><td>19</td><td>4</td><td>22</td><td>41</td><td>0.2375</td><td>4.52</td><td>2</td><td>1</td><td>1</td><td>1</td><td>198</td><td>15</td><td>20</td><td>0</td><td>1</td><td>7</td><td>3</td><td>&quot;AL&quot;</td><td>57</td><td>0</td><td>1</td><td>0</td><td>0</td><td>0</td><td>0</td><td>0</td><td>0</td><td>0</td><td>0</td><td>0</td><td>1</td><td>0</td><td>0</td><td>0</td><td>0</td><td>0</td><td>null</td><td>3</td><td>&quot;Training&quot;</td></tr><tr><td>2014</td><td>&quot;abreujo02&quot;</td><td>7000000</td><td>&quot;1B&quot;</td><td>&quot;AL&quot;</td><td>109</td><td>109</td><td>2872</td><td>970</td><td>69</td><td>105</td><td>1</td><td>null</td><td>null</td><td>null</td><td>null</td><td>null</td><td>null</td><td>null</td><td>null</td><td>null</td><td>null</td><td>null</td><td>null</td><td>null</td><td>null</td><td>null</td><td>null</td><td>null</td><td>null</td><td>null</td><td>null</td><td>null</td><td>null</td><td>null</td><td>null</td><td>null</td><td>null</td><td>null</td><td>&quot;AL&quot;</td><td>145</td><td>0</td><td>556</td><td>80</td><td>176</td><td>35</td><td>2</td><td>36</td><td>107</td><td>3</td><td>1</td><td>51</td><td>131</td><td>15</td><td>11</td><td>0</td><td>4</td><td>14</td><td>null</td><td>1</td><td>&quot;Training&quot;</td></tr><tr><td>2015</td><td>&quot;abreujo02&quot;</td><td>8666000</td><td>&quot;1B&quot;</td><td>&quot;AL&quot;</td><td>115</td><td>115</td><td>3051</td><td>952</td><td>60</td><td>100</td><td>1</td><td>null</td><td>null</td><td>null</td><td>null</td><td>null</td><td>null</td><td>null</td><td>null</td><td>null</td><td>null</td><td>null</td><td>null</td><td>null</td><td>null</td><td>null</td><td>null</td><td>null</td><td>null</td><td>null</td><td>null</td><td>null</td><td>null</td><td>null</td><td>null</td><td>null</td><td>null</td><td>null</td><td>&quot;AL&quot;</td><td>154</td><td>0</td><td>613</td><td>88</td><td>178</td><td>34</td><td>3</td><td>30</td><td>101</td><td>0</td><td>0</td><td>39</td><td>140</td><td>11</td><td>15</td><td>0</td><td>1</td><td>16</td><td>null</td><td>1</td><td>&quot;Training&quot;</td></tr><tr><td>&hellip;</td><td>&hellip;</td><td>&hellip;</td><td>&hellip;</td><td>&hellip;</td><td>&hellip;</td><td>&hellip;</td><td>&hellip;</td><td>&hellip;</td><td>&hellip;</td><td>&hellip;</td><td>&hellip;</td><td>&hellip;</td><td>&hellip;</td><td>&hellip;</td><td>&hellip;</td><td>&hellip;</td><td>&hellip;</td><td>&hellip;</td><td>&hellip;</td><td>&hellip;</td><td>&hellip;</td><td>&hellip;</td><td>&hellip;</td><td>&hellip;</td><td>&hellip;</td><td>&hellip;</td><td>&hellip;</td><td>&hellip;</td><td>&hellip;</td><td>&hellip;</td><td>&hellip;</td><td>&hellip;</td><td>&hellip;</td><td>&hellip;</td><td>&hellip;</td><td>&hellip;</td><td>&hellip;</td><td>&hellip;</td><td>&hellip;</td><td>&hellip;</td><td>&hellip;</td><td>&hellip;</td><td>&hellip;</td><td>&hellip;</td><td>&hellip;</td><td>&hellip;</td><td>&hellip;</td><td>&hellip;</td><td>&hellip;</td><td>&hellip;</td><td>&hellip;</td><td>&hellip;</td><td>&hellip;</td><td>&hellip;</td><td>&hellip;</td><td>&hellip;</td><td>&hellip;</td><td>&hellip;</td><td>&hellip;</td><td>&hellip;</td></tr><tr><td>2016</td><td>&quot;zobribe01&quot;</td><td>10500000</td><td>&quot;SS&quot;</td><td>&quot;NL&quot;</td><td>1</td><td>0</td><td>6</td><td>0</td><td>0</td><td>0</td><td>1</td><td>null</td><td>null</td><td>null</td><td>null</td><td>null</td><td>null</td><td>null</td><td>null</td><td>null</td><td>null</td><td>null</td><td>null</td><td>null</td><td>null</td><td>null</td><td>null</td><td>null</td><td>null</td><td>null</td><td>null</td><td>null</td><td>null</td><td>null</td><td>null</td><td>null</td><td>null</td><td>null</td><td>&quot;NL&quot;</td><td>147</td><td>0</td><td>523</td><td>94</td><td>142</td><td>31</td><td>3</td><td>18</td><td>76</td><td>6</td><td>4</td><td>96</td><td>82</td><td>6</td><td>4</td><td>4</td><td>4</td><td>17</td><td>null</td><td>1</td><td>&quot;Training&quot;</td></tr><tr><td>2016</td><td>&quot;zobribe01&quot;</td><td>10500000</td><td>&quot;1B&quot;</td><td>&quot;NL&quot;</td><td>1</td><td>0</td><td>1</td><td>1</td><td>0</td><td>0</td><td>1</td><td>null</td><td>null</td><td>null</td><td>null</td><td>null</td><td>null</td><td>null</td><td>null</td><td>null</td><td>null</td><td>null</td><td>null</td><td>null</td><td>null</td><td>null</td><td>null</td><td>null</td><td>null</td><td>null</td><td>null</td><td>null</td><td>null</td><td>null</td><td>null</td><td>null</td><td>null</td><td>null</td><td>&quot;NL&quot;</td><td>147</td><td>0</td><td>523</td><td>94</td><td>142</td><td>31</td><td>3</td><td>18</td><td>76</td><td>6</td><td>4</td><td>96</td><td>82</td><td>6</td><td>4</td><td>4</td><td>4</td><td>17</td><td>null</td><td>1</td><td>&quot;Training&quot;</td></tr><tr><td>2014</td><td>&quot;zuninmi01&quot;</td><td>504100</td><td>&quot;C&quot;</td><td>&quot;AL&quot;</td><td>130</td><td>125</td><td>3363</td><td>1010</td><td>84</td><td>5</td><td>1</td><td>null</td><td>null</td><td>null</td><td>null</td><td>null</td><td>null</td><td>null</td><td>null</td><td>null</td><td>null</td><td>null</td><td>null</td><td>null</td><td>null</td><td>null</td><td>null</td><td>null</td><td>null</td><td>null</td><td>null</td><td>null</td><td>null</td><td>null</td><td>null</td><td>null</td><td>null</td><td>null</td><td>&quot;AL&quot;</td><td>131</td><td>0</td><td>438</td><td>51</td><td>87</td><td>20</td><td>2</td><td>22</td><td>60</td><td>0</td><td>3</td><td>17</td><td>158</td><td>1</td><td>17</td><td>0</td><td>4</td><td>12</td><td>null</td><td>1</td><td>&quot;Training&quot;</td></tr><tr><td>2015</td><td>&quot;zuninmi01&quot;</td><td>523500</td><td>&quot;C&quot;</td><td>&quot;AL&quot;</td><td>112</td><td>101</td><td>2759</td><td>809</td><td>44</td><td>6</td><td>1</td><td>null</td><td>null</td><td>null</td><td>null</td><td>null</td><td>null</td><td>null</td><td>null</td><td>null</td><td>null</td><td>null</td><td>null</td><td>null</td><td>null</td><td>null</td><td>null</td><td>null</td><td>null</td><td>null</td><td>null</td><td>null</td><td>null</td><td>null</td><td>null</td><td>null</td><td>null</td><td>null</td><td>&quot;AL&quot;</td><td>112</td><td>0</td><td>350</td><td>28</td><td>61</td><td>11</td><td>0</td><td>11</td><td>28</td><td>0</td><td>1</td><td>21</td><td>132</td><td>0</td><td>5</td><td>8</td><td>2</td><td>6</td><td>null</td><td>1</td><td>&quot;Training&quot;</td></tr><tr><td>2016</td><td>&quot;zychto01&quot;</td><td>511000</td><td>&quot;P&quot;</td><td>&quot;AL&quot;</td><td>12</td><td>0</td><td>41</td><td>0</td><td>0</td><td>0</td><td>1</td><td>&quot;AL&quot;</td><td>1</td><td>0</td><td>12</td><td>0</td><td>0</td><td>0</td><td>0</td><td>41</td><td>10</td><td>5</td><td>0</td><td>10</td><td>21</td><td>0.208</td><td>3.29</td><td>2</td><td>0</td><td>1</td><td>0</td><td>60</td><td>3</td><td>6</td><td>0</td><td>1</td><td>1</td><td>1</td><td>&quot;AL&quot;</td><td>12</td><td>0</td><td>0</td><td>0</td><td>0</td><td>0</td><td>0</td><td>0</td><td>0</td><td>0</td><td>0</td><td>0</td><td>0</td><td>0</td><td>0</td><td>0</td><td>0</td><td>0</td><td>null</td><td>1</td><td>&quot;Training&quot;</td></tr></tbody></table></div>"
      ],
      "text/plain": [
       "shape: (5_365, 61)\n",
       "┌────────┬───────────┬──────────┬─────┬───┬────────────┬───────┬───────────────┬───────────────────┐\n",
       "│ yearID ┆ playerID  ┆ salary   ┆ POS ┆ … ┆ GIDP_right ┆ G_old ┆ stint_batting ┆ Training_Validati │\n",
       "│ ---    ┆ ---       ┆ ---      ┆ --- ┆   ┆ ---        ┆ ---   ┆ ---           ┆ on                │\n",
       "│ i64    ┆ str       ┆ i64      ┆ str ┆   ┆ i64        ┆ str   ┆ i64           ┆ ---               │\n",
       "│        ┆           ┆          ┆     ┆   ┆            ┆       ┆               ┆ str               │\n",
       "╞════════╪═══════════╪══════════╪═════╪═══╪════════════╪═══════╪═══════════════╪═══════════════════╡\n",
       "│ 2014   ┆ abadfe01  ┆ 525900   ┆ P   ┆ … ┆ 0          ┆ null  ┆ 1             ┆ Training          │\n",
       "│ 2015   ┆ abadfe01  ┆ 1087500  ┆ P   ┆ … ┆ 0          ┆ null  ┆ 1             ┆ Training          │\n",
       "│ 2016   ┆ abadfe01  ┆ 1250000  ┆ P   ┆ … ┆ 0          ┆ null  ┆ 3             ┆ Training          │\n",
       "│ 2014   ┆ abreujo02 ┆ 7000000  ┆ 1B  ┆ … ┆ 14         ┆ null  ┆ 1             ┆ Training          │\n",
       "│ 2015   ┆ abreujo02 ┆ 8666000  ┆ 1B  ┆ … ┆ 16         ┆ null  ┆ 1             ┆ Training          │\n",
       "│ …      ┆ …         ┆ …        ┆ …   ┆ … ┆ …          ┆ …     ┆ …             ┆ …                 │\n",
       "│ 2016   ┆ zobribe01 ┆ 10500000 ┆ SS  ┆ … ┆ 17         ┆ null  ┆ 1             ┆ Training          │\n",
       "│ 2016   ┆ zobribe01 ┆ 10500000 ┆ 1B  ┆ … ┆ 17         ┆ null  ┆ 1             ┆ Training          │\n",
       "│ 2014   ┆ zuninmi01 ┆ 504100   ┆ C   ┆ … ┆ 12         ┆ null  ┆ 1             ┆ Training          │\n",
       "│ 2015   ┆ zuninmi01 ┆ 523500   ┆ C   ┆ … ┆ 6          ┆ null  ┆ 1             ┆ Training          │\n",
       "│ 2016   ┆ zychto01  ┆ 511000   ┆ P   ┆ … ┆ 0          ┆ null  ┆ 1             ┆ Training          │\n",
       "└────────┴───────────┴──────────┴─────┴───┴────────────┴───────┴───────────────┴───────────────────┘"
      ]
     },
     "execution_count": 187,
     "metadata": {},
     "output_type": "execute_result"
    }
   ],
   "source": [
    "q2_table = (salaries_joined\n",
    "    .with_columns(\n",
    "        pl.when(pl.col('yearID') == 2023)\n",
    "        .then(pl.lit('Validation'))\n",
    "        .otherwise(pl.lit('Training'))\n",
    "        .alias('Training_Validation')\n",
    "    ))\n",
    "q2_table"
   ]
  },
  {
   "cell_type": "code",
   "execution_count": null,
   "id": "6daf297f-8e22-4817-9e6d-1c9c9a7f78ab",
   "metadata": {},
   "outputs": [],
   "source": []
  }
 ],
 "metadata": {
  "kernelspec": {
   "display_name": "Python 3 (ipykernel)",
   "language": "python",
   "name": "python3"
  },
  "language_info": {
   "codemirror_mode": {
    "name": "ipython",
    "version": 3
   },
   "file_extension": ".py",
   "mimetype": "text/x-python",
   "name": "python",
   "nbconvert_exporter": "python",
   "pygments_lexer": "ipython3",
   "version": "3.12.5"
  }
 },
 "nbformat": 4,
 "nbformat_minor": 5
}
