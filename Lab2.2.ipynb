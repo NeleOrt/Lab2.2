{
 "cells": [
  {
   "cell_type": "code",
   "execution_count": 1,
   "id": "325ebd7b-81da-409d-801b-9016f869851f",
   "metadata": {},
   "outputs": [],
   "source": [
    "import polars as pl"
   ]
  },
  {
   "cell_type": "code",
   "execution_count": 2,
   "id": "c9988e5a-8a51-440f-988a-6c4bbf945163",
   "metadata": {},
   "outputs": [
    {
     "data": {
      "text/html": [
       "<div><style>\n",
       ".dataframe > thead > tr,\n",
       ".dataframe > tbody > tr {\n",
       "  text-align: right;\n",
       "  white-space: pre-wrap;\n",
       "}\n",
       "</style>\n",
       "<small>shape: (5, 6)</small><table border=\"1\" class=\"dataframe\"><thead><tr><th>playerID</th><th>awardID</th><th>yearID</th><th>lgID</th><th>tie</th><th>notes</th></tr><tr><td>str</td><td>str</td><td>i64</td><td>str</td><td>str</td><td>str</td></tr></thead><tbody><tr><td>&quot;poseybu01&quot;</td><td>&quot;Lou Gehrig Memorial Award&quot;</td><td>2019</td><td>&quot;ML&quot;</td><td>null</td><td>null</td></tr><tr><td>&quot;klubeco01&quot;</td><td>&quot;Lou Gehrig Memorial Award&quot;</td><td>2018</td><td>&quot;ML&quot;</td><td>null</td><td>null</td></tr><tr><td>&quot;vottojo01&quot;</td><td>&quot;Lou Gehrig Memorial Award&quot;</td><td>2017</td><td>&quot;ML&quot;</td><td>null</td><td>null</td></tr><tr><td>&quot;altuvjo01&quot;</td><td>&quot;Lou Gehrig Memorial Award&quot;</td><td>2016</td><td>&quot;ML&quot;</td><td>null</td><td>null</td></tr><tr><td>&quot;grandcu01&quot;</td><td>&quot;Lou Gehrig Memorial Award&quot;</td><td>2015</td><td>&quot;ML&quot;</td><td>null</td><td>null</td></tr></tbody></table></div>"
      ],
      "text/plain": [
       "shape: (5, 6)\n",
       "┌───────────┬───────────────────────────┬────────┬──────┬──────┬───────┐\n",
       "│ playerID  ┆ awardID                   ┆ yearID ┆ lgID ┆ tie  ┆ notes │\n",
       "│ ---       ┆ ---                       ┆ ---    ┆ ---  ┆ ---  ┆ ---   │\n",
       "│ str       ┆ str                       ┆ i64    ┆ str  ┆ str  ┆ str   │\n",
       "╞═══════════╪═══════════════════════════╪════════╪══════╪══════╪═══════╡\n",
       "│ poseybu01 ┆ Lou Gehrig Memorial Award ┆ 2019   ┆ ML   ┆ null ┆ null  │\n",
       "│ klubeco01 ┆ Lou Gehrig Memorial Award ┆ 2018   ┆ ML   ┆ null ┆ null  │\n",
       "│ vottojo01 ┆ Lou Gehrig Memorial Award ┆ 2017   ┆ ML   ┆ null ┆ null  │\n",
       "│ altuvjo01 ┆ Lou Gehrig Memorial Award ┆ 2016   ┆ ML   ┆ null ┆ null  │\n",
       "│ grandcu01 ┆ Lou Gehrig Memorial Award ┆ 2015   ┆ ML   ┆ null ┆ null  │\n",
       "└───────────┴───────────────────────────┴────────┴──────┴──────┴───────┘"
      ]
     },
     "execution_count": 2,
     "metadata": {},
     "output_type": "execute_result"
    }
   ],
   "source": [
    "awardsPlayers = pl.read_csv('./Data/AwardsPlayers.csv') \n",
    "awardsPlayers.head()"
   ]
  },
  {
   "cell_type": "code",
   "execution_count": 12,
   "id": "1956ea19-7363-4113-8fca-231e40ba2464",
   "metadata": {},
   "outputs": [
    {
     "data": {
      "text/html": [
       "<div><style>\n",
       ".dataframe > thead > tr,\n",
       ".dataframe > tbody > tr {\n",
       "  text-align: right;\n",
       "  white-space: pre-wrap;\n",
       "}\n",
       "</style>\n",
       "<small>shape: (5, 18)</small><table border=\"1\" class=\"dataframe\"><thead><tr><th>playerID</th><th>yearID</th><th>stint</th><th>teamID</th><th>lgID</th><th>POS</th><th>G</th><th>GS</th><th>InnOuts</th><th>PO</th><th>A</th><th>E</th><th>DP</th><th>PB</th><th>WP</th><th>SB</th><th>CS</th><th>ZR</th></tr><tr><td>str</td><td>i64</td><td>i64</td><td>str</td><td>str</td><td>str</td><td>i64</td><td>i64</td><td>i64</td><td>i64</td><td>i64</td><td>i64</td><td>i64</td><td>str</td><td>str</td><td>str</td><td>str</td><td>str</td></tr></thead><tbody><tr><td>&quot;aardsda01&quot;</td><td>2004</td><td>1</td><td>&quot;SFN&quot;</td><td>&quot;NL&quot;</td><td>&quot;P&quot;</td><td>11</td><td>0</td><td>32</td><td>0</td><td>0</td><td>0</td><td>0</td><td>null</td><td>null</td><td>null</td><td>null</td><td>null</td></tr><tr><td>&quot;aardsda01&quot;</td><td>2006</td><td>1</td><td>&quot;CHN&quot;</td><td>&quot;NL&quot;</td><td>&quot;P&quot;</td><td>45</td><td>0</td><td>159</td><td>1</td><td>5</td><td>0</td><td>1</td><td>null</td><td>null</td><td>null</td><td>null</td><td>null</td></tr><tr><td>&quot;aardsda01&quot;</td><td>2007</td><td>1</td><td>&quot;CHA&quot;</td><td>&quot;AL&quot;</td><td>&quot;P&quot;</td><td>25</td><td>0</td><td>97</td><td>2</td><td>4</td><td>1</td><td>0</td><td>null</td><td>null</td><td>null</td><td>null</td><td>null</td></tr><tr><td>&quot;aardsda01&quot;</td><td>2008</td><td>1</td><td>&quot;BOS&quot;</td><td>&quot;AL&quot;</td><td>&quot;P&quot;</td><td>47</td><td>0</td><td>146</td><td>3</td><td>6</td><td>0</td><td>0</td><td>null</td><td>null</td><td>null</td><td>null</td><td>null</td></tr><tr><td>&quot;aardsda01&quot;</td><td>2009</td><td>1</td><td>&quot;SEA&quot;</td><td>&quot;AL&quot;</td><td>&quot;P&quot;</td><td>73</td><td>0</td><td>214</td><td>2</td><td>5</td><td>0</td><td>1</td><td>null</td><td>null</td><td>null</td><td>null</td><td>null</td></tr></tbody></table></div>"
      ],
      "text/plain": [
       "shape: (5, 18)\n",
       "┌───────────┬────────┬───────┬────────┬───┬──────┬──────┬──────┬──────┐\n",
       "│ playerID  ┆ yearID ┆ stint ┆ teamID ┆ … ┆ WP   ┆ SB   ┆ CS   ┆ ZR   │\n",
       "│ ---       ┆ ---    ┆ ---   ┆ ---    ┆   ┆ ---  ┆ ---  ┆ ---  ┆ ---  │\n",
       "│ str       ┆ i64    ┆ i64   ┆ str    ┆   ┆ str  ┆ str  ┆ str  ┆ str  │\n",
       "╞═══════════╪════════╪═══════╪════════╪═══╪══════╪══════╪══════╪══════╡\n",
       "│ aardsda01 ┆ 2004   ┆ 1     ┆ SFN    ┆ … ┆ null ┆ null ┆ null ┆ null │\n",
       "│ aardsda01 ┆ 2006   ┆ 1     ┆ CHN    ┆ … ┆ null ┆ null ┆ null ┆ null │\n",
       "│ aardsda01 ┆ 2007   ┆ 1     ┆ CHA    ┆ … ┆ null ┆ null ┆ null ┆ null │\n",
       "│ aardsda01 ┆ 2008   ┆ 1     ┆ BOS    ┆ … ┆ null ┆ null ┆ null ┆ null │\n",
       "│ aardsda01 ┆ 2009   ┆ 1     ┆ SEA    ┆ … ┆ null ┆ null ┆ null ┆ null │\n",
       "└───────────┴────────┴───────┴────────┴───┴──────┴──────┴──────┴──────┘"
      ]
     },
     "execution_count": 12,
     "metadata": {},
     "output_type": "execute_result"
    }
   ],
   "source": [
    "fielding = pl.read_csv('./Data/Fielding.csv') \n",
    "fielding.head()"
   ]
  },
  {
   "cell_type": "code",
   "execution_count": 13,
   "id": "d63708d7-b652-49d4-b93a-497e9fa4cf1a",
   "metadata": {},
   "outputs": [
    {
     "data": {
      "text/html": [
       "<div><style>\n",
       ".dataframe > thead > tr,\n",
       ".dataframe > tbody > tr {\n",
       "  text-align: right;\n",
       "  white-space: pre-wrap;\n",
       "}\n",
       "</style>\n",
       "<small>shape: (5, 5)</small><table border=\"1\" class=\"dataframe\"><thead><tr><th>yearID</th><th>teamID</th><th>lgID</th><th>playerID</th><th>salary</th></tr><tr><td>i64</td><td>str</td><td>str</td><td>str</td><td>i64</td></tr></thead><tbody><tr><td>1985</td><td>&quot;ATL&quot;</td><td>&quot;NL&quot;</td><td>&quot;barkele01&quot;</td><td>870000</td></tr><tr><td>1985</td><td>&quot;ATL&quot;</td><td>&quot;NL&quot;</td><td>&quot;bedrost01&quot;</td><td>550000</td></tr><tr><td>1985</td><td>&quot;ATL&quot;</td><td>&quot;NL&quot;</td><td>&quot;benedbr01&quot;</td><td>545000</td></tr><tr><td>1985</td><td>&quot;ATL&quot;</td><td>&quot;NL&quot;</td><td>&quot;campri01&quot;</td><td>633333</td></tr><tr><td>1985</td><td>&quot;ATL&quot;</td><td>&quot;NL&quot;</td><td>&quot;ceronri01&quot;</td><td>625000</td></tr></tbody></table></div>"
      ],
      "text/plain": [
       "shape: (5, 5)\n",
       "┌────────┬────────┬──────┬───────────┬────────┐\n",
       "│ yearID ┆ teamID ┆ lgID ┆ playerID  ┆ salary │\n",
       "│ ---    ┆ ---    ┆ ---  ┆ ---       ┆ ---    │\n",
       "│ i64    ┆ str    ┆ str  ┆ str       ┆ i64    │\n",
       "╞════════╪════════╪══════╪═══════════╪════════╡\n",
       "│ 1985   ┆ ATL    ┆ NL   ┆ barkele01 ┆ 870000 │\n",
       "│ 1985   ┆ ATL    ┆ NL   ┆ bedrost01 ┆ 550000 │\n",
       "│ 1985   ┆ ATL    ┆ NL   ┆ benedbr01 ┆ 545000 │\n",
       "│ 1985   ┆ ATL    ┆ NL   ┆ campri01  ┆ 633333 │\n",
       "│ 1985   ┆ ATL    ┆ NL   ┆ ceronri01 ┆ 625000 │\n",
       "└────────┴────────┴──────┴───────────┴────────┘"
      ]
     },
     "execution_count": 13,
     "metadata": {},
     "output_type": "execute_result"
    }
   ],
   "source": [
    "salaries = pl.read_csv('./Data/Salaries.csv') \n",
    "salaries.head()"
   ]
  },
  {
   "cell_type": "code",
   "execution_count": 43,
   "id": "5e5ab2e1-b57c-4c7f-bef5-00f134828af7",
   "metadata": {},
   "outputs": [
    {
     "data": {
      "text/html": [
       "<div><style>\n",
       ".dataframe > thead > tr,\n",
       ".dataframe > tbody > tr {\n",
       "  text-align: right;\n",
       "  white-space: pre-wrap;\n",
       "}\n",
       "</style>\n",
       "<small>shape: (574, 4)</small><table border=\"1\" class=\"dataframe\"><thead><tr><th>playerID</th><th>yearID</th><th>lgID</th><th>GoldGloveWinner</th></tr><tr><td>str</td><td>i64</td><td>str</td><td>str</td></tr></thead><tbody><tr><td>&quot;abreujo02&quot;</td><td>2014</td><td>&quot;AL&quot;</td><td>&quot;No&quot;</td></tr><tr><td>&quot;abreujo02&quot;</td><td>2018</td><td>&quot;AL&quot;</td><td>&quot;No&quot;</td></tr><tr><td>&quot;abreujo02&quot;</td><td>2020</td><td>&quot;ML&quot;</td><td>&quot;No&quot;</td></tr><tr><td>&quot;abreujo02&quot;</td><td>2020</td><td>&quot;AL&quot;</td><td>&quot;No&quot;</td></tr><tr><td>&quot;abreujo02&quot;</td><td>2022</td><td>&quot;AL&quot;</td><td>&quot;No&quot;</td></tr><tr><td>&hellip;</td><td>&hellip;</td><td>&hellip;</td><td>&hellip;</td></tr><tr><td>&quot;yelicch01&quot;</td><td>2018</td><td>&quot;NL&quot;</td><td>&quot;No&quot;</td></tr><tr><td>&quot;yelicch01&quot;</td><td>2019</td><td>&quot;NL&quot;</td><td>&quot;No&quot;</td></tr><tr><td>&quot;youngch03&quot;</td><td>2014</td><td>&quot;AL&quot;</td><td>&quot;No&quot;</td></tr><tr><td>&quot;zimmery01&quot;</td><td>2017</td><td>&quot;NL&quot;</td><td>&quot;No&quot;</td></tr><tr><td>&quot;zobribe01&quot;</td><td>2016</td><td>&quot;ML&quot;</td><td>&quot;No&quot;</td></tr></tbody></table></div>"
      ],
      "text/plain": [
       "shape: (574, 4)\n",
       "┌───────────┬────────┬──────┬─────────────────┐\n",
       "│ playerID  ┆ yearID ┆ lgID ┆ GoldGloveWinner │\n",
       "│ ---       ┆ ---    ┆ ---  ┆ ---             │\n",
       "│ str       ┆ i64    ┆ str  ┆ str             │\n",
       "╞═══════════╪════════╪══════╪═════════════════╡\n",
       "│ abreujo02 ┆ 2014   ┆ AL   ┆ No              │\n",
       "│ abreujo02 ┆ 2018   ┆ AL   ┆ No              │\n",
       "│ abreujo02 ┆ 2020   ┆ ML   ┆ No              │\n",
       "│ abreujo02 ┆ 2020   ┆ AL   ┆ No              │\n",
       "│ abreujo02 ┆ 2022   ┆ AL   ┆ No              │\n",
       "│ …         ┆ …      ┆ …    ┆ …               │\n",
       "│ yelicch01 ┆ 2018   ┆ NL   ┆ No              │\n",
       "│ yelicch01 ┆ 2019   ┆ NL   ┆ No              │\n",
       "│ youngch03 ┆ 2014   ┆ AL   ┆ No              │\n",
       "│ zimmery01 ┆ 2017   ┆ NL   ┆ No              │\n",
       "│ zobribe01 ┆ 2016   ┆ ML   ┆ No              │\n",
       "└───────────┴────────┴──────┴─────────────────┘"
      ]
     },
     "execution_count": 43,
     "metadata": {},
     "output_type": "execute_result"
    }
   ],
   "source": [
    "awardsPlayers_edit = (awardsPlayers\n",
    "                      .filter(pl.col('yearID') >= 2013)\n",
    "                      .with_columns(\n",
    "                          pl.when(pl.col('awardID') == 'Gold Glove')\n",
    "                          .then(pl.lit('Yes'))\n",
    "                          .otherwise(pl.lit('No'))\n",
    "                          .alias('GoldGloveWinner')\n",
    "                      )\n",
    "                      .select(pl.col('playerID'), pl.col('yearID'), pl.col('GoldGloveWinner'), pl.col('lgID'), pl.col('notes'))\n",
    "                       .group_by(['playerID', 'yearID', 'lgID'])\n",
    "                       .agg(\n",
    "                           pl.max('GoldGloveWinner').alias('GoldGloveWinner')\n",
    "                       )\n",
    "                      .sort(pl.col('playerID'), pl.col('yearID'))\n",
    "                     )\n",
    "awardsPlayers_edit"
   ]
  },
  {
   "cell_type": "code",
   "execution_count": 51,
   "id": "6764c85c-ed5d-404c-98f4-0bed444c4e33",
   "metadata": {},
   "outputs": [
    {
     "data": {
      "text/html": [
       "<div><style>\n",
       ".dataframe > thead > tr,\n",
       ".dataframe > tbody > tr {\n",
       "  text-align: right;\n",
       "  white-space: pre-wrap;\n",
       "}\n",
       "</style>\n",
       "<small>shape: (21_356, 11)</small><table border=\"1\" class=\"dataframe\"><thead><tr><th>yearID</th><th>playerID</th><th>POS</th><th>lgID</th><th>G</th><th>GS</th><th>InnOuts</th><th>PO</th><th>A</th><th>DP</th><th>stint</th></tr><tr><td>i64</td><td>str</td><td>str</td><td>str</td><td>i64</td><td>i64</td><td>i64</td><td>i64</td><td>i64</td><td>i64</td><td>i64</td></tr></thead><tbody><tr><td>2013</td><td>&quot;aardsda01&quot;</td><td>&quot;P&quot;</td><td>&quot;NL&quot;</td><td>43</td><td>0</td><td>119</td><td>1</td><td>5</td><td>0</td><td>1</td></tr><tr><td>2015</td><td>&quot;aardsda01&quot;</td><td>&quot;P&quot;</td><td>&quot;NL&quot;</td><td>33</td><td>0</td><td>92</td><td>0</td><td>1</td><td>0</td><td>1</td></tr><tr><td>2013</td><td>&quot;abadfe01&quot;</td><td>&quot;P&quot;</td><td>&quot;NL&quot;</td><td>39</td><td>0</td><td>113</td><td>1</td><td>4</td><td>0</td><td>1</td></tr><tr><td>2014</td><td>&quot;abadfe01&quot;</td><td>&quot;P&quot;</td><td>&quot;AL&quot;</td><td>69</td><td>0</td><td>172</td><td>0</td><td>8</td><td>0</td><td>1</td></tr><tr><td>2015</td><td>&quot;abadfe01&quot;</td><td>&quot;P&quot;</td><td>&quot;AL&quot;</td><td>62</td><td>0</td><td>143</td><td>2</td><td>4</td><td>0</td><td>1</td></tr><tr><td>&hellip;</td><td>&hellip;</td><td>&hellip;</td><td>&hellip;</td><td>&hellip;</td><td>&hellip;</td><td>&hellip;</td><td>&hellip;</td><td>&hellip;</td><td>&hellip;</td><td>&hellip;</td></tr><tr><td>2022</td><td>&quot;zuninmi01&quot;</td><td>&quot;C&quot;</td><td>&quot;AL&quot;</td><td>35</td><td>34</td><td>898</td><td>283</td><td>9</td><td>0</td><td>1</td></tr><tr><td>2023</td><td>&quot;zuninmi01&quot;</td><td>&quot;C&quot;</td><td>&quot;AL&quot;</td><td>42</td><td>41</td><td>1019</td><td>276</td><td>17</td><td>2</td><td>1</td></tr><tr><td>2015</td><td>&quot;zychto01&quot;</td><td>&quot;P&quot;</td><td>&quot;AL&quot;</td><td>13</td><td>1</td><td>55</td><td>0</td><td>3</td><td>0</td><td>1</td></tr><tr><td>2016</td><td>&quot;zychto01&quot;</td><td>&quot;P&quot;</td><td>&quot;AL&quot;</td><td>12</td><td>0</td><td>41</td><td>0</td><td>0</td><td>0</td><td>1</td></tr><tr><td>2017</td><td>&quot;zychto01&quot;</td><td>&quot;P&quot;</td><td>&quot;AL&quot;</td><td>45</td><td>0</td><td>122</td><td>1</td><td>3</td><td>0</td><td>1</td></tr></tbody></table></div>"
      ],
      "text/plain": [
       "shape: (21_356, 11)\n",
       "┌────────┬───────────┬─────┬──────┬───┬─────┬─────┬─────┬───────┐\n",
       "│ yearID ┆ playerID  ┆ POS ┆ lgID ┆ … ┆ PO  ┆ A   ┆ DP  ┆ stint │\n",
       "│ ---    ┆ ---       ┆ --- ┆ ---  ┆   ┆ --- ┆ --- ┆ --- ┆ ---   │\n",
       "│ i64    ┆ str       ┆ str ┆ str  ┆   ┆ i64 ┆ i64 ┆ i64 ┆ i64   │\n",
       "╞════════╪═══════════╪═════╪══════╪═══╪═════╪═════╪═════╪═══════╡\n",
       "│ 2013   ┆ aardsda01 ┆ P   ┆ NL   ┆ … ┆ 1   ┆ 5   ┆ 0   ┆ 1     │\n",
       "│ 2015   ┆ aardsda01 ┆ P   ┆ NL   ┆ … ┆ 0   ┆ 1   ┆ 0   ┆ 1     │\n",
       "│ 2013   ┆ abadfe01  ┆ P   ┆ NL   ┆ … ┆ 1   ┆ 4   ┆ 0   ┆ 1     │\n",
       "│ 2014   ┆ abadfe01  ┆ P   ┆ AL   ┆ … ┆ 0   ┆ 8   ┆ 0   ┆ 1     │\n",
       "│ 2015   ┆ abadfe01  ┆ P   ┆ AL   ┆ … ┆ 2   ┆ 4   ┆ 0   ┆ 1     │\n",
       "│ …      ┆ …         ┆ …   ┆ …    ┆ … ┆ …   ┆ …   ┆ …   ┆ …     │\n",
       "│ 2022   ┆ zuninmi01 ┆ C   ┆ AL   ┆ … ┆ 283 ┆ 9   ┆ 0   ┆ 1     │\n",
       "│ 2023   ┆ zuninmi01 ┆ C   ┆ AL   ┆ … ┆ 276 ┆ 17  ┆ 2   ┆ 1     │\n",
       "│ 2015   ┆ zychto01  ┆ P   ┆ AL   ┆ … ┆ 0   ┆ 3   ┆ 0   ┆ 1     │\n",
       "│ 2016   ┆ zychto01  ┆ P   ┆ AL   ┆ … ┆ 0   ┆ 0   ┆ 0   ┆ 1     │\n",
       "│ 2017   ┆ zychto01  ┆ P   ┆ AL   ┆ … ┆ 1   ┆ 3   ┆ 0   ┆ 1     │\n",
       "└────────┴───────────┴─────┴──────┴───┴─────┴─────┴─────┴───────┘"
      ]
     },
     "execution_count": 51,
     "metadata": {},
     "output_type": "execute_result"
    }
   ],
   "source": [
    "fielding_edit = (fielding\n",
    "                 .filter(pl.col('yearID') >= 2013)\n",
    "                 .group_by(pl.col('yearID'), pl.col('playerID'), pl.col('POS'), pl.col('lgID'))\n",
    "                 .agg(pl.col('G').sum(), pl.col('GS').sum(), pl.col('InnOuts').sum(), pl.col('PO').sum(), pl.col('A').sum(), pl.col('DP').sum(),\n",
    "                      pl.col('stint').sum())\n",
    "                 .sort(pl.col('playerID'), pl.col('yearID'))\n",
    "                )\n",
    "fielding_edit"
   ]
  },
  {
   "cell_type": "code",
   "execution_count": 54,
   "id": "f200db9f-df36-4891-a2b3-9f55db6a0e2b",
   "metadata": {},
   "outputs": [
    {
     "data": {
      "text/html": [
       "<div><style>\n",
       ".dataframe > thead > tr,\n",
       ".dataframe > tbody > tr {\n",
       "  text-align: right;\n",
       "  white-space: pre-wrap;\n",
       "}\n",
       "</style>\n",
       "<small>shape: (14, 12)</small><table border=\"1\" class=\"dataframe\"><thead><tr><th>playerID</th><th>yearID</th><th>lgID</th><th>GoldGloveWinner</th><th>POS</th><th>G</th><th>GS</th><th>InnOuts</th><th>PO</th><th>A</th><th>DP</th><th>stint</th></tr><tr><td>str</td><td>i64</td><td>str</td><td>str</td><td>str</td><td>i64</td><td>i64</td><td>i64</td><td>i64</td><td>i64</td><td>i64</td><td>i64</td></tr></thead><tbody><tr><td>&quot;belljo02&quot;</td><td>2022</td><td>&quot;NL&quot;</td><td>&quot;No&quot;</td><td>&quot;1B&quot;</td><td>124</td><td>120</td><td>3133</td><td>868</td><td>83</td><td>78</td><td>3</td></tr><tr><td>&quot;drurybr01&quot;</td><td>2022</td><td>&quot;NL&quot;</td><td>&quot;No&quot;</td><td>&quot;1B&quot;</td><td>30</td><td>24</td><td>665</td><td>185</td><td>16</td><td>16</td><td>3</td></tr><tr><td>&quot;drurybr01&quot;</td><td>2022</td><td>&quot;NL&quot;</td><td>&quot;No&quot;</td><td>&quot;2B&quot;</td><td>27</td><td>23</td><td>571</td><td>28</td><td>47</td><td>9</td><td>3</td></tr><tr><td>&quot;drurybr01&quot;</td><td>2022</td><td>&quot;NL&quot;</td><td>&quot;No&quot;</td><td>&quot;3B&quot;</td><td>67</td><td>58</td><td>1539</td><td>39</td><td>77</td><td>11</td><td>3</td></tr><tr><td>&quot;duvalad01&quot;</td><td>2021</td><td>&quot;NL&quot;</td><td>&quot;Yes&quot;</td><td>&quot;OF&quot;</td><td>138</td><td>133</td><td>3465</td><td>260</td><td>12</td><td>1</td><td>3</td></tr><tr><td>&hellip;</td><td>&hellip;</td><td>&hellip;</td><td>&hellip;</td><td>&hellip;</td><td>&hellip;</td><td>&hellip;</td><td>&hellip;</td><td>&hellip;</td><td>&hellip;</td><td>&hellip;</td><td>&hellip;</td></tr><tr><td>&quot;scherma01&quot;</td><td>2021</td><td>&quot;NL&quot;</td><td>&quot;No&quot;</td><td>&quot;P&quot;</td><td>30</td><td>30</td><td>538</td><td>8</td><td>10</td><td>0</td><td>3</td></tr><tr><td>&quot;sotoju01&quot;</td><td>2022</td><td>&quot;NL&quot;</td><td>&quot;No&quot;</td><td>&quot;OF&quot;</td><td>151</td><td>151</td><td>3895</td><td>304</td><td>3</td><td>0</td><td>3</td></tr><tr><td>&quot;uptonju01&quot;</td><td>2017</td><td>&quot;AL&quot;</td><td>&quot;No&quot;</td><td>&quot;OF&quot;</td><td>151</td><td>151</td><td>3863</td><td>318</td><td>9</td><td>0</td><td>3</td></tr><tr><td>&quot;ventejo01&quot;</td><td>2018</td><td>&quot;NL&quot;</td><td>&quot;No&quot;</td><td>&quot;P&quot;</td><td>28</td><td>0</td><td>61</td><td>0</td><td>3</td><td>0</td><td>2</td></tr><tr><td>&quot;verlaju01&quot;</td><td>2017</td><td>&quot;AL&quot;</td><td>&quot;No&quot;</td><td>&quot;P&quot;</td><td>33</td><td>33</td><td>618</td><td>10</td><td>13</td><td>1</td><td>3</td></tr></tbody></table></div>"
      ],
      "text/plain": [
       "shape: (14, 12)\n",
       "┌───────────┬────────┬──────┬─────────────────┬───┬─────┬─────┬─────┬───────┐\n",
       "│ playerID  ┆ yearID ┆ lgID ┆ GoldGloveWinner ┆ … ┆ PO  ┆ A   ┆ DP  ┆ stint │\n",
       "│ ---       ┆ ---    ┆ ---  ┆ ---             ┆   ┆ --- ┆ --- ┆ --- ┆ ---   │\n",
       "│ str       ┆ i64    ┆ str  ┆ str             ┆   ┆ i64 ┆ i64 ┆ i64 ┆ i64   │\n",
       "╞═══════════╪════════╪══════╪═════════════════╪═══╪═════╪═════╪═════╪═══════╡\n",
       "│ belljo02  ┆ 2022   ┆ NL   ┆ No              ┆ … ┆ 868 ┆ 83  ┆ 78  ┆ 3     │\n",
       "│ drurybr01 ┆ 2022   ┆ NL   ┆ No              ┆ … ┆ 185 ┆ 16  ┆ 16  ┆ 3     │\n",
       "│ drurybr01 ┆ 2022   ┆ NL   ┆ No              ┆ … ┆ 28  ┆ 47  ┆ 9   ┆ 3     │\n",
       "│ drurybr01 ┆ 2022   ┆ NL   ┆ No              ┆ … ┆ 39  ┆ 77  ┆ 11  ┆ 3     │\n",
       "│ duvalad01 ┆ 2021   ┆ NL   ┆ Yes             ┆ … ┆ 260 ┆ 12  ┆ 1   ┆ 3     │\n",
       "│ …         ┆ …      ┆ …    ┆ …               ┆ … ┆ …   ┆ …   ┆ …   ┆ …     │\n",
       "│ scherma01 ┆ 2021   ┆ NL   ┆ No              ┆ … ┆ 8   ┆ 10  ┆ 0   ┆ 3     │\n",
       "│ sotoju01  ┆ 2022   ┆ NL   ┆ No              ┆ … ┆ 304 ┆ 3   ┆ 0   ┆ 3     │\n",
       "│ uptonju01 ┆ 2017   ┆ AL   ┆ No              ┆ … ┆ 318 ┆ 9   ┆ 0   ┆ 3     │\n",
       "│ ventejo01 ┆ 2018   ┆ NL   ┆ No              ┆ … ┆ 0   ┆ 3   ┆ 0   ┆ 2     │\n",
       "│ verlaju01 ┆ 2017   ┆ AL   ┆ No              ┆ … ┆ 10  ┆ 13  ┆ 1   ┆ 3     │\n",
       "└───────────┴────────┴──────┴─────────────────┴───┴─────┴─────┴─────┴───────┘"
      ]
     },
     "execution_count": 54,
     "metadata": {},
     "output_type": "execute_result"
    }
   ],
   "source": [
    "fieldingAwards = awardsPlayers_edit.join(fielding_edit, on=['yearID', 'playerID', 'lgID'], how='left').filter(pl.col('stint')>=2)\n",
    "fieldingAwards"
   ]
  },
  {
   "cell_type": "code",
   "execution_count": 53,
   "id": "9d96956f-338f-40fd-aaad-35d585e7f5a1",
   "metadata": {},
   "outputs": [
    {
     "data": {
      "text/html": [
       "<div><style>\n",
       ".dataframe > thead > tr,\n",
       ".dataframe > tbody > tr {\n",
       "  text-align: right;\n",
       "  white-space: pre-wrap;\n",
       "}\n",
       "</style>\n",
       "<small>shape: (4, 1)</small><table border=\"1\" class=\"dataframe\"><thead><tr><th>stint</th></tr><tr><td>i64</td></tr></thead><tbody><tr><td>null</td></tr><tr><td>3</td></tr><tr><td>1</td></tr><tr><td>2</td></tr></tbody></table></div>"
      ],
      "text/plain": [
       "shape: (4, 1)\n",
       "┌───────┐\n",
       "│ stint │\n",
       "│ ---   │\n",
       "│ i64   │\n",
       "╞═══════╡\n",
       "│ null  │\n",
       "│ 3     │\n",
       "│ 1     │\n",
       "│ 2     │\n",
       "└───────┘"
      ]
     },
     "execution_count": 53,
     "metadata": {},
     "output_type": "execute_result"
    }
   ],
   "source": [
    "unique_gold_glove_winners = fieldingAwards.select('stint').unique()\n",
    "unique_gold_glove_winners"
   ]
  },
  {
   "cell_type": "code",
   "execution_count": null,
   "id": "deeb41f5-8ead-4b88-bdaf-4c44e28f0bdb",
   "metadata": {},
   "outputs": [],
   "source": []
  }
 ],
 "metadata": {
  "kernelspec": {
   "display_name": "Python 3 (ipykernel)",
   "language": "python",
   "name": "python3"
  },
  "language_info": {
   "codemirror_mode": {
    "name": "ipython",
    "version": 3
   },
   "file_extension": ".py",
   "mimetype": "text/x-python",
   "name": "python",
   "nbconvert_exporter": "python",
   "pygments_lexer": "ipython3",
   "version": "3.12.5"
  }
 },
 "nbformat": 4,
 "nbformat_minor": 5
}
