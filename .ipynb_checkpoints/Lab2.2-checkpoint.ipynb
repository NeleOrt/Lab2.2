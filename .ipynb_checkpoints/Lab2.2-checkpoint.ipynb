{
 "cells": [
  {
   "cell_type": "markdown",
   "id": "9d8fe53e-a987-4b65-ad13-cdffa6e394df",
   "metadata": {},
   "source": [
    "# Reading in data"
   ]
  },
  {
   "cell_type": "code",
   "execution_count": 716,
   "id": "325ebd7b-81da-409d-801b-9016f869851f",
   "metadata": {},
   "outputs": [],
   "source": [
    "import polars as pl"
   ]
  },
  {
   "cell_type": "code",
   "execution_count": 717,
   "id": "c9988e5a-8a51-440f-988a-6c4bbf945163",
   "metadata": {},
   "outputs": [
    {
     "data": {
      "text/html": [
       "<div><style>\n",
       ".dataframe > thead > tr,\n",
       ".dataframe > tbody > tr {\n",
       "  text-align: right;\n",
       "  white-space: pre-wrap;\n",
       "}\n",
       "</style>\n",
       "<small>shape: (5, 6)</small><table border=\"1\" class=\"dataframe\"><thead><tr><th>playerID</th><th>awardID</th><th>yearID</th><th>lgID</th><th>tie</th><th>notes</th></tr><tr><td>str</td><td>str</td><td>i64</td><td>str</td><td>str</td><td>str</td></tr></thead><tbody><tr><td>&quot;poseybu01&quot;</td><td>&quot;Lou Gehrig Memorial Award&quot;</td><td>2019</td><td>&quot;ML&quot;</td><td>null</td><td>null</td></tr><tr><td>&quot;klubeco01&quot;</td><td>&quot;Lou Gehrig Memorial Award&quot;</td><td>2018</td><td>&quot;ML&quot;</td><td>null</td><td>null</td></tr><tr><td>&quot;vottojo01&quot;</td><td>&quot;Lou Gehrig Memorial Award&quot;</td><td>2017</td><td>&quot;ML&quot;</td><td>null</td><td>null</td></tr><tr><td>&quot;altuvjo01&quot;</td><td>&quot;Lou Gehrig Memorial Award&quot;</td><td>2016</td><td>&quot;ML&quot;</td><td>null</td><td>null</td></tr><tr><td>&quot;grandcu01&quot;</td><td>&quot;Lou Gehrig Memorial Award&quot;</td><td>2015</td><td>&quot;ML&quot;</td><td>null</td><td>null</td></tr></tbody></table></div>"
      ],
      "text/plain": [
       "shape: (5, 6)\n",
       "┌───────────┬───────────────────────────┬────────┬──────┬──────┬───────┐\n",
       "│ playerID  ┆ awardID                   ┆ yearID ┆ lgID ┆ tie  ┆ notes │\n",
       "│ ---       ┆ ---                       ┆ ---    ┆ ---  ┆ ---  ┆ ---   │\n",
       "│ str       ┆ str                       ┆ i64    ┆ str  ┆ str  ┆ str   │\n",
       "╞═══════════╪═══════════════════════════╪════════╪══════╪══════╪═══════╡\n",
       "│ poseybu01 ┆ Lou Gehrig Memorial Award ┆ 2019   ┆ ML   ┆ null ┆ null  │\n",
       "│ klubeco01 ┆ Lou Gehrig Memorial Award ┆ 2018   ┆ ML   ┆ null ┆ null  │\n",
       "│ vottojo01 ┆ Lou Gehrig Memorial Award ┆ 2017   ┆ ML   ┆ null ┆ null  │\n",
       "│ altuvjo01 ┆ Lou Gehrig Memorial Award ┆ 2016   ┆ ML   ┆ null ┆ null  │\n",
       "│ grandcu01 ┆ Lou Gehrig Memorial Award ┆ 2015   ┆ ML   ┆ null ┆ null  │\n",
       "└───────────┴───────────────────────────┴────────┴──────┴──────┴───────┘"
      ]
     },
     "execution_count": 717,
     "metadata": {},
     "output_type": "execute_result"
    }
   ],
   "source": [
    "awardsPlayers = pl.read_csv('./Data/AwardsPlayers.csv') \n",
    "awardsPlayers.head()"
   ]
  },
  {
   "cell_type": "code",
   "execution_count": 718,
   "id": "1956ea19-7363-4113-8fca-231e40ba2464",
   "metadata": {},
   "outputs": [
    {
     "data": {
      "text/html": [
       "<div><style>\n",
       ".dataframe > thead > tr,\n",
       ".dataframe > tbody > tr {\n",
       "  text-align: right;\n",
       "  white-space: pre-wrap;\n",
       "}\n",
       "</style>\n",
       "<small>shape: (5, 18)</small><table border=\"1\" class=\"dataframe\"><thead><tr><th>playerID</th><th>yearID</th><th>stint</th><th>teamID</th><th>lgID</th><th>POS</th><th>G</th><th>GS</th><th>InnOuts</th><th>PO</th><th>A</th><th>E</th><th>DP</th><th>PB</th><th>WP</th><th>SB</th><th>CS</th><th>ZR</th></tr><tr><td>str</td><td>i64</td><td>i64</td><td>str</td><td>str</td><td>str</td><td>i64</td><td>i64</td><td>i64</td><td>i64</td><td>i64</td><td>i64</td><td>i64</td><td>str</td><td>str</td><td>str</td><td>str</td><td>str</td></tr></thead><tbody><tr><td>&quot;aardsda01&quot;</td><td>2004</td><td>1</td><td>&quot;SFN&quot;</td><td>&quot;NL&quot;</td><td>&quot;P&quot;</td><td>11</td><td>0</td><td>32</td><td>0</td><td>0</td><td>0</td><td>0</td><td>null</td><td>null</td><td>null</td><td>null</td><td>null</td></tr><tr><td>&quot;aardsda01&quot;</td><td>2006</td><td>1</td><td>&quot;CHN&quot;</td><td>&quot;NL&quot;</td><td>&quot;P&quot;</td><td>45</td><td>0</td><td>159</td><td>1</td><td>5</td><td>0</td><td>1</td><td>null</td><td>null</td><td>null</td><td>null</td><td>null</td></tr><tr><td>&quot;aardsda01&quot;</td><td>2007</td><td>1</td><td>&quot;CHA&quot;</td><td>&quot;AL&quot;</td><td>&quot;P&quot;</td><td>25</td><td>0</td><td>97</td><td>2</td><td>4</td><td>1</td><td>0</td><td>null</td><td>null</td><td>null</td><td>null</td><td>null</td></tr><tr><td>&quot;aardsda01&quot;</td><td>2008</td><td>1</td><td>&quot;BOS&quot;</td><td>&quot;AL&quot;</td><td>&quot;P&quot;</td><td>47</td><td>0</td><td>146</td><td>3</td><td>6</td><td>0</td><td>0</td><td>null</td><td>null</td><td>null</td><td>null</td><td>null</td></tr><tr><td>&quot;aardsda01&quot;</td><td>2009</td><td>1</td><td>&quot;SEA&quot;</td><td>&quot;AL&quot;</td><td>&quot;P&quot;</td><td>73</td><td>0</td><td>214</td><td>2</td><td>5</td><td>0</td><td>1</td><td>null</td><td>null</td><td>null</td><td>null</td><td>null</td></tr></tbody></table></div>"
      ],
      "text/plain": [
       "shape: (5, 18)\n",
       "┌───────────┬────────┬───────┬────────┬───┬──────┬──────┬──────┬──────┐\n",
       "│ playerID  ┆ yearID ┆ stint ┆ teamID ┆ … ┆ WP   ┆ SB   ┆ CS   ┆ ZR   │\n",
       "│ ---       ┆ ---    ┆ ---   ┆ ---    ┆   ┆ ---  ┆ ---  ┆ ---  ┆ ---  │\n",
       "│ str       ┆ i64    ┆ i64   ┆ str    ┆   ┆ str  ┆ str  ┆ str  ┆ str  │\n",
       "╞═══════════╪════════╪═══════╪════════╪═══╪══════╪══════╪══════╪══════╡\n",
       "│ aardsda01 ┆ 2004   ┆ 1     ┆ SFN    ┆ … ┆ null ┆ null ┆ null ┆ null │\n",
       "│ aardsda01 ┆ 2006   ┆ 1     ┆ CHN    ┆ … ┆ null ┆ null ┆ null ┆ null │\n",
       "│ aardsda01 ┆ 2007   ┆ 1     ┆ CHA    ┆ … ┆ null ┆ null ┆ null ┆ null │\n",
       "│ aardsda01 ┆ 2008   ┆ 1     ┆ BOS    ┆ … ┆ null ┆ null ┆ null ┆ null │\n",
       "│ aardsda01 ┆ 2009   ┆ 1     ┆ SEA    ┆ … ┆ null ┆ null ┆ null ┆ null │\n",
       "└───────────┴────────┴───────┴────────┴───┴──────┴──────┴──────┴──────┘"
      ]
     },
     "execution_count": 718,
     "metadata": {},
     "output_type": "execute_result"
    }
   ],
   "source": [
    "fielding = pl.read_csv('./Data/Fielding.csv') \n",
    "fielding.head()"
   ]
  },
  {
   "cell_type": "code",
   "execution_count": 719,
   "id": "d63708d7-b652-49d4-b93a-497e9fa4cf1a",
   "metadata": {},
   "outputs": [
    {
     "data": {
      "text/html": [
       "<div><style>\n",
       ".dataframe > thead > tr,\n",
       ".dataframe > tbody > tr {\n",
       "  text-align: right;\n",
       "  white-space: pre-wrap;\n",
       "}\n",
       "</style>\n",
       "<small>shape: (5, 5)</small><table border=\"1\" class=\"dataframe\"><thead><tr><th>yearID</th><th>teamID</th><th>lgID</th><th>playerID</th><th>salary</th></tr><tr><td>i64</td><td>str</td><td>str</td><td>str</td><td>i64</td></tr></thead><tbody><tr><td>1985</td><td>&quot;ATL&quot;</td><td>&quot;NL&quot;</td><td>&quot;barkele01&quot;</td><td>870000</td></tr><tr><td>1985</td><td>&quot;ATL&quot;</td><td>&quot;NL&quot;</td><td>&quot;bedrost01&quot;</td><td>550000</td></tr><tr><td>1985</td><td>&quot;ATL&quot;</td><td>&quot;NL&quot;</td><td>&quot;benedbr01&quot;</td><td>545000</td></tr><tr><td>1985</td><td>&quot;ATL&quot;</td><td>&quot;NL&quot;</td><td>&quot;campri01&quot;</td><td>633333</td></tr><tr><td>1985</td><td>&quot;ATL&quot;</td><td>&quot;NL&quot;</td><td>&quot;ceronri01&quot;</td><td>625000</td></tr></tbody></table></div>"
      ],
      "text/plain": [
       "shape: (5, 5)\n",
       "┌────────┬────────┬──────┬───────────┬────────┐\n",
       "│ yearID ┆ teamID ┆ lgID ┆ playerID  ┆ salary │\n",
       "│ ---    ┆ ---    ┆ ---  ┆ ---       ┆ ---    │\n",
       "│ i64    ┆ str    ┆ str  ┆ str       ┆ i64    │\n",
       "╞════════╪════════╪══════╪═══════════╪════════╡\n",
       "│ 1985   ┆ ATL    ┆ NL   ┆ barkele01 ┆ 870000 │\n",
       "│ 1985   ┆ ATL    ┆ NL   ┆ bedrost01 ┆ 550000 │\n",
       "│ 1985   ┆ ATL    ┆ NL   ┆ benedbr01 ┆ 545000 │\n",
       "│ 1985   ┆ ATL    ┆ NL   ┆ campri01  ┆ 633333 │\n",
       "│ 1985   ┆ ATL    ┆ NL   ┆ ceronri01 ┆ 625000 │\n",
       "└────────┴────────┴──────┴───────────┴────────┘"
      ]
     },
     "execution_count": 719,
     "metadata": {},
     "output_type": "execute_result"
    }
   ],
   "source": [
    "salaries = pl.read_csv('./Data/Salaries.csv') \n",
    "salaries.head()"
   ]
  },
  {
   "cell_type": "code",
   "execution_count": 720,
   "id": "c5459327-b1c2-46c6-80e9-974e62af56d7",
   "metadata": {},
   "outputs": [
    {
     "data": {
      "text/html": [
       "<div><style>\n",
       ".dataframe > thead > tr,\n",
       ".dataframe > tbody > tr {\n",
       "  text-align: right;\n",
       "  white-space: pre-wrap;\n",
       "}\n",
       "</style>\n",
       "<small>shape: (5, 24)</small><table border=\"1\" class=\"dataframe\"><thead><tr><th>playerID</th><th>yearID</th><th>stint</th><th>teamID</th><th>lgID</th><th>G</th><th>G_batting</th><th>AB</th><th>R</th><th>H</th><th>2B</th><th>3B</th><th>HR</th><th>RBI</th><th>SB</th><th>CS</th><th>BB</th><th>SO</th><th>IBB</th><th>HBP</th><th>SH</th><th>SF</th><th>GIDP</th><th>G_old</th></tr><tr><td>str</td><td>i64</td><td>i64</td><td>str</td><td>str</td><td>i64</td><td>i64</td><td>i64</td><td>i64</td><td>i64</td><td>i64</td><td>i64</td><td>i64</td><td>i64</td><td>i64</td><td>i64</td><td>i64</td><td>i64</td><td>i64</td><td>i64</td><td>i64</td><td>i64</td><td>i64</td><td>str</td></tr></thead><tbody><tr><td>&quot;aardsda01&quot;</td><td>2004</td><td>1</td><td>&quot;SFN&quot;</td><td>&quot;NL&quot;</td><td>11</td><td>null</td><td>0</td><td>0</td><td>0</td><td>0</td><td>0</td><td>0</td><td>0</td><td>0</td><td>0</td><td>0</td><td>0</td><td>0</td><td>0</td><td>0</td><td>0</td><td>0</td><td>null</td></tr><tr><td>&quot;aardsda01&quot;</td><td>2006</td><td>1</td><td>&quot;CHN&quot;</td><td>&quot;NL&quot;</td><td>45</td><td>null</td><td>2</td><td>0</td><td>0</td><td>0</td><td>0</td><td>0</td><td>0</td><td>0</td><td>0</td><td>0</td><td>0</td><td>0</td><td>0</td><td>1</td><td>0</td><td>0</td><td>null</td></tr><tr><td>&quot;aardsda01&quot;</td><td>2007</td><td>1</td><td>&quot;CHA&quot;</td><td>&quot;AL&quot;</td><td>25</td><td>null</td><td>0</td><td>0</td><td>0</td><td>0</td><td>0</td><td>0</td><td>0</td><td>0</td><td>0</td><td>0</td><td>0</td><td>0</td><td>0</td><td>0</td><td>0</td><td>0</td><td>null</td></tr><tr><td>&quot;aardsda01&quot;</td><td>2008</td><td>1</td><td>&quot;BOS&quot;</td><td>&quot;AL&quot;</td><td>47</td><td>null</td><td>1</td><td>0</td><td>0</td><td>0</td><td>0</td><td>0</td><td>0</td><td>0</td><td>0</td><td>0</td><td>1</td><td>0</td><td>0</td><td>0</td><td>0</td><td>0</td><td>null</td></tr><tr><td>&quot;aardsda01&quot;</td><td>2009</td><td>1</td><td>&quot;SEA&quot;</td><td>&quot;AL&quot;</td><td>73</td><td>null</td><td>0</td><td>0</td><td>0</td><td>0</td><td>0</td><td>0</td><td>0</td><td>0</td><td>0</td><td>0</td><td>0</td><td>0</td><td>0</td><td>0</td><td>0</td><td>0</td><td>null</td></tr></tbody></table></div>"
      ],
      "text/plain": [
       "shape: (5, 24)\n",
       "┌───────────┬────────┬───────┬────────┬───┬─────┬─────┬──────┬───────┐\n",
       "│ playerID  ┆ yearID ┆ stint ┆ teamID ┆ … ┆ SH  ┆ SF  ┆ GIDP ┆ G_old │\n",
       "│ ---       ┆ ---    ┆ ---   ┆ ---    ┆   ┆ --- ┆ --- ┆ ---  ┆ ---   │\n",
       "│ str       ┆ i64    ┆ i64   ┆ str    ┆   ┆ i64 ┆ i64 ┆ i64  ┆ str   │\n",
       "╞═══════════╪════════╪═══════╪════════╪═══╪═════╪═════╪══════╪═══════╡\n",
       "│ aardsda01 ┆ 2004   ┆ 1     ┆ SFN    ┆ … ┆ 0   ┆ 0   ┆ 0    ┆ null  │\n",
       "│ aardsda01 ┆ 2006   ┆ 1     ┆ CHN    ┆ … ┆ 1   ┆ 0   ┆ 0    ┆ null  │\n",
       "│ aardsda01 ┆ 2007   ┆ 1     ┆ CHA    ┆ … ┆ 0   ┆ 0   ┆ 0    ┆ null  │\n",
       "│ aardsda01 ┆ 2008   ┆ 1     ┆ BOS    ┆ … ┆ 0   ┆ 0   ┆ 0    ┆ null  │\n",
       "│ aardsda01 ┆ 2009   ┆ 1     ┆ SEA    ┆ … ┆ 0   ┆ 0   ┆ 0    ┆ null  │\n",
       "└───────────┴────────┴───────┴────────┴───┴─────┴─────┴──────┴───────┘"
      ]
     },
     "execution_count": 720,
     "metadata": {},
     "output_type": "execute_result"
    }
   ],
   "source": [
    "batting = pl.read_csv('./Data/Batting.csv') \n",
    "batting.head()"
   ]
  },
  {
   "cell_type": "code",
   "execution_count": 721,
   "id": "610fbe44-7bb1-4319-9a1f-9209be98bd50",
   "metadata": {},
   "outputs": [
    {
     "data": {
      "text/html": [
       "<div><style>\n",
       ".dataframe > thead > tr,\n",
       ".dataframe > tbody > tr {\n",
       "  text-align: right;\n",
       "  white-space: pre-wrap;\n",
       "}\n",
       "</style>\n",
       "<small>shape: (5, 30)</small><table border=\"1\" class=\"dataframe\"><thead><tr><th>playerID</th><th>yearID</th><th>stint</th><th>teamID</th><th>lgID</th><th>W</th><th>L</th><th>G</th><th>GS</th><th>CG</th><th>SHO</th><th>SV</th><th>IPouts</th><th>H</th><th>ER</th><th>HR</th><th>BB</th><th>SO</th><th>BAOpp</th><th>ERA</th><th>IBB</th><th>WP</th><th>HBP</th><th>BK</th><th>BFP</th><th>GF</th><th>R</th><th>SH</th><th>SF</th><th>GIDP</th></tr><tr><td>str</td><td>i64</td><td>i64</td><td>str</td><td>str</td><td>i64</td><td>i64</td><td>i64</td><td>i64</td><td>i64</td><td>i64</td><td>i64</td><td>i64</td><td>i64</td><td>i64</td><td>i64</td><td>i64</td><td>i64</td><td>f64</td><td>f64</td><td>i64</td><td>i64</td><td>i64</td><td>i64</td><td>i64</td><td>i64</td><td>i64</td><td>i64</td><td>i64</td><td>i64</td></tr></thead><tbody><tr><td>&quot;aardsda01&quot;</td><td>2004</td><td>1</td><td>&quot;SFN&quot;</td><td>&quot;NL&quot;</td><td>1</td><td>0</td><td>11</td><td>0</td><td>0</td><td>0</td><td>0</td><td>32</td><td>20</td><td>8</td><td>1</td><td>10</td><td>5</td><td>0.417</td><td>6.75</td><td>0</td><td>0</td><td>2</td><td>0</td><td>61</td><td>5</td><td>8</td><td>0</td><td>1</td><td>1</td></tr><tr><td>&quot;aardsda01&quot;</td><td>2006</td><td>1</td><td>&quot;CHN&quot;</td><td>&quot;NL&quot;</td><td>3</td><td>0</td><td>45</td><td>0</td><td>0</td><td>0</td><td>0</td><td>159</td><td>41</td><td>24</td><td>9</td><td>28</td><td>49</td><td>0.214</td><td>4.08</td><td>0</td><td>1</td><td>1</td><td>0</td><td>225</td><td>9</td><td>25</td><td>1</td><td>3</td><td>2</td></tr><tr><td>&quot;aardsda01&quot;</td><td>2007</td><td>1</td><td>&quot;CHA&quot;</td><td>&quot;AL&quot;</td><td>2</td><td>1</td><td>25</td><td>0</td><td>0</td><td>0</td><td>0</td><td>97</td><td>39</td><td>23</td><td>4</td><td>17</td><td>36</td><td>0.3</td><td>6.4</td><td>3</td><td>2</td><td>1</td><td>0</td><td>151</td><td>7</td><td>24</td><td>2</td><td>1</td><td>1</td></tr><tr><td>&quot;aardsda01&quot;</td><td>2008</td><td>1</td><td>&quot;BOS&quot;</td><td>&quot;AL&quot;</td><td>4</td><td>2</td><td>47</td><td>0</td><td>0</td><td>0</td><td>0</td><td>146</td><td>49</td><td>30</td><td>4</td><td>35</td><td>49</td><td>0.268</td><td>5.55</td><td>2</td><td>3</td><td>5</td><td>0</td><td>228</td><td>7</td><td>32</td><td>3</td><td>2</td><td>4</td></tr><tr><td>&quot;aardsda01&quot;</td><td>2009</td><td>1</td><td>&quot;SEA&quot;</td><td>&quot;AL&quot;</td><td>3</td><td>6</td><td>73</td><td>0</td><td>0</td><td>0</td><td>38</td><td>214</td><td>49</td><td>20</td><td>4</td><td>34</td><td>80</td><td>0.19</td><td>2.52</td><td>3</td><td>2</td><td>0</td><td>0</td><td>296</td><td>53</td><td>23</td><td>2</td><td>1</td><td>2</td></tr></tbody></table></div>"
      ],
      "text/plain": [
       "shape: (5, 30)\n",
       "┌───────────┬────────┬───────┬────────┬───┬─────┬─────┬─────┬──────┐\n",
       "│ playerID  ┆ yearID ┆ stint ┆ teamID ┆ … ┆ R   ┆ SH  ┆ SF  ┆ GIDP │\n",
       "│ ---       ┆ ---    ┆ ---   ┆ ---    ┆   ┆ --- ┆ --- ┆ --- ┆ ---  │\n",
       "│ str       ┆ i64    ┆ i64   ┆ str    ┆   ┆ i64 ┆ i64 ┆ i64 ┆ i64  │\n",
       "╞═══════════╪════════╪═══════╪════════╪═══╪═════╪═════╪═════╪══════╡\n",
       "│ aardsda01 ┆ 2004   ┆ 1     ┆ SFN    ┆ … ┆ 8   ┆ 0   ┆ 1   ┆ 1    │\n",
       "│ aardsda01 ┆ 2006   ┆ 1     ┆ CHN    ┆ … ┆ 25  ┆ 1   ┆ 3   ┆ 2    │\n",
       "│ aardsda01 ┆ 2007   ┆ 1     ┆ CHA    ┆ … ┆ 24  ┆ 2   ┆ 1   ┆ 1    │\n",
       "│ aardsda01 ┆ 2008   ┆ 1     ┆ BOS    ┆ … ┆ 32  ┆ 3   ┆ 2   ┆ 4    │\n",
       "│ aardsda01 ┆ 2009   ┆ 1     ┆ SEA    ┆ … ┆ 23  ┆ 2   ┆ 1   ┆ 2    │\n",
       "└───────────┴────────┴───────┴────────┴───┴─────┴─────┴─────┴──────┘"
      ]
     },
     "execution_count": 721,
     "metadata": {},
     "output_type": "execute_result"
    }
   ],
   "source": [
    "pitching = pl.read_csv('./Data/Pitching.csv') \n",
    "pitching.head()"
   ]
  },
  {
   "cell_type": "code",
   "execution_count": 722,
   "id": "9e38fad9-cb29-4938-99d0-f6ba19d2331b",
   "metadata": {},
   "outputs": [
    {
     "data": {
      "text/html": [
       "<div><style>\n",
       ".dataframe > thead > tr,\n",
       ".dataframe > tbody > tr {\n",
       "  text-align: right;\n",
       "  white-space: pre-wrap;\n",
       "}\n",
       "</style>\n",
       "<small>shape: (5, 48)</small><table border=\"1\" class=\"dataframe\"><thead><tr><th>yearID</th><th>lgID</th><th>teamID</th><th>franchID</th><th>divID</th><th>Rank</th><th>G</th><th>Ghome</th><th>W</th><th>L</th><th>DivWin</th><th>WCWin</th><th>LgWin</th><th>WSWin</th><th>R</th><th>AB</th><th>H</th><th>2B</th><th>3B</th><th>HR</th><th>BB</th><th>SO</th><th>SB</th><th>CS</th><th>HBP</th><th>SF</th><th>RA</th><th>ER</th><th>ERA</th><th>CG</th><th>SHO</th><th>SV</th><th>IPouts</th><th>HA</th><th>HRA</th><th>BBA</th><th>SOA</th><th>E</th><th>DP</th><th>FP</th><th>name</th><th>park</th><th>attendance</th><th>BPF</th><th>PPF</th><th>teamIDBR</th><th>teamIDlahman45</th><th>teamIDretro</th></tr><tr><td>i64</td><td>str</td><td>str</td><td>str</td><td>str</td><td>i64</td><td>i64</td><td>str</td><td>i64</td><td>i64</td><td>str</td><td>str</td><td>str</td><td>str</td><td>i64</td><td>i64</td><td>i64</td><td>i64</td><td>i64</td><td>i64</td><td>i64</td><td>i64</td><td>i64</td><td>i64</td><td>str</td><td>str</td><td>i64</td><td>i64</td><td>f64</td><td>i64</td><td>i64</td><td>i64</td><td>i64</td><td>i64</td><td>i64</td><td>i64</td><td>i64</td><td>i64</td><td>i64</td><td>f64</td><td>str</td><td>str</td><td>str</td><td>i64</td><td>i64</td><td>str</td><td>str</td><td>str</td></tr></thead><tbody><tr><td>1871</td><td>&quot;NA&quot;</td><td>&quot;BS1&quot;</td><td>&quot;BNA&quot;</td><td>null</td><td>3</td><td>31</td><td>null</td><td>20</td><td>10</td><td>null</td><td>null</td><td>&quot;N&quot;</td><td>null</td><td>401</td><td>1372</td><td>426</td><td>70</td><td>37</td><td>3</td><td>60</td><td>19</td><td>73</td><td>16</td><td>null</td><td>null</td><td>303</td><td>109</td><td>3.55</td><td>22</td><td>1</td><td>3</td><td>828</td><td>367</td><td>2</td><td>42</td><td>23</td><td>243</td><td>24</td><td>0.834</td><td>&quot;Boston Red Stockings&quot;</td><td>&quot;South End Grounds I&quot;</td><td>null</td><td>103</td><td>98</td><td>&quot;BOS&quot;</td><td>&quot;BS1&quot;</td><td>&quot;BS1&quot;</td></tr><tr><td>1871</td><td>&quot;NA&quot;</td><td>&quot;CH1&quot;</td><td>&quot;CNA&quot;</td><td>null</td><td>2</td><td>28</td><td>null</td><td>19</td><td>9</td><td>null</td><td>null</td><td>&quot;N&quot;</td><td>null</td><td>302</td><td>1196</td><td>323</td><td>52</td><td>21</td><td>10</td><td>60</td><td>22</td><td>69</td><td>21</td><td>null</td><td>null</td><td>241</td><td>77</td><td>2.76</td><td>25</td><td>0</td><td>1</td><td>753</td><td>308</td><td>6</td><td>28</td><td>22</td><td>229</td><td>16</td><td>0.829</td><td>&quot;Chicago White Stockings&quot;</td><td>&quot;Union Base-Ball Grounds&quot;</td><td>null</td><td>104</td><td>102</td><td>&quot;CHI&quot;</td><td>&quot;CH1&quot;</td><td>&quot;CH1&quot;</td></tr><tr><td>1871</td><td>&quot;NA&quot;</td><td>&quot;CL1&quot;</td><td>&quot;CFC&quot;</td><td>null</td><td>8</td><td>29</td><td>null</td><td>10</td><td>19</td><td>null</td><td>null</td><td>&quot;N&quot;</td><td>null</td><td>249</td><td>1186</td><td>328</td><td>35</td><td>40</td><td>7</td><td>26</td><td>25</td><td>18</td><td>8</td><td>null</td><td>null</td><td>341</td><td>116</td><td>4.11</td><td>23</td><td>0</td><td>0</td><td>762</td><td>346</td><td>13</td><td>53</td><td>34</td><td>234</td><td>15</td><td>0.818</td><td>&quot;Cleveland Forest Citys&quot;</td><td>&quot;National Association Grounds&quot;</td><td>null</td><td>96</td><td>100</td><td>&quot;CLE&quot;</td><td>&quot;CL1&quot;</td><td>&quot;CL1&quot;</td></tr><tr><td>1871</td><td>&quot;NA&quot;</td><td>&quot;FW1&quot;</td><td>&quot;KEK&quot;</td><td>null</td><td>7</td><td>19</td><td>null</td><td>7</td><td>12</td><td>null</td><td>null</td><td>&quot;N&quot;</td><td>null</td><td>137</td><td>746</td><td>178</td><td>19</td><td>8</td><td>2</td><td>33</td><td>9</td><td>16</td><td>4</td><td>null</td><td>null</td><td>243</td><td>97</td><td>5.17</td><td>19</td><td>1</td><td>0</td><td>507</td><td>261</td><td>5</td><td>21</td><td>17</td><td>163</td><td>8</td><td>0.803</td><td>&quot;Fort Wayne Kekiongas&quot;</td><td>&quot;Hamilton Field&quot;</td><td>null</td><td>101</td><td>107</td><td>&quot;KEK&quot;</td><td>&quot;FW1&quot;</td><td>&quot;FW1&quot;</td></tr><tr><td>1871</td><td>&quot;NA&quot;</td><td>&quot;NY2&quot;</td><td>&quot;NNA&quot;</td><td>null</td><td>5</td><td>33</td><td>null</td><td>16</td><td>17</td><td>null</td><td>null</td><td>&quot;N&quot;</td><td>null</td><td>302</td><td>1404</td><td>403</td><td>43</td><td>21</td><td>1</td><td>33</td><td>15</td><td>46</td><td>15</td><td>null</td><td>null</td><td>313</td><td>121</td><td>3.72</td><td>32</td><td>1</td><td>0</td><td>879</td><td>373</td><td>7</td><td>42</td><td>22</td><td>235</td><td>14</td><td>0.84</td><td>&quot;New York Mutuals&quot;</td><td>&quot;Union Grounds (Brooklyn)&quot;</td><td>null</td><td>90</td><td>88</td><td>&quot;NYU&quot;</td><td>&quot;NY2&quot;</td><td>&quot;NY2&quot;</td></tr></tbody></table></div>"
      ],
      "text/plain": [
       "shape: (5, 48)\n",
       "┌────────┬──────┬────────┬──────────┬───┬─────┬──────────┬────────────────┬─────────────┐\n",
       "│ yearID ┆ lgID ┆ teamID ┆ franchID ┆ … ┆ PPF ┆ teamIDBR ┆ teamIDlahman45 ┆ teamIDretro │\n",
       "│ ---    ┆ ---  ┆ ---    ┆ ---      ┆   ┆ --- ┆ ---      ┆ ---            ┆ ---         │\n",
       "│ i64    ┆ str  ┆ str    ┆ str      ┆   ┆ i64 ┆ str      ┆ str            ┆ str         │\n",
       "╞════════╪══════╪════════╪══════════╪═══╪═════╪══════════╪════════════════╪═════════════╡\n",
       "│ 1871   ┆ NA   ┆ BS1    ┆ BNA      ┆ … ┆ 98  ┆ BOS      ┆ BS1            ┆ BS1         │\n",
       "│ 1871   ┆ NA   ┆ CH1    ┆ CNA      ┆ … ┆ 102 ┆ CHI      ┆ CH1            ┆ CH1         │\n",
       "│ 1871   ┆ NA   ┆ CL1    ┆ CFC      ┆ … ┆ 100 ┆ CLE      ┆ CL1            ┆ CL1         │\n",
       "│ 1871   ┆ NA   ┆ FW1    ┆ KEK      ┆ … ┆ 107 ┆ KEK      ┆ FW1            ┆ FW1         │\n",
       "│ 1871   ┆ NA   ┆ NY2    ┆ NNA      ┆ … ┆ 88  ┆ NYU      ┆ NY2            ┆ NY2         │\n",
       "└────────┴──────┴────────┴──────────┴───┴─────┴──────────┴────────────────┴─────────────┘"
      ]
     },
     "execution_count": 722,
     "metadata": {},
     "output_type": "execute_result"
    }
   ],
   "source": [
    "teams = pl.read_csv('./Data/Teams.csv') \n",
    "teams.head()"
   ]
  },
  {
   "cell_type": "markdown",
   "id": "b6efea7e-68f6-4228-900d-a40f61489c8f",
   "metadata": {},
   "source": [
    "# Q1: Construct the Gold Glove Dataset"
   ]
  },
  {
   "cell_type": "code",
   "execution_count": 723,
   "id": "5329b432-52b0-414d-93a9-da79d03a0f9e",
   "metadata": {},
   "outputs": [
    {
     "name": "stdout",
     "output_type": "stream",
     "text": [
      "['2B', 'SP', 'P2', 'Co-MVP', '3B', 'P1', 'C', 'UT', 'RHP', 'P3', 'SS', 'LF', 'C1', 'C2', 'LHP', 'P', 'CF', 'C3', '2nd Game', None, 'Unanimous', 'P5', '1B', 'OF', '1st Game', 'C4', 'P6', 'RP', 'RF', 'P4', 'DH']\n"
     ]
    }
   ],
   "source": [
    "unique_notes = awardsPlayers['notes'].unique().to_list()\n",
    "print(unique_notes)"
   ]
  },
  {
   "cell_type": "code",
   "execution_count": 724,
   "id": "5648180e-55fb-4a04-ac4a-e2f8a746a6d1",
   "metadata": {},
   "outputs": [
    {
     "data": {
      "text/html": [
       "<div><style>\n",
       ".dataframe > thead > tr,\n",
       ".dataframe > tbody > tr {\n",
       "  text-align: right;\n",
       "  white-space: pre-wrap;\n",
       "}\n",
       "</style>\n",
       "<small>shape: (7,)</small><table border=\"1\" class=\"dataframe\"><thead><tr><th>POS</th></tr><tr><td>str</td></tr></thead><tbody><tr><td>&quot;C&quot;</td></tr><tr><td>&quot;OF&quot;</td></tr><tr><td>&quot;3B&quot;</td></tr><tr><td>&quot;2B&quot;</td></tr><tr><td>&quot;1B&quot;</td></tr><tr><td>&quot;P&quot;</td></tr><tr><td>&quot;SS&quot;</td></tr></tbody></table></div>"
      ],
      "text/plain": [
       "shape: (7,)\n",
       "Series: 'POS' [str]\n",
       "[\n",
       "\t\"C\"\n",
       "\t\"OF\"\n",
       "\t\"3B\"\n",
       "\t\"2B\"\n",
       "\t\"1B\"\n",
       "\t\"P\"\n",
       "\t\"SS\"\n",
       "]"
      ]
     },
     "execution_count": 724,
     "metadata": {},
     "output_type": "execute_result"
    }
   ],
   "source": [
    "fielding['POS'].unique()"
   ]
  },
  {
   "cell_type": "code",
   "execution_count": 725,
   "id": "5e5ab2e1-b57c-4c7f-bef5-00f134828af7",
   "metadata": {},
   "outputs": [
    {
     "data": {
      "text/html": [
       "<div><style>\n",
       ".dataframe > thead > tr,\n",
       ".dataframe > tbody > tr {\n",
       "  text-align: right;\n",
       "  white-space: pre-wrap;\n",
       "}\n",
       "</style>\n",
       "<small>shape: (203, 5)</small><table border=\"1\" class=\"dataframe\"><thead><tr><th>playerID</th><th>yearID</th><th>awardID</th><th>POS</th><th>lgID</th></tr><tr><td>str</td><td>i64</td><td>str</td><td>str</td><td>str</td></tr></thead><tbody><tr><td>&quot;ahmedni01&quot;</td><td>2018</td><td>&quot;Gold Glove&quot;</td><td>&quot;SS&quot;</td><td>&quot;NL&quot;</td></tr><tr><td>&quot;ahmedni01&quot;</td><td>2019</td><td>&quot;Gold Glove&quot;</td><td>&quot;SS&quot;</td><td>&quot;NL&quot;</td></tr><tr><td>&quot;altuvjo01&quot;</td><td>2015</td><td>&quot;Gold Glove&quot;</td><td>&quot;2B&quot;</td><td>&quot;AL&quot;</td></tr><tr><td>&quot;arenano01&quot;</td><td>2013</td><td>&quot;Gold Glove&quot;</td><td>&quot;3B&quot;</td><td>&quot;NL&quot;</td></tr><tr><td>&quot;arenano01&quot;</td><td>2014</td><td>&quot;Gold Glove&quot;</td><td>&quot;3B&quot;</td><td>&quot;NL&quot;</td></tr><tr><td>&hellip;</td><td>&hellip;</td><td>&hellip;</td><td>&hellip;</td><td>&hellip;</td></tr><tr><td>&quot;wheelza01&quot;</td><td>2023</td><td>&quot;Gold Glove&quot;</td><td>&quot;P&quot;</td><td>&quot;NL&quot;</td></tr><tr><td>&quot;whiteev01&quot;</td><td>2020</td><td>&quot;Gold Glove&quot;</td><td>&quot;1B&quot;</td><td>&quot;AL&quot;</td></tr><tr><td>&quot;wongko01&quot;</td><td>2019</td><td>&quot;Gold Glove&quot;</td><td>&quot;2B&quot;</td><td>&quot;NL&quot;</td></tr><tr><td>&quot;wongko01&quot;</td><td>2020</td><td>&quot;Gold Glove&quot;</td><td>&quot;2B&quot;</td><td>&quot;NL&quot;</td></tr><tr><td>&quot;yelicch01&quot;</td><td>2014</td><td>&quot;Gold Glove&quot;</td><td>&quot;OF&quot;</td><td>&quot;NL&quot;</td></tr></tbody></table></div>"
      ],
      "text/plain": [
       "shape: (203, 5)\n",
       "┌───────────┬────────┬────────────┬─────┬──────┐\n",
       "│ playerID  ┆ yearID ┆ awardID    ┆ POS ┆ lgID │\n",
       "│ ---       ┆ ---    ┆ ---        ┆ --- ┆ ---  │\n",
       "│ str       ┆ i64    ┆ str        ┆ str ┆ str  │\n",
       "╞═══════════╪════════╪════════════╪═════╪══════╡\n",
       "│ ahmedni01 ┆ 2018   ┆ Gold Glove ┆ SS  ┆ NL   │\n",
       "│ ahmedni01 ┆ 2019   ┆ Gold Glove ┆ SS  ┆ NL   │\n",
       "│ altuvjo01 ┆ 2015   ┆ Gold Glove ┆ 2B  ┆ AL   │\n",
       "│ arenano01 ┆ 2013   ┆ Gold Glove ┆ 3B  ┆ NL   │\n",
       "│ arenano01 ┆ 2014   ┆ Gold Glove ┆ 3B  ┆ NL   │\n",
       "│ …         ┆ …      ┆ …          ┆ …   ┆ …    │\n",
       "│ wheelza01 ┆ 2023   ┆ Gold Glove ┆ P   ┆ NL   │\n",
       "│ whiteev01 ┆ 2020   ┆ Gold Glove ┆ 1B  ┆ AL   │\n",
       "│ wongko01  ┆ 2019   ┆ Gold Glove ┆ 2B  ┆ NL   │\n",
       "│ wongko01  ┆ 2020   ┆ Gold Glove ┆ 2B  ┆ NL   │\n",
       "│ yelicch01 ┆ 2014   ┆ Gold Glove ┆ OF  ┆ NL   │\n",
       "└───────────┴────────┴────────────┴─────┴──────┘"
      ]
     },
     "execution_count": 725,
     "metadata": {},
     "output_type": "execute_result"
    }
   ],
   "source": [
    "awardsPlayers_edit = (awardsPlayers\n",
    "                      .filter(pl.col('yearID') >= 2013)\n",
    "                      .filter(pl.col('awardID')=='Gold Glove')\n",
    "                      .rename({'notes': 'POS'})\n",
    "                      .with_columns(\n",
    "                          pl.when(pl.col('POS').is_in(['SS']))\n",
    "                          .then(pl.lit('SS'))\n",
    "                          .when(pl.col('POS').is_in(['3B']))\n",
    "                          .then(pl.lit('3B'))\n",
    "                          .when(pl.col('POS').is_in(['P', 'RP', 'SP', 'LHP', 'RHP','P1', 'P2', 'P3', 'P4', 'P5', 'P6']))\n",
    "                          .then(pl.lit('P'))\n",
    "                          .when(pl.col('POS').is_in(['OF', 'RF', 'LF', 'CF', 'UT']))\n",
    "                          .then(pl.lit('OF'))\n",
    "                          .when(pl.col('POS').is_in(['1B']))\n",
    "                          .then(pl.lit('1B'))\n",
    "                          .when(pl.col('POS').is_in(['C', 'C1', 'C2', 'C3', 'C4']))\n",
    "                          .then(pl.lit('C'))\n",
    "                          .when(pl.col('POS').is_in(['2B']))\n",
    "                          .then(pl.lit('2B'))\n",
    "                          .otherwise(pl.col('POS')) \n",
    "                          .alias('POS')\n",
    "                      )\n",
    "                      .select(pl.col('playerID'), pl.col('yearID'), pl.col('awardID'), pl.col('POS'), pl.col('lgID'))\n",
    "                      .sort(pl.col('playerID'), pl.col('yearID'))\n",
    "                     )\n",
    "\n",
    "awardsPlayers_edit"
   ]
  },
  {
   "cell_type": "code",
   "execution_count": 726,
   "id": "6de700d5-c6d9-463c-886b-a27141614f86",
   "metadata": {},
   "outputs": [
    {
     "name": "stdout",
     "output_type": "stream",
     "text": [
      "['P', '3B', 'OF', '1B', '2B', 'SS', 'C']\n"
     ]
    }
   ],
   "source": [
    "unique_notes2 = awardsPlayers_edit['POS'].unique().to_list()\n",
    "print(unique_notes2)"
   ]
  },
  {
   "cell_type": "code",
   "execution_count": 727,
   "id": "6764c85c-ed5d-404c-98f4-0bed444c4e33",
   "metadata": {},
   "outputs": [
    {
     "data": {
      "text/html": [
       "<div><style>\n",
       ".dataframe > thead > tr,\n",
       ".dataframe > tbody > tr {\n",
       "  text-align: right;\n",
       "  white-space: pre-wrap;\n",
       "}\n",
       "</style>\n",
       "<small>shape: (21_356, 16)</small><table border=\"1\" class=\"dataframe\"><thead><tr><th>yearID</th><th>playerID</th><th>POS</th><th>lgID</th><th>G</th><th>GS</th><th>InnOuts</th><th>PO</th><th>A</th><th>E</th><th>DP</th><th>PB</th><th>WP</th><th>SB</th><th>CS</th><th>ZR</th></tr><tr><td>i64</td><td>str</td><td>str</td><td>str</td><td>i64</td><td>i64</td><td>i64</td><td>i64</td><td>i64</td><td>i64</td><td>i64</td><td>i64</td><td>i64</td><td>i64</td><td>i64</td><td>i64</td></tr></thead><tbody><tr><td>2013</td><td>&quot;aardsda01&quot;</td><td>&quot;P&quot;</td><td>&quot;NL&quot;</td><td>43</td><td>0</td><td>119</td><td>1</td><td>5</td><td>0</td><td>0</td><td>0</td><td>0</td><td>0</td><td>0</td><td>0</td></tr><tr><td>2015</td><td>&quot;aardsda01&quot;</td><td>&quot;P&quot;</td><td>&quot;NL&quot;</td><td>33</td><td>0</td><td>92</td><td>0</td><td>1</td><td>1</td><td>0</td><td>0</td><td>0</td><td>0</td><td>0</td><td>0</td></tr><tr><td>2013</td><td>&quot;abadfe01&quot;</td><td>&quot;P&quot;</td><td>&quot;NL&quot;</td><td>39</td><td>0</td><td>113</td><td>1</td><td>4</td><td>0</td><td>0</td><td>0</td><td>0</td><td>0</td><td>0</td><td>0</td></tr><tr><td>2014</td><td>&quot;abadfe01&quot;</td><td>&quot;P&quot;</td><td>&quot;AL&quot;</td><td>69</td><td>0</td><td>172</td><td>0</td><td>8</td><td>0</td><td>0</td><td>0</td><td>0</td><td>0</td><td>0</td><td>0</td></tr><tr><td>2015</td><td>&quot;abadfe01&quot;</td><td>&quot;P&quot;</td><td>&quot;AL&quot;</td><td>62</td><td>0</td><td>143</td><td>2</td><td>4</td><td>0</td><td>0</td><td>0</td><td>0</td><td>0</td><td>0</td><td>0</td></tr><tr><td>&hellip;</td><td>&hellip;</td><td>&hellip;</td><td>&hellip;</td><td>&hellip;</td><td>&hellip;</td><td>&hellip;</td><td>&hellip;</td><td>&hellip;</td><td>&hellip;</td><td>&hellip;</td><td>&hellip;</td><td>&hellip;</td><td>&hellip;</td><td>&hellip;</td><td>&hellip;</td></tr><tr><td>2022</td><td>&quot;zuninmi01&quot;</td><td>&quot;C&quot;</td><td>&quot;AL&quot;</td><td>35</td><td>34</td><td>898</td><td>283</td><td>9</td><td>1</td><td>0</td><td>2</td><td>0</td><td>16</td><td>4</td><td>0</td></tr><tr><td>2023</td><td>&quot;zuninmi01&quot;</td><td>&quot;C&quot;</td><td>&quot;AL&quot;</td><td>42</td><td>41</td><td>1019</td><td>276</td><td>17</td><td>3</td><td>2</td><td>5</td><td>19</td><td>40</td><td>8</td><td>0</td></tr><tr><td>2015</td><td>&quot;zychto01&quot;</td><td>&quot;P&quot;</td><td>&quot;AL&quot;</td><td>13</td><td>1</td><td>55</td><td>0</td><td>3</td><td>0</td><td>0</td><td>0</td><td>0</td><td>0</td><td>0</td><td>0</td></tr><tr><td>2016</td><td>&quot;zychto01&quot;</td><td>&quot;P&quot;</td><td>&quot;AL&quot;</td><td>12</td><td>0</td><td>41</td><td>0</td><td>0</td><td>1</td><td>0</td><td>0</td><td>0</td><td>0</td><td>0</td><td>0</td></tr><tr><td>2017</td><td>&quot;zychto01&quot;</td><td>&quot;P&quot;</td><td>&quot;AL&quot;</td><td>45</td><td>0</td><td>122</td><td>1</td><td>3</td><td>0</td><td>0</td><td>0</td><td>0</td><td>0</td><td>0</td><td>0</td></tr></tbody></table></div>"
      ],
      "text/plain": [
       "shape: (21_356, 16)\n",
       "┌────────┬───────────┬─────┬──────┬───┬─────┬─────┬─────┬─────┐\n",
       "│ yearID ┆ playerID  ┆ POS ┆ lgID ┆ … ┆ WP  ┆ SB  ┆ CS  ┆ ZR  │\n",
       "│ ---    ┆ ---       ┆ --- ┆ ---  ┆   ┆ --- ┆ --- ┆ --- ┆ --- │\n",
       "│ i64    ┆ str       ┆ str ┆ str  ┆   ┆ i64 ┆ i64 ┆ i64 ┆ i64 │\n",
       "╞════════╪═══════════╪═════╪══════╪═══╪═════╪═════╪═════╪═════╡\n",
       "│ 2013   ┆ aardsda01 ┆ P   ┆ NL   ┆ … ┆ 0   ┆ 0   ┆ 0   ┆ 0   │\n",
       "│ 2015   ┆ aardsda01 ┆ P   ┆ NL   ┆ … ┆ 0   ┆ 0   ┆ 0   ┆ 0   │\n",
       "│ 2013   ┆ abadfe01  ┆ P   ┆ NL   ┆ … ┆ 0   ┆ 0   ┆ 0   ┆ 0   │\n",
       "│ 2014   ┆ abadfe01  ┆ P   ┆ AL   ┆ … ┆ 0   ┆ 0   ┆ 0   ┆ 0   │\n",
       "│ 2015   ┆ abadfe01  ┆ P   ┆ AL   ┆ … ┆ 0   ┆ 0   ┆ 0   ┆ 0   │\n",
       "│ …      ┆ …         ┆ …   ┆ …    ┆ … ┆ …   ┆ …   ┆ …   ┆ …   │\n",
       "│ 2022   ┆ zuninmi01 ┆ C   ┆ AL   ┆ … ┆ 0   ┆ 16  ┆ 4   ┆ 0   │\n",
       "│ 2023   ┆ zuninmi01 ┆ C   ┆ AL   ┆ … ┆ 19  ┆ 40  ┆ 8   ┆ 0   │\n",
       "│ 2015   ┆ zychto01  ┆ P   ┆ AL   ┆ … ┆ 0   ┆ 0   ┆ 0   ┆ 0   │\n",
       "│ 2016   ┆ zychto01  ┆ P   ┆ AL   ┆ … ┆ 0   ┆ 0   ┆ 0   ┆ 0   │\n",
       "│ 2017   ┆ zychto01  ┆ P   ┆ AL   ┆ … ┆ 0   ┆ 0   ┆ 0   ┆ 0   │\n",
       "└────────┴───────────┴─────┴──────┴───┴─────┴─────┴─────┴─────┘"
      ]
     },
     "execution_count": 727,
     "metadata": {},
     "output_type": "execute_result"
    }
   ],
   "source": [
    "fielding_edit = (fielding\n",
    "                 .filter(pl.col('yearID') >= 2013)\n",
    "                 .with_columns(\n",
    "                     pl.col('PB').cast(pl.Int64),\n",
    "                     pl.col('WP').cast(pl.Int64),\n",
    "                     pl.col('SB').cast(pl.Int64),\n",
    "                     pl.col('CS').cast(pl.Int64),\n",
    "                     pl.col('ZR').cast(pl.Int64)\n",
    "                 )\n",
    "                  .group_by(pl.col('yearID'), pl.col('playerID'), pl.col('POS'), pl.col('lgID'))\n",
    "                  .agg(pl.col('G').sum(), pl.col('GS').sum(), pl.col('InnOuts').sum(), pl.col('PO').sum(), pl.col('A').sum(), pl.col('E').sum(), \n",
    "                  pl.col('DP').sum(), pl.col('PB').sum(), pl.col('WP').sum(), pl.col('SB').sum(), pl.col('CS').sum(), pl.col('ZR').sum()\n",
    "                      )\n",
    "                 .sort(pl.col('playerID'), pl.col('yearID'))\n",
    "                )\n",
    "fielding_edit"
   ]
  },
  {
   "cell_type": "code",
   "execution_count": 728,
   "id": "93f952b2-ceda-43ee-b4b4-27187c44884e",
   "metadata": {},
   "outputs": [
    {
     "name": "stdout",
     "output_type": "stream",
     "text": [
      "[0, 1, 2, 3, 4, 5, 6, 7, 8, 9, 10, 11, 12, 13, 14, 15, 16, 17, 18, 19, 20, 21, 22, 23, 24, 25, 26, 27, 28, 29, 30, 31, 32, 33, 34, 36, 37, 38, 43, 44]\n"
     ]
    }
   ],
   "source": [
    "unique_fielding = fielding_edit['CS'].unique().to_list()\n",
    "print(unique_fielding)"
   ]
  },
  {
   "cell_type": "code",
   "execution_count": 729,
   "id": "f200db9f-df36-4891-a2b3-9f55db6a0e2b",
   "metadata": {},
   "outputs": [
    {
     "data": {
      "text/html": [
       "<div><style>\n",
       ".dataframe > thead > tr,\n",
       ".dataframe > tbody > tr {\n",
       "  text-align: right;\n",
       "  white-space: pre-wrap;\n",
       "}\n",
       "</style>\n",
       "<small>shape: (21_356, 17)</small><table border=\"1\" class=\"dataframe\"><thead><tr><th>yearID</th><th>playerID</th><th>POS</th><th>lgID</th><th>G</th><th>GS</th><th>InnOuts</th><th>PO</th><th>A</th><th>E</th><th>DP</th><th>PB</th><th>WP</th><th>SB</th><th>CS</th><th>ZR</th><th>awardID</th></tr><tr><td>i64</td><td>str</td><td>str</td><td>str</td><td>i64</td><td>i64</td><td>i64</td><td>i64</td><td>i64</td><td>i64</td><td>i64</td><td>i64</td><td>i64</td><td>i64</td><td>i64</td><td>i64</td><td>str</td></tr></thead><tbody><tr><td>2013</td><td>&quot;aardsda01&quot;</td><td>&quot;P&quot;</td><td>&quot;NL&quot;</td><td>43</td><td>0</td><td>119</td><td>1</td><td>5</td><td>0</td><td>0</td><td>0</td><td>0</td><td>0</td><td>0</td><td>0</td><td>null</td></tr><tr><td>2015</td><td>&quot;aardsda01&quot;</td><td>&quot;P&quot;</td><td>&quot;NL&quot;</td><td>33</td><td>0</td><td>92</td><td>0</td><td>1</td><td>1</td><td>0</td><td>0</td><td>0</td><td>0</td><td>0</td><td>0</td><td>null</td></tr><tr><td>2013</td><td>&quot;abadfe01&quot;</td><td>&quot;P&quot;</td><td>&quot;NL&quot;</td><td>39</td><td>0</td><td>113</td><td>1</td><td>4</td><td>0</td><td>0</td><td>0</td><td>0</td><td>0</td><td>0</td><td>0</td><td>null</td></tr><tr><td>2014</td><td>&quot;abadfe01&quot;</td><td>&quot;P&quot;</td><td>&quot;AL&quot;</td><td>69</td><td>0</td><td>172</td><td>0</td><td>8</td><td>0</td><td>0</td><td>0</td><td>0</td><td>0</td><td>0</td><td>0</td><td>null</td></tr><tr><td>2015</td><td>&quot;abadfe01&quot;</td><td>&quot;P&quot;</td><td>&quot;AL&quot;</td><td>62</td><td>0</td><td>143</td><td>2</td><td>4</td><td>0</td><td>0</td><td>0</td><td>0</td><td>0</td><td>0</td><td>0</td><td>null</td></tr><tr><td>&hellip;</td><td>&hellip;</td><td>&hellip;</td><td>&hellip;</td><td>&hellip;</td><td>&hellip;</td><td>&hellip;</td><td>&hellip;</td><td>&hellip;</td><td>&hellip;</td><td>&hellip;</td><td>&hellip;</td><td>&hellip;</td><td>&hellip;</td><td>&hellip;</td><td>&hellip;</td><td>&hellip;</td></tr><tr><td>2022</td><td>&quot;zuninmi01&quot;</td><td>&quot;C&quot;</td><td>&quot;AL&quot;</td><td>35</td><td>34</td><td>898</td><td>283</td><td>9</td><td>1</td><td>0</td><td>2</td><td>0</td><td>16</td><td>4</td><td>0</td><td>null</td></tr><tr><td>2023</td><td>&quot;zuninmi01&quot;</td><td>&quot;C&quot;</td><td>&quot;AL&quot;</td><td>42</td><td>41</td><td>1019</td><td>276</td><td>17</td><td>3</td><td>2</td><td>5</td><td>19</td><td>40</td><td>8</td><td>0</td><td>null</td></tr><tr><td>2015</td><td>&quot;zychto01&quot;</td><td>&quot;P&quot;</td><td>&quot;AL&quot;</td><td>13</td><td>1</td><td>55</td><td>0</td><td>3</td><td>0</td><td>0</td><td>0</td><td>0</td><td>0</td><td>0</td><td>0</td><td>null</td></tr><tr><td>2016</td><td>&quot;zychto01&quot;</td><td>&quot;P&quot;</td><td>&quot;AL&quot;</td><td>12</td><td>0</td><td>41</td><td>0</td><td>0</td><td>1</td><td>0</td><td>0</td><td>0</td><td>0</td><td>0</td><td>0</td><td>null</td></tr><tr><td>2017</td><td>&quot;zychto01&quot;</td><td>&quot;P&quot;</td><td>&quot;AL&quot;</td><td>45</td><td>0</td><td>122</td><td>1</td><td>3</td><td>0</td><td>0</td><td>0</td><td>0</td><td>0</td><td>0</td><td>0</td><td>null</td></tr></tbody></table></div>"
      ],
      "text/plain": [
       "shape: (21_356, 17)\n",
       "┌────────┬───────────┬─────┬──────┬───┬─────┬─────┬─────┬─────────┐\n",
       "│ yearID ┆ playerID  ┆ POS ┆ lgID ┆ … ┆ SB  ┆ CS  ┆ ZR  ┆ awardID │\n",
       "│ ---    ┆ ---       ┆ --- ┆ ---  ┆   ┆ --- ┆ --- ┆ --- ┆ ---     │\n",
       "│ i64    ┆ str       ┆ str ┆ str  ┆   ┆ i64 ┆ i64 ┆ i64 ┆ str     │\n",
       "╞════════╪═══════════╪═════╪══════╪═══╪═════╪═════╪═════╪═════════╡\n",
       "│ 2013   ┆ aardsda01 ┆ P   ┆ NL   ┆ … ┆ 0   ┆ 0   ┆ 0   ┆ null    │\n",
       "│ 2015   ┆ aardsda01 ┆ P   ┆ NL   ┆ … ┆ 0   ┆ 0   ┆ 0   ┆ null    │\n",
       "│ 2013   ┆ abadfe01  ┆ P   ┆ NL   ┆ … ┆ 0   ┆ 0   ┆ 0   ┆ null    │\n",
       "│ 2014   ┆ abadfe01  ┆ P   ┆ AL   ┆ … ┆ 0   ┆ 0   ┆ 0   ┆ null    │\n",
       "│ 2015   ┆ abadfe01  ┆ P   ┆ AL   ┆ … ┆ 0   ┆ 0   ┆ 0   ┆ null    │\n",
       "│ …      ┆ …         ┆ …   ┆ …    ┆ … ┆ …   ┆ …   ┆ …   ┆ …       │\n",
       "│ 2022   ┆ zuninmi01 ┆ C   ┆ AL   ┆ … ┆ 16  ┆ 4   ┆ 0   ┆ null    │\n",
       "│ 2023   ┆ zuninmi01 ┆ C   ┆ AL   ┆ … ┆ 40  ┆ 8   ┆ 0   ┆ null    │\n",
       "│ 2015   ┆ zychto01  ┆ P   ┆ AL   ┆ … ┆ 0   ┆ 0   ┆ 0   ┆ null    │\n",
       "│ 2016   ┆ zychto01  ┆ P   ┆ AL   ┆ … ┆ 0   ┆ 0   ┆ 0   ┆ null    │\n",
       "│ 2017   ┆ zychto01  ┆ P   ┆ AL   ┆ … ┆ 0   ┆ 0   ┆ 0   ┆ null    │\n",
       "└────────┴───────────┴─────┴──────┴───┴─────┴─────┴─────┴─────────┘"
      ]
     },
     "execution_count": 729,
     "metadata": {},
     "output_type": "execute_result"
    }
   ],
   "source": [
    "fieldingAwards = (fielding_edit\n",
    "                  .join(awardsPlayers_edit, on=['yearID', 'playerID', 'POS', 'lgID'], how='left')\n",
    "                 )\n",
    "fieldingAwards"
   ]
  },
  {
   "cell_type": "code",
   "execution_count": 730,
   "id": "6d997347-99ad-4086-a1de-437cfde34b2f",
   "metadata": {},
   "outputs": [
    {
     "name": "stdout",
     "output_type": "stream",
     "text": [
      "['3B', '2B', 'SS', '1B', 'C', 'P', 'OF']\n"
     ]
    }
   ],
   "source": [
    "unique_notes3 = fieldingAwards['POS'].unique().to_list()\n",
    "print(unique_notes3)"
   ]
  },
  {
   "cell_type": "code",
   "execution_count": 731,
   "id": "7a8c9c4a-3288-4852-8e2f-d4778297351d",
   "metadata": {},
   "outputs": [
    {
     "name": "stdout",
     "output_type": "stream",
     "text": [
      "['Gold Glove', None]\n"
     ]
    }
   ],
   "source": [
    "unique_notes4 = fieldingAwards['awardID'].unique().to_list()\n",
    "print(unique_notes4)"
   ]
  },
  {
   "cell_type": "code",
   "execution_count": 732,
   "id": "30b2bbf3-fec8-4f56-91e6-a7691a494d86",
   "metadata": {},
   "outputs": [
    {
     "data": {
      "text/html": [
       "<div><style>\n",
       ".dataframe > thead > tr,\n",
       ".dataframe > tbody > tr {\n",
       "  text-align: right;\n",
       "  white-space: pre-wrap;\n",
       "}\n",
       "</style>\n",
       "<small>shape: (1, 1)</small><table border=\"1\" class=\"dataframe\"><thead><tr><th>Total_Games_2023</th></tr><tr><td>f64</td></tr></thead><tbody><tr><td>2430.0</td></tr></tbody></table></div>"
      ],
      "text/plain": [
       "shape: (1, 1)\n",
       "┌──────────────────┐\n",
       "│ Total_Games_2023 │\n",
       "│ ---              │\n",
       "│ f64              │\n",
       "╞══════════════════╡\n",
       "│ 2430.0           │\n",
       "└──────────────────┘"
      ]
     },
     "execution_count": 732,
     "metadata": {},
     "output_type": "execute_result"
    }
   ],
   "source": [
    "#There are 162 total games in a season. There are 30 teams total. Therefore, we need to count 2430 rows since (30*162)/2=2430\n",
    "#Since 2023 matches this number of rows, we can assume 2023 is the most recent complete season.\n",
    "teams_2023 = (teams\n",
    "              .filter(pl.col(\"yearID\") == 2023)\n",
    "                .select((pl.sum(\"G\") / 2).alias(\"Total_Games_2023\"))\n",
    "             )\n",
    "teams_2023"
   ]
  },
  {
   "cell_type": "code",
   "execution_count": 733,
   "id": "8fd768ce-f495-4d20-913a-1f637e1dbc22",
   "metadata": {},
   "outputs": [
    {
     "data": {
      "text/html": [
       "<div><style>\n",
       ".dataframe > thead > tr,\n",
       ".dataframe > tbody > tr {\n",
       "  text-align: right;\n",
       "  white-space: pre-wrap;\n",
       "}\n",
       "</style>\n",
       "<small>shape: (21_356, 18)</small><table border=\"1\" class=\"dataframe\"><thead><tr><th>yearID</th><th>playerID</th><th>POS</th><th>lgID</th><th>G</th><th>GS</th><th>InnOuts</th><th>PO</th><th>A</th><th>E</th><th>DP</th><th>PB</th><th>WP</th><th>SB</th><th>CS</th><th>ZR</th><th>awardID</th><th>Training_Validation</th></tr><tr><td>i64</td><td>str</td><td>str</td><td>str</td><td>i64</td><td>i64</td><td>i64</td><td>i64</td><td>i64</td><td>i64</td><td>i64</td><td>i64</td><td>i64</td><td>i64</td><td>i64</td><td>i64</td><td>str</td><td>str</td></tr></thead><tbody><tr><td>2013</td><td>&quot;aardsda01&quot;</td><td>&quot;P&quot;</td><td>&quot;NL&quot;</td><td>43</td><td>0</td><td>119</td><td>1</td><td>5</td><td>0</td><td>0</td><td>0</td><td>0</td><td>0</td><td>0</td><td>0</td><td>null</td><td>&quot;Training&quot;</td></tr><tr><td>2015</td><td>&quot;aardsda01&quot;</td><td>&quot;P&quot;</td><td>&quot;NL&quot;</td><td>33</td><td>0</td><td>92</td><td>0</td><td>1</td><td>1</td><td>0</td><td>0</td><td>0</td><td>0</td><td>0</td><td>0</td><td>null</td><td>&quot;Training&quot;</td></tr><tr><td>2013</td><td>&quot;abadfe01&quot;</td><td>&quot;P&quot;</td><td>&quot;NL&quot;</td><td>39</td><td>0</td><td>113</td><td>1</td><td>4</td><td>0</td><td>0</td><td>0</td><td>0</td><td>0</td><td>0</td><td>0</td><td>null</td><td>&quot;Training&quot;</td></tr><tr><td>2014</td><td>&quot;abadfe01&quot;</td><td>&quot;P&quot;</td><td>&quot;AL&quot;</td><td>69</td><td>0</td><td>172</td><td>0</td><td>8</td><td>0</td><td>0</td><td>0</td><td>0</td><td>0</td><td>0</td><td>0</td><td>null</td><td>&quot;Training&quot;</td></tr><tr><td>2015</td><td>&quot;abadfe01&quot;</td><td>&quot;P&quot;</td><td>&quot;AL&quot;</td><td>62</td><td>0</td><td>143</td><td>2</td><td>4</td><td>0</td><td>0</td><td>0</td><td>0</td><td>0</td><td>0</td><td>0</td><td>null</td><td>&quot;Training&quot;</td></tr><tr><td>&hellip;</td><td>&hellip;</td><td>&hellip;</td><td>&hellip;</td><td>&hellip;</td><td>&hellip;</td><td>&hellip;</td><td>&hellip;</td><td>&hellip;</td><td>&hellip;</td><td>&hellip;</td><td>&hellip;</td><td>&hellip;</td><td>&hellip;</td><td>&hellip;</td><td>&hellip;</td><td>&hellip;</td><td>&hellip;</td></tr><tr><td>2022</td><td>&quot;zuninmi01&quot;</td><td>&quot;C&quot;</td><td>&quot;AL&quot;</td><td>35</td><td>34</td><td>898</td><td>283</td><td>9</td><td>1</td><td>0</td><td>2</td><td>0</td><td>16</td><td>4</td><td>0</td><td>null</td><td>&quot;Training&quot;</td></tr><tr><td>2023</td><td>&quot;zuninmi01&quot;</td><td>&quot;C&quot;</td><td>&quot;AL&quot;</td><td>42</td><td>41</td><td>1019</td><td>276</td><td>17</td><td>3</td><td>2</td><td>5</td><td>19</td><td>40</td><td>8</td><td>0</td><td>null</td><td>&quot;Validation&quot;</td></tr><tr><td>2015</td><td>&quot;zychto01&quot;</td><td>&quot;P&quot;</td><td>&quot;AL&quot;</td><td>13</td><td>1</td><td>55</td><td>0</td><td>3</td><td>0</td><td>0</td><td>0</td><td>0</td><td>0</td><td>0</td><td>0</td><td>null</td><td>&quot;Training&quot;</td></tr><tr><td>2016</td><td>&quot;zychto01&quot;</td><td>&quot;P&quot;</td><td>&quot;AL&quot;</td><td>12</td><td>0</td><td>41</td><td>0</td><td>0</td><td>1</td><td>0</td><td>0</td><td>0</td><td>0</td><td>0</td><td>0</td><td>null</td><td>&quot;Training&quot;</td></tr><tr><td>2017</td><td>&quot;zychto01&quot;</td><td>&quot;P&quot;</td><td>&quot;AL&quot;</td><td>45</td><td>0</td><td>122</td><td>1</td><td>3</td><td>0</td><td>0</td><td>0</td><td>0</td><td>0</td><td>0</td><td>0</td><td>null</td><td>&quot;Training&quot;</td></tr></tbody></table></div>"
      ],
      "text/plain": [
       "shape: (21_356, 18)\n",
       "┌────────┬───────────┬─────┬──────┬───┬─────┬─────┬─────────┬─────────────────────┐\n",
       "│ yearID ┆ playerID  ┆ POS ┆ lgID ┆ … ┆ CS  ┆ ZR  ┆ awardID ┆ Training_Validation │\n",
       "│ ---    ┆ ---       ┆ --- ┆ ---  ┆   ┆ --- ┆ --- ┆ ---     ┆ ---                 │\n",
       "│ i64    ┆ str       ┆ str ┆ str  ┆   ┆ i64 ┆ i64 ┆ str     ┆ str                 │\n",
       "╞════════╪═══════════╪═════╪══════╪═══╪═════╪═════╪═════════╪═════════════════════╡\n",
       "│ 2013   ┆ aardsda01 ┆ P   ┆ NL   ┆ … ┆ 0   ┆ 0   ┆ null    ┆ Training            │\n",
       "│ 2015   ┆ aardsda01 ┆ P   ┆ NL   ┆ … ┆ 0   ┆ 0   ┆ null    ┆ Training            │\n",
       "│ 2013   ┆ abadfe01  ┆ P   ┆ NL   ┆ … ┆ 0   ┆ 0   ┆ null    ┆ Training            │\n",
       "│ 2014   ┆ abadfe01  ┆ P   ┆ AL   ┆ … ┆ 0   ┆ 0   ┆ null    ┆ Training            │\n",
       "│ 2015   ┆ abadfe01  ┆ P   ┆ AL   ┆ … ┆ 0   ┆ 0   ┆ null    ┆ Training            │\n",
       "│ …      ┆ …         ┆ …   ┆ …    ┆ … ┆ …   ┆ …   ┆ …       ┆ …                   │\n",
       "│ 2022   ┆ zuninmi01 ┆ C   ┆ AL   ┆ … ┆ 4   ┆ 0   ┆ null    ┆ Training            │\n",
       "│ 2023   ┆ zuninmi01 ┆ C   ┆ AL   ┆ … ┆ 8   ┆ 0   ┆ null    ┆ Validation          │\n",
       "│ 2015   ┆ zychto01  ┆ P   ┆ AL   ┆ … ┆ 0   ┆ 0   ┆ null    ┆ Training            │\n",
       "│ 2016   ┆ zychto01  ┆ P   ┆ AL   ┆ … ┆ 0   ┆ 0   ┆ null    ┆ Training            │\n",
       "│ 2017   ┆ zychto01  ┆ P   ┆ AL   ┆ … ┆ 0   ┆ 0   ┆ null    ┆ Training            │\n",
       "└────────┴───────────┴─────┴──────┴───┴─────┴─────┴─────────┴─────────────────────┘"
      ]
     },
     "execution_count": 733,
     "metadata": {},
     "output_type": "execute_result"
    }
   ],
   "source": [
    "q1_table = (fieldingAwards \n",
    "        .with_columns(\n",
    "        pl.when(pl.col('yearID') == 2023)\n",
    "        .then(pl.lit('Validation'))\n",
    "        .otherwise(pl.lit('Training'))\n",
    "        .alias('Training_Validation')\n",
    "    ))\n",
    "q1_table"
   ]
  },
  {
   "cell_type": "code",
   "execution_count": 734,
   "id": "9b0105ab-e6e1-43d3-8364-3342b7c79ed9",
   "metadata": {},
   "outputs": [],
   "source": [
    "q1_table.write_csv(\"./data/q1_table.csv\")"
   ]
  },
  {
   "cell_type": "markdown",
   "id": "a483fd86-870b-4166-8181-6dd45c291d29",
   "metadata": {},
   "source": [
    "# Q2: Construct the Salary Dataset"
   ]
  },
  {
   "cell_type": "code",
   "execution_count": 735,
   "id": "0eb0d7be-2308-4972-9475-6e9e692ca8b9",
   "metadata": {},
   "outputs": [
    {
     "data": {
      "text/html": [
       "<div><style>\n",
       ".dataframe > thead > tr,\n",
       ".dataframe > tbody > tr {\n",
       "  text-align: right;\n",
       "  white-space: pre-wrap;\n",
       "}\n",
       "</style>\n",
       "<small>shape: (9_131, 3)</small><table border=\"1\" class=\"dataframe\"><thead><tr><th>yearID</th><th>playerID</th><th>salary</th></tr><tr><td>i64</td><td>str</td><td>i64</td></tr></thead><tbody><tr><td>2007</td><td>&quot;aardsda01&quot;</td><td>387500</td></tr><tr><td>2008</td><td>&quot;aardsda01&quot;</td><td>403250</td></tr><tr><td>2009</td><td>&quot;aardsda01&quot;</td><td>419000</td></tr><tr><td>2010</td><td>&quot;aardsda01&quot;</td><td>2750000</td></tr><tr><td>2011</td><td>&quot;aardsda01&quot;</td><td>4500000</td></tr><tr><td>&hellip;</td><td>&hellip;</td><td>&hellip;</td></tr><tr><td>2010</td><td>&quot;zumayjo01&quot;</td><td>915000</td></tr><tr><td>2011</td><td>&quot;zumayjo01&quot;</td><td>1400000</td></tr><tr><td>2014</td><td>&quot;zuninmi01&quot;</td><td>504100</td></tr><tr><td>2015</td><td>&quot;zuninmi01&quot;</td><td>523500</td></tr><tr><td>2016</td><td>&quot;zychto01&quot;</td><td>511000</td></tr></tbody></table></div>"
      ],
      "text/plain": [
       "shape: (9_131, 3)\n",
       "┌────────┬───────────┬─────────┐\n",
       "│ yearID ┆ playerID  ┆ salary  │\n",
       "│ ---    ┆ ---       ┆ ---     │\n",
       "│ i64    ┆ str       ┆ i64     │\n",
       "╞════════╪═══════════╪═════════╡\n",
       "│ 2007   ┆ aardsda01 ┆ 387500  │\n",
       "│ 2008   ┆ aardsda01 ┆ 403250  │\n",
       "│ 2009   ┆ aardsda01 ┆ 419000  │\n",
       "│ 2010   ┆ aardsda01 ┆ 2750000 │\n",
       "│ 2011   ┆ aardsda01 ┆ 4500000 │\n",
       "│ …      ┆ …         ┆ …       │\n",
       "│ 2010   ┆ zumayjo01 ┆ 915000  │\n",
       "│ 2011   ┆ zumayjo01 ┆ 1400000 │\n",
       "│ 2014   ┆ zuninmi01 ┆ 504100  │\n",
       "│ 2015   ┆ zuninmi01 ┆ 523500  │\n",
       "│ 2016   ┆ zychto01  ┆ 511000  │\n",
       "└────────┴───────────┴─────────┘"
      ]
     },
     "execution_count": 735,
     "metadata": {},
     "output_type": "execute_result"
    }
   ],
   "source": [
    "salaries_edit = (salaries\n",
    "               .filter(pl.col('yearID') >= 2006)\n",
    "                 .group_by(pl.col('yearID'), pl.col('playerID'))\n",
    "                 .agg(pl.col('salary').sum())\n",
    "                 .sort(pl.col('playerID'), pl.col('yearID'))\n",
    "              )\n",
    "salaries_edit"
   ]
  },
  {
   "cell_type": "code",
   "execution_count": 736,
   "id": "2212b1c9-e869-454b-887f-ef7e54cd0a79",
   "metadata": {},
   "outputs": [
    {
     "data": {
      "text/html": [
       "<div><style>\n",
       ".dataframe > thead > tr,\n",
       ".dataframe > tbody > tr {\n",
       "  text-align: right;\n",
       "  white-space: pre-wrap;\n",
       "}\n",
       "</style>\n",
       "<small>shape: (23_983, 14)</small><table border=\"1\" class=\"dataframe\"><thead><tr><th>yearID</th><th>playerID</th><th>G</th><th>GS</th><th>InnOuts</th><th>PO</th><th>A</th><th>E</th><th>DP</th><th>PB</th><th>WP</th><th>SB</th><th>CS</th><th>ZR</th></tr><tr><td>i64</td><td>str</td><td>i64</td><td>i64</td><td>i64</td><td>i64</td><td>i64</td><td>i64</td><td>i64</td><td>i64</td><td>i64</td><td>i64</td><td>i64</td><td>i64</td></tr></thead><tbody><tr><td>2006</td><td>&quot;aardsda01&quot;</td><td>45</td><td>0</td><td>159</td><td>1</td><td>5</td><td>0</td><td>1</td><td>0</td><td>0</td><td>0</td><td>0</td><td>0</td></tr><tr><td>2007</td><td>&quot;aardsda01&quot;</td><td>25</td><td>0</td><td>97</td><td>2</td><td>4</td><td>1</td><td>0</td><td>0</td><td>0</td><td>0</td><td>0</td><td>0</td></tr><tr><td>2008</td><td>&quot;aardsda01&quot;</td><td>47</td><td>0</td><td>146</td><td>3</td><td>6</td><td>0</td><td>0</td><td>0</td><td>0</td><td>0</td><td>0</td><td>0</td></tr><tr><td>2009</td><td>&quot;aardsda01&quot;</td><td>73</td><td>0</td><td>214</td><td>2</td><td>5</td><td>0</td><td>1</td><td>0</td><td>0</td><td>0</td><td>0</td><td>0</td></tr><tr><td>2010</td><td>&quot;aardsda01&quot;</td><td>53</td><td>0</td><td>149</td><td>2</td><td>3</td><td>1</td><td>0</td><td>0</td><td>0</td><td>0</td><td>0</td><td>0</td></tr><tr><td>&hellip;</td><td>&hellip;</td><td>&hellip;</td><td>&hellip;</td><td>&hellip;</td><td>&hellip;</td><td>&hellip;</td><td>&hellip;</td><td>&hellip;</td><td>&hellip;</td><td>&hellip;</td><td>&hellip;</td><td>&hellip;</td><td>&hellip;</td></tr><tr><td>2022</td><td>&quot;zuninmi01&quot;</td><td>35</td><td>34</td><td>898</td><td>283</td><td>9</td><td>1</td><td>0</td><td>2</td><td>0</td><td>16</td><td>4</td><td>0</td></tr><tr><td>2023</td><td>&quot;zuninmi01&quot;</td><td>42</td><td>41</td><td>1019</td><td>276</td><td>17</td><td>3</td><td>2</td><td>5</td><td>19</td><td>40</td><td>8</td><td>0</td></tr><tr><td>2015</td><td>&quot;zychto01&quot;</td><td>13</td><td>1</td><td>55</td><td>0</td><td>3</td><td>0</td><td>0</td><td>0</td><td>0</td><td>0</td><td>0</td><td>0</td></tr><tr><td>2016</td><td>&quot;zychto01&quot;</td><td>12</td><td>0</td><td>41</td><td>0</td><td>0</td><td>1</td><td>0</td><td>0</td><td>0</td><td>0</td><td>0</td><td>0</td></tr><tr><td>2017</td><td>&quot;zychto01&quot;</td><td>45</td><td>0</td><td>122</td><td>1</td><td>3</td><td>0</td><td>0</td><td>0</td><td>0</td><td>0</td><td>0</td><td>0</td></tr></tbody></table></div>"
      ],
      "text/plain": [
       "shape: (23_983, 14)\n",
       "┌────────┬───────────┬─────┬─────┬───┬─────┬─────┬─────┬─────┐\n",
       "│ yearID ┆ playerID  ┆ G   ┆ GS  ┆ … ┆ WP  ┆ SB  ┆ CS  ┆ ZR  │\n",
       "│ ---    ┆ ---       ┆ --- ┆ --- ┆   ┆ --- ┆ --- ┆ --- ┆ --- │\n",
       "│ i64    ┆ str       ┆ i64 ┆ i64 ┆   ┆ i64 ┆ i64 ┆ i64 ┆ i64 │\n",
       "╞════════╪═══════════╪═════╪═════╪═══╪═════╪═════╪═════╪═════╡\n",
       "│ 2006   ┆ aardsda01 ┆ 45  ┆ 0   ┆ … ┆ 0   ┆ 0   ┆ 0   ┆ 0   │\n",
       "│ 2007   ┆ aardsda01 ┆ 25  ┆ 0   ┆ … ┆ 0   ┆ 0   ┆ 0   ┆ 0   │\n",
       "│ 2008   ┆ aardsda01 ┆ 47  ┆ 0   ┆ … ┆ 0   ┆ 0   ┆ 0   ┆ 0   │\n",
       "│ 2009   ┆ aardsda01 ┆ 73  ┆ 0   ┆ … ┆ 0   ┆ 0   ┆ 0   ┆ 0   │\n",
       "│ 2010   ┆ aardsda01 ┆ 53  ┆ 0   ┆ … ┆ 0   ┆ 0   ┆ 0   ┆ 0   │\n",
       "│ …      ┆ …         ┆ …   ┆ …   ┆ … ┆ …   ┆ …   ┆ …   ┆ …   │\n",
       "│ 2022   ┆ zuninmi01 ┆ 35  ┆ 34  ┆ … ┆ 0   ┆ 16  ┆ 4   ┆ 0   │\n",
       "│ 2023   ┆ zuninmi01 ┆ 42  ┆ 41  ┆ … ┆ 19  ┆ 40  ┆ 8   ┆ 0   │\n",
       "│ 2015   ┆ zychto01  ┆ 13  ┆ 1   ┆ … ┆ 0   ┆ 0   ┆ 0   ┆ 0   │\n",
       "│ 2016   ┆ zychto01  ┆ 12  ┆ 0   ┆ … ┆ 0   ┆ 0   ┆ 0   ┆ 0   │\n",
       "│ 2017   ┆ zychto01  ┆ 45  ┆ 0   ┆ … ┆ 0   ┆ 0   ┆ 0   ┆ 0   │\n",
       "└────────┴───────────┴─────┴─────┴───┴─────┴─────┴─────┴─────┘"
      ]
     },
     "execution_count": 736,
     "metadata": {},
     "output_type": "execute_result"
    }
   ],
   "source": [
    "fielding_edit2 = (fielding\n",
    "                 .filter(pl.col('yearID') >= 2006)\n",
    "                 .with_columns(\n",
    "                     pl.col('PB').cast(pl.Int64),\n",
    "                     pl.col('WP').cast(pl.Int64),\n",
    "                     pl.col('SB').cast(pl.Int64),\n",
    "                     pl.col('CS').cast(pl.Int64),\n",
    "                     pl.col('ZR').cast(pl.Int64)\n",
    "                 )\n",
    "                  .group_by(pl.col('yearID'), pl.col('playerID'))\n",
    "                  .agg(pl.col('G').sum(), pl.col('GS').sum(), pl.col('InnOuts').sum(), pl.col('PO').sum(), pl.col('A').sum(), pl.col('E').sum(), \n",
    "                  pl.col('DP').sum(), pl.col('PB').sum(), pl.col('WP').sum(), pl.col('SB').sum(), pl.col('CS').sum(), pl.col('ZR').sum()\n",
    "                      )\n",
    "                 .sort(pl.col('playerID'), pl.col('yearID'))\n",
    "                )\n",
    "fielding_edit2"
   ]
  },
  {
   "cell_type": "code",
   "execution_count": 737,
   "id": "4a644f79-a110-4b90-a86a-82ba86c491b1",
   "metadata": {},
   "outputs": [
    {
     "data": {
      "text/html": [
       "<div><style>\n",
       ".dataframe > thead > tr,\n",
       ".dataframe > tbody > tr {\n",
       "  text-align: right;\n",
       "  white-space: pre-wrap;\n",
       "}\n",
       "</style>\n",
       "<small>shape: (13_186, 27)</small><table border=\"1\" class=\"dataframe\"><thead><tr><th>yearID</th><th>playerID</th><th>W</th><th>L</th><th>G</th><th>GS</th><th>CG</th><th>SHO</th><th>SV</th><th>IPouts</th><th>H</th><th>ER</th><th>HR</th><th>BB</th><th>SO</th><th>BAOpp</th><th>ERA</th><th>IBB</th><th>WP</th><th>HBP</th><th>BK</th><th>BFP</th><th>GF</th><th>R</th><th>SH</th><th>SF</th><th>GIDP</th></tr><tr><td>i64</td><td>str</td><td>i64</td><td>i64</td><td>i64</td><td>i64</td><td>i64</td><td>i64</td><td>i64</td><td>i64</td><td>i64</td><td>i64</td><td>i64</td><td>i64</td><td>i64</td><td>f64</td><td>f64</td><td>i64</td><td>i64</td><td>i64</td><td>i64</td><td>i64</td><td>i64</td><td>i64</td><td>i64</td><td>i64</td><td>i64</td></tr></thead><tbody><tr><td>2006</td><td>&quot;aardsda01&quot;</td><td>3</td><td>0</td><td>45</td><td>0</td><td>0</td><td>0</td><td>0</td><td>159</td><td>41</td><td>24</td><td>9</td><td>28</td><td>49</td><td>0.214</td><td>4.08</td><td>0</td><td>1</td><td>1</td><td>0</td><td>225</td><td>9</td><td>25</td><td>1</td><td>3</td><td>2</td></tr><tr><td>2007</td><td>&quot;aardsda01&quot;</td><td>2</td><td>1</td><td>25</td><td>0</td><td>0</td><td>0</td><td>0</td><td>97</td><td>39</td><td>23</td><td>4</td><td>17</td><td>36</td><td>0.3</td><td>6.4</td><td>3</td><td>2</td><td>1</td><td>0</td><td>151</td><td>7</td><td>24</td><td>2</td><td>1</td><td>1</td></tr><tr><td>2008</td><td>&quot;aardsda01&quot;</td><td>4</td><td>2</td><td>47</td><td>0</td><td>0</td><td>0</td><td>0</td><td>146</td><td>49</td><td>30</td><td>4</td><td>35</td><td>49</td><td>0.268</td><td>5.55</td><td>2</td><td>3</td><td>5</td><td>0</td><td>228</td><td>7</td><td>32</td><td>3</td><td>2</td><td>4</td></tr><tr><td>2009</td><td>&quot;aardsda01&quot;</td><td>3</td><td>6</td><td>73</td><td>0</td><td>0</td><td>0</td><td>38</td><td>214</td><td>49</td><td>20</td><td>4</td><td>34</td><td>80</td><td>0.19</td><td>2.52</td><td>3</td><td>2</td><td>0</td><td>0</td><td>296</td><td>53</td><td>23</td><td>2</td><td>1</td><td>2</td></tr><tr><td>2010</td><td>&quot;aardsda01&quot;</td><td>0</td><td>6</td><td>53</td><td>0</td><td>0</td><td>0</td><td>31</td><td>149</td><td>33</td><td>19</td><td>5</td><td>25</td><td>49</td><td>0.198</td><td>3.44</td><td>5</td><td>2</td><td>2</td><td>0</td><td>202</td><td>43</td><td>19</td><td>7</td><td>1</td><td>5</td></tr><tr><td>&hellip;</td><td>&hellip;</td><td>&hellip;</td><td>&hellip;</td><td>&hellip;</td><td>&hellip;</td><td>&hellip;</td><td>&hellip;</td><td>&hellip;</td><td>&hellip;</td><td>&hellip;</td><td>&hellip;</td><td>&hellip;</td><td>&hellip;</td><td>&hellip;</td><td>&hellip;</td><td>&hellip;</td><td>&hellip;</td><td>&hellip;</td><td>&hellip;</td><td>&hellip;</td><td>&hellip;</td><td>&hellip;</td><td>&hellip;</td><td>&hellip;</td><td>&hellip;</td><td>&hellip;</td></tr><tr><td>2010</td><td>&quot;zumayjo01&quot;</td><td>2</td><td>1</td><td>31</td><td>0</td><td>0</td><td>0</td><td>1</td><td>115</td><td>32</td><td>11</td><td>1</td><td>11</td><td>34</td><td>0.229</td><td>2.58</td><td>0</td><td>2</td><td>0</td><td>0</td><td>156</td><td>6</td><td>13</td><td>2</td><td>3</td><td>4</td></tr><tr><td>2023</td><td>&quot;zuniggu01&quot;</td><td>0</td><td>0</td><td>2</td><td>0</td><td>0</td><td>0</td><td>0</td><td>6</td><td>2</td><td>1</td><td>0</td><td>0</td><td>4</td><td>0.25</td><td>4.5</td><td>0</td><td>0</td><td>0</td><td>0</td><td>8</td><td>2</td><td>1</td><td>0</td><td>0</td><td>0</td></tr><tr><td>2015</td><td>&quot;zychto01&quot;</td><td>0</td><td>0</td><td>13</td><td>1</td><td>0</td><td>0</td><td>0</td><td>55</td><td>17</td><td>5</td><td>1</td><td>3</td><td>24</td><td>0.239</td><td>2.45</td><td>0</td><td>1</td><td>2</td><td>0</td><td>76</td><td>4</td><td>6</td><td>0</td><td>0</td><td>0</td></tr><tr><td>2016</td><td>&quot;zychto01&quot;</td><td>1</td><td>0</td><td>12</td><td>0</td><td>0</td><td>0</td><td>0</td><td>41</td><td>10</td><td>5</td><td>0</td><td>10</td><td>21</td><td>0.208</td><td>3.29</td><td>2</td><td>0</td><td>1</td><td>0</td><td>60</td><td>3</td><td>6</td><td>0</td><td>1</td><td>1</td></tr><tr><td>2017</td><td>&quot;zychto01&quot;</td><td>6</td><td>3</td><td>45</td><td>0</td><td>0</td><td>0</td><td>1</td><td>122</td><td>30</td><td>12</td><td>2</td><td>21</td><td>35</td><td>0.208</td><td>2.66</td><td>3</td><td>1</td><td>5</td><td>1</td><td>173</td><td>7</td><td>12</td><td>1</td><td>2</td><td>5</td></tr></tbody></table></div>"
      ],
      "text/plain": [
       "shape: (13_186, 27)\n",
       "┌────────┬───────────┬─────┬─────┬───┬─────┬─────┬─────┬──────┐\n",
       "│ yearID ┆ playerID  ┆ W   ┆ L   ┆ … ┆ R   ┆ SH  ┆ SF  ┆ GIDP │\n",
       "│ ---    ┆ ---       ┆ --- ┆ --- ┆   ┆ --- ┆ --- ┆ --- ┆ ---  │\n",
       "│ i64    ┆ str       ┆ i64 ┆ i64 ┆   ┆ i64 ┆ i64 ┆ i64 ┆ i64  │\n",
       "╞════════╪═══════════╪═════╪═════╪═══╪═════╪═════╪═════╪══════╡\n",
       "│ 2006   ┆ aardsda01 ┆ 3   ┆ 0   ┆ … ┆ 25  ┆ 1   ┆ 3   ┆ 2    │\n",
       "│ 2007   ┆ aardsda01 ┆ 2   ┆ 1   ┆ … ┆ 24  ┆ 2   ┆ 1   ┆ 1    │\n",
       "│ 2008   ┆ aardsda01 ┆ 4   ┆ 2   ┆ … ┆ 32  ┆ 3   ┆ 2   ┆ 4    │\n",
       "│ 2009   ┆ aardsda01 ┆ 3   ┆ 6   ┆ … ┆ 23  ┆ 2   ┆ 1   ┆ 2    │\n",
       "│ 2010   ┆ aardsda01 ┆ 0   ┆ 6   ┆ … ┆ 19  ┆ 7   ┆ 1   ┆ 5    │\n",
       "│ …      ┆ …         ┆ …   ┆ …   ┆ … ┆ …   ┆ …   ┆ …   ┆ …    │\n",
       "│ 2010   ┆ zumayjo01 ┆ 2   ┆ 1   ┆ … ┆ 13  ┆ 2   ┆ 3   ┆ 4    │\n",
       "│ 2023   ┆ zuniggu01 ┆ 0   ┆ 0   ┆ … ┆ 1   ┆ 0   ┆ 0   ┆ 0    │\n",
       "│ 2015   ┆ zychto01  ┆ 0   ┆ 0   ┆ … ┆ 6   ┆ 0   ┆ 0   ┆ 0    │\n",
       "│ 2016   ┆ zychto01  ┆ 1   ┆ 0   ┆ … ┆ 6   ┆ 0   ┆ 1   ┆ 1    │\n",
       "│ 2017   ┆ zychto01  ┆ 6   ┆ 3   ┆ … ┆ 12  ┆ 1   ┆ 2   ┆ 5    │\n",
       "└────────┴───────────┴─────┴─────┴───┴─────┴─────┴─────┴──────┘"
      ]
     },
     "execution_count": 737,
     "metadata": {},
     "output_type": "execute_result"
    }
   ],
   "source": [
    "pitching_edit = (pitching\n",
    "                 .filter(pl.col('yearID') >= 2006)\n",
    "                 .group_by(pl.col('yearID'), pl.col('playerID'))\n",
    "                 .agg(pl.col('W').sum(), pl.col('L').sum(), pl.col('G').sum(), pl.col('GS').sum(), pl.col('CG').sum(), pl.col('SHO').sum(),\n",
    "                      pl.col('SV').sum(), pl.col('IPouts').sum(), pl.col('H').sum(), pl.col('ER').sum(), pl.col('HR').sum(), pl.col('BB').sum(), \n",
    "                     pl.col('SO').sum(), pl.col('BAOpp').mean(), pl.col('ERA').mean(), pl.col('IBB').sum(), pl.col('WP').sum(), pl.col('HBP').sum(),\n",
    "                     pl.col('BK').sum(), pl.col('BFP').sum(), pl.col('GF').sum(), pl.col('R').sum(), pl.col('SH').sum(), pl.col('SF').sum(), \n",
    "                     pl.col('GIDP').sum())\n",
    "                 .sort(pl.col('playerID'), pl.col('yearID'))\n",
    "                )\n",
    "pitching_edit"
   ]
  },
  {
   "cell_type": "code",
   "execution_count": 738,
   "id": "f2545a3d-a17b-4e9a-b406-75a7fc2b603a",
   "metadata": {},
   "outputs": [
    {
     "data": {
      "text/html": [
       "<div><style>\n",
       ".dataframe > thead > tr,\n",
       ".dataframe > tbody > tr {\n",
       "  text-align: right;\n",
       "  white-space: pre-wrap;\n",
       "}\n",
       "</style>\n",
       "<small>shape: (24_126, 21)</small><table border=\"1\" class=\"dataframe\"><thead><tr><th>yearID</th><th>playerID</th><th>G</th><th>G_batting</th><th>AB</th><th>R</th><th>H</th><th>2B</th><th>3B</th><th>HR</th><th>RBI</th><th>SB</th><th>CS</th><th>BB</th><th>SO</th><th>IBB</th><th>HBP</th><th>SH</th><th>SF</th><th>GIDP</th><th>G_old</th></tr><tr><td>i64</td><td>str</td><td>i64</td><td>i64</td><td>i64</td><td>i64</td><td>i64</td><td>i64</td><td>i64</td><td>i64</td><td>i64</td><td>i64</td><td>i64</td><td>i64</td><td>i64</td><td>i64</td><td>i64</td><td>i64</td><td>i64</td><td>i64</td><td>i64</td></tr></thead><tbody><tr><td>2006</td><td>&quot;aardsda01&quot;</td><td>45</td><td>0</td><td>2</td><td>0</td><td>0</td><td>0</td><td>0</td><td>0</td><td>0</td><td>0</td><td>0</td><td>0</td><td>0</td><td>0</td><td>0</td><td>1</td><td>0</td><td>0</td><td>0</td></tr><tr><td>2007</td><td>&quot;aardsda01&quot;</td><td>25</td><td>0</td><td>0</td><td>0</td><td>0</td><td>0</td><td>0</td><td>0</td><td>0</td><td>0</td><td>0</td><td>0</td><td>0</td><td>0</td><td>0</td><td>0</td><td>0</td><td>0</td><td>0</td></tr><tr><td>2008</td><td>&quot;aardsda01&quot;</td><td>47</td><td>0</td><td>1</td><td>0</td><td>0</td><td>0</td><td>0</td><td>0</td><td>0</td><td>0</td><td>0</td><td>0</td><td>1</td><td>0</td><td>0</td><td>0</td><td>0</td><td>0</td><td>0</td></tr><tr><td>2009</td><td>&quot;aardsda01&quot;</td><td>73</td><td>0</td><td>0</td><td>0</td><td>0</td><td>0</td><td>0</td><td>0</td><td>0</td><td>0</td><td>0</td><td>0</td><td>0</td><td>0</td><td>0</td><td>0</td><td>0</td><td>0</td><td>0</td></tr><tr><td>2010</td><td>&quot;aardsda01&quot;</td><td>53</td><td>0</td><td>0</td><td>0</td><td>0</td><td>0</td><td>0</td><td>0</td><td>0</td><td>0</td><td>0</td><td>0</td><td>0</td><td>0</td><td>0</td><td>0</td><td>0</td><td>0</td><td>0</td></tr><tr><td>&hellip;</td><td>&hellip;</td><td>&hellip;</td><td>&hellip;</td><td>&hellip;</td><td>&hellip;</td><td>&hellip;</td><td>&hellip;</td><td>&hellip;</td><td>&hellip;</td><td>&hellip;</td><td>&hellip;</td><td>&hellip;</td><td>&hellip;</td><td>&hellip;</td><td>&hellip;</td><td>&hellip;</td><td>&hellip;</td><td>&hellip;</td><td>&hellip;</td><td>&hellip;</td></tr><tr><td>2022</td><td>&quot;zuninmi01&quot;</td><td>36</td><td>0</td><td>115</td><td>7</td><td>17</td><td>3</td><td>0</td><td>5</td><td>16</td><td>0</td><td>0</td><td>6</td><td>46</td><td>0</td><td>1</td><td>0</td><td>1</td><td>2</td><td>0</td></tr><tr><td>2023</td><td>&quot;zuninmi01&quot;</td><td>42</td><td>42</td><td>124</td><td>11</td><td>22</td><td>7</td><td>0</td><td>3</td><td>11</td><td>0</td><td>0</td><td>15</td><td>61</td><td>0</td><td>1</td><td>0</td><td>0</td><td>3</td><td>0</td></tr><tr><td>2015</td><td>&quot;zychto01&quot;</td><td>13</td><td>0</td><td>0</td><td>0</td><td>0</td><td>0</td><td>0</td><td>0</td><td>0</td><td>0</td><td>0</td><td>0</td><td>0</td><td>0</td><td>0</td><td>0</td><td>0</td><td>0</td><td>0</td></tr><tr><td>2016</td><td>&quot;zychto01&quot;</td><td>12</td><td>0</td><td>0</td><td>0</td><td>0</td><td>0</td><td>0</td><td>0</td><td>0</td><td>0</td><td>0</td><td>0</td><td>0</td><td>0</td><td>0</td><td>0</td><td>0</td><td>0</td><td>0</td></tr><tr><td>2017</td><td>&quot;zychto01&quot;</td><td>45</td><td>0</td><td>0</td><td>0</td><td>0</td><td>0</td><td>0</td><td>0</td><td>0</td><td>0</td><td>0</td><td>0</td><td>0</td><td>0</td><td>0</td><td>0</td><td>0</td><td>0</td><td>0</td></tr></tbody></table></div>"
      ],
      "text/plain": [
       "shape: (24_126, 21)\n",
       "┌────────┬───────────┬─────┬───────────┬───┬─────┬─────┬──────┬───────┐\n",
       "│ yearID ┆ playerID  ┆ G   ┆ G_batting ┆ … ┆ SH  ┆ SF  ┆ GIDP ┆ G_old │\n",
       "│ ---    ┆ ---       ┆ --- ┆ ---       ┆   ┆ --- ┆ --- ┆ ---  ┆ ---   │\n",
       "│ i64    ┆ str       ┆ i64 ┆ i64       ┆   ┆ i64 ┆ i64 ┆ i64  ┆ i64   │\n",
       "╞════════╪═══════════╪═════╪═══════════╪═══╪═════╪═════╪══════╪═══════╡\n",
       "│ 2006   ┆ aardsda01 ┆ 45  ┆ 0         ┆ … ┆ 1   ┆ 0   ┆ 0    ┆ 0     │\n",
       "│ 2007   ┆ aardsda01 ┆ 25  ┆ 0         ┆ … ┆ 0   ┆ 0   ┆ 0    ┆ 0     │\n",
       "│ 2008   ┆ aardsda01 ┆ 47  ┆ 0         ┆ … ┆ 0   ┆ 0   ┆ 0    ┆ 0     │\n",
       "│ 2009   ┆ aardsda01 ┆ 73  ┆ 0         ┆ … ┆ 0   ┆ 0   ┆ 0    ┆ 0     │\n",
       "│ 2010   ┆ aardsda01 ┆ 53  ┆ 0         ┆ … ┆ 0   ┆ 0   ┆ 0    ┆ 0     │\n",
       "│ …      ┆ …         ┆ …   ┆ …         ┆ … ┆ …   ┆ …   ┆ …    ┆ …     │\n",
       "│ 2022   ┆ zuninmi01 ┆ 36  ┆ 0         ┆ … ┆ 0   ┆ 1   ┆ 2    ┆ 0     │\n",
       "│ 2023   ┆ zuninmi01 ┆ 42  ┆ 42        ┆ … ┆ 0   ┆ 0   ┆ 3    ┆ 0     │\n",
       "│ 2015   ┆ zychto01  ┆ 13  ┆ 0         ┆ … ┆ 0   ┆ 0   ┆ 0    ┆ 0     │\n",
       "│ 2016   ┆ zychto01  ┆ 12  ┆ 0         ┆ … ┆ 0   ┆ 0   ┆ 0    ┆ 0     │\n",
       "│ 2017   ┆ zychto01  ┆ 45  ┆ 0         ┆ … ┆ 0   ┆ 0   ┆ 0    ┆ 0     │\n",
       "└────────┴───────────┴─────┴───────────┴───┴─────┴─────┴──────┴───────┘"
      ]
     },
     "execution_count": 738,
     "metadata": {},
     "output_type": "execute_result"
    }
   ],
   "source": [
    "batting_edit = (batting\n",
    "                 .filter(pl.col('yearID') >= 2006)\n",
    "                .with_columns(pl.col('G_old').cast(pl.Int64))\n",
    "                 .group_by(pl.col('yearID'), pl.col('playerID'))\n",
    "                 .agg(pl.col('G').sum(), pl.col('G_batting').sum(), pl.col('AB').sum(), pl.col('R').sum(), pl.col('H').sum(), pl.col('2B').sum(),\n",
    "                      pl.col('3B').sum(), pl.col('HR').sum(), pl.col('RBI').sum(), pl.col('SB').sum(), pl.col('CS').sum(), pl.col('BB').sum(), \n",
    "                     pl.col('SO').sum(), pl.col('IBB').sum(), pl.col('HBP').sum(), pl.col('SH').sum(), pl.col('SF').sum(), pl.col('GIDP').sum(),\n",
    "                     pl.col('G_old').sum())\n",
    "                 .sort(pl.col('playerID'), pl.col('yearID'))\n",
    "                )\n",
    "batting_edit"
   ]
  },
  {
   "cell_type": "code",
   "execution_count": 739,
   "id": "2a939c75-699d-415e-af1b-c6767f32f425",
   "metadata": {},
   "outputs": [
    {
     "data": {
      "text/html": [
       "<div><style>\n",
       ".dataframe > thead > tr,\n",
       ".dataframe > tbody > tr {\n",
       "  text-align: right;\n",
       "  white-space: pre-wrap;\n",
       "}\n",
       "</style>\n",
       "<small>shape: (9_131, 59)</small><table border=\"1\" class=\"dataframe\"><thead><tr><th>yearID</th><th>playerID</th><th>salary</th><th>G_fielding</th><th>GS_fielding</th><th>InnOuts</th><th>PO</th><th>A</th><th>E</th><th>DP</th><th>PB</th><th>WP</th><th>SB</th><th>CS</th><th>ZR</th><th>W</th><th>L</th><th>G_pitching</th><th>GS_pitching</th><th>CG</th><th>SHO</th><th>SV</th><th>IPouts</th><th>H</th><th>ER</th><th>HR</th><th>BB</th><th>SO</th><th>BAOpp</th><th>ERA</th><th>IBB</th><th>WP_right</th><th>HBP</th><th>BK</th><th>BFP</th><th>GF</th><th>R</th><th>SH</th><th>SF</th><th>GIDP</th><th>G_batting2</th><th>G_batting_total</th><th>AB</th><th>R_right</th><th>H_right</th><th>2B</th><th>3B</th><th>HR_right</th><th>RBI</th><th>SB_right</th><th>CS_right</th><th>BB_right</th><th>SO_right</th><th>IBB_right</th><th>HBP_right</th><th>SH_right</th><th>SF_right</th><th>GIDP_right</th><th>G_old</th></tr><tr><td>i64</td><td>str</td><td>i64</td><td>i64</td><td>i64</td><td>i64</td><td>i64</td><td>i64</td><td>i64</td><td>i64</td><td>i64</td><td>i64</td><td>i64</td><td>i64</td><td>i64</td><td>i64</td><td>i64</td><td>i64</td><td>i64</td><td>i64</td><td>i64</td><td>i64</td><td>i64</td><td>i64</td><td>i64</td><td>i64</td><td>i64</td><td>i64</td><td>f64</td><td>f64</td><td>i64</td><td>i64</td><td>i64</td><td>i64</td><td>i64</td><td>i64</td><td>i64</td><td>i64</td><td>i64</td><td>i64</td><td>i64</td><td>i64</td><td>i64</td><td>i64</td><td>i64</td><td>i64</td><td>i64</td><td>i64</td><td>i64</td><td>i64</td><td>i64</td><td>i64</td><td>i64</td><td>i64</td><td>i64</td><td>i64</td><td>i64</td><td>i64</td><td>i64</td></tr></thead><tbody><tr><td>2007</td><td>&quot;aardsda01&quot;</td><td>387500</td><td>25</td><td>0</td><td>97</td><td>2</td><td>4</td><td>1</td><td>0</td><td>0</td><td>0</td><td>0</td><td>0</td><td>0</td><td>2</td><td>1</td><td>25</td><td>0</td><td>0</td><td>0</td><td>0</td><td>97</td><td>39</td><td>23</td><td>4</td><td>17</td><td>36</td><td>0.3</td><td>6.4</td><td>3</td><td>2</td><td>1</td><td>0</td><td>151</td><td>7</td><td>24</td><td>2</td><td>1</td><td>1</td><td>25</td><td>0</td><td>0</td><td>0</td><td>0</td><td>0</td><td>0</td><td>0</td><td>0</td><td>0</td><td>0</td><td>0</td><td>0</td><td>0</td><td>0</td><td>0</td><td>0</td><td>0</td><td>0</td></tr><tr><td>2008</td><td>&quot;aardsda01&quot;</td><td>403250</td><td>47</td><td>0</td><td>146</td><td>3</td><td>6</td><td>0</td><td>0</td><td>0</td><td>0</td><td>0</td><td>0</td><td>0</td><td>4</td><td>2</td><td>47</td><td>0</td><td>0</td><td>0</td><td>0</td><td>146</td><td>49</td><td>30</td><td>4</td><td>35</td><td>49</td><td>0.268</td><td>5.55</td><td>2</td><td>3</td><td>5</td><td>0</td><td>228</td><td>7</td><td>32</td><td>3</td><td>2</td><td>4</td><td>47</td><td>0</td><td>1</td><td>0</td><td>0</td><td>0</td><td>0</td><td>0</td><td>0</td><td>0</td><td>0</td><td>0</td><td>1</td><td>0</td><td>0</td><td>0</td><td>0</td><td>0</td><td>0</td></tr><tr><td>2009</td><td>&quot;aardsda01&quot;</td><td>419000</td><td>73</td><td>0</td><td>214</td><td>2</td><td>5</td><td>0</td><td>1</td><td>0</td><td>0</td><td>0</td><td>0</td><td>0</td><td>3</td><td>6</td><td>73</td><td>0</td><td>0</td><td>0</td><td>38</td><td>214</td><td>49</td><td>20</td><td>4</td><td>34</td><td>80</td><td>0.19</td><td>2.52</td><td>3</td><td>2</td><td>0</td><td>0</td><td>296</td><td>53</td><td>23</td><td>2</td><td>1</td><td>2</td><td>73</td><td>0</td><td>0</td><td>0</td><td>0</td><td>0</td><td>0</td><td>0</td><td>0</td><td>0</td><td>0</td><td>0</td><td>0</td><td>0</td><td>0</td><td>0</td><td>0</td><td>0</td><td>0</td></tr><tr><td>2010</td><td>&quot;aardsda01&quot;</td><td>2750000</td><td>53</td><td>0</td><td>149</td><td>2</td><td>3</td><td>1</td><td>0</td><td>0</td><td>0</td><td>0</td><td>0</td><td>0</td><td>0</td><td>6</td><td>53</td><td>0</td><td>0</td><td>0</td><td>31</td><td>149</td><td>33</td><td>19</td><td>5</td><td>25</td><td>49</td><td>0.198</td><td>3.44</td><td>5</td><td>2</td><td>2</td><td>0</td><td>202</td><td>43</td><td>19</td><td>7</td><td>1</td><td>5</td><td>53</td><td>0</td><td>0</td><td>0</td><td>0</td><td>0</td><td>0</td><td>0</td><td>0</td><td>0</td><td>0</td><td>0</td><td>0</td><td>0</td><td>0</td><td>0</td><td>0</td><td>0</td><td>0</td></tr><tr><td>2011</td><td>&quot;aardsda01&quot;</td><td>4500000</td><td>null</td><td>null</td><td>null</td><td>null</td><td>null</td><td>null</td><td>null</td><td>null</td><td>null</td><td>null</td><td>null</td><td>null</td><td>null</td><td>null</td><td>null</td><td>null</td><td>null</td><td>null</td><td>null</td><td>null</td><td>null</td><td>null</td><td>null</td><td>null</td><td>null</td><td>null</td><td>null</td><td>null</td><td>null</td><td>null</td><td>null</td><td>null</td><td>null</td><td>null</td><td>null</td><td>null</td><td>null</td><td>null</td><td>null</td><td>null</td><td>null</td><td>null</td><td>null</td><td>null</td><td>null</td><td>null</td><td>null</td><td>null</td><td>null</td><td>null</td><td>null</td><td>null</td><td>null</td><td>null</td><td>null</td><td>null</td></tr><tr><td>&hellip;</td><td>&hellip;</td><td>&hellip;</td><td>&hellip;</td><td>&hellip;</td><td>&hellip;</td><td>&hellip;</td><td>&hellip;</td><td>&hellip;</td><td>&hellip;</td><td>&hellip;</td><td>&hellip;</td><td>&hellip;</td><td>&hellip;</td><td>&hellip;</td><td>&hellip;</td><td>&hellip;</td><td>&hellip;</td><td>&hellip;</td><td>&hellip;</td><td>&hellip;</td><td>&hellip;</td><td>&hellip;</td><td>&hellip;</td><td>&hellip;</td><td>&hellip;</td><td>&hellip;</td><td>&hellip;</td><td>&hellip;</td><td>&hellip;</td><td>&hellip;</td><td>&hellip;</td><td>&hellip;</td><td>&hellip;</td><td>&hellip;</td><td>&hellip;</td><td>&hellip;</td><td>&hellip;</td><td>&hellip;</td><td>&hellip;</td><td>&hellip;</td><td>&hellip;</td><td>&hellip;</td><td>&hellip;</td><td>&hellip;</td><td>&hellip;</td><td>&hellip;</td><td>&hellip;</td><td>&hellip;</td><td>&hellip;</td><td>&hellip;</td><td>&hellip;</td><td>&hellip;</td><td>&hellip;</td><td>&hellip;</td><td>&hellip;</td><td>&hellip;</td><td>&hellip;</td><td>&hellip;</td></tr><tr><td>2010</td><td>&quot;zumayjo01&quot;</td><td>915000</td><td>31</td><td>0</td><td>115</td><td>0</td><td>6</td><td>0</td><td>0</td><td>0</td><td>0</td><td>0</td><td>0</td><td>0</td><td>2</td><td>1</td><td>31</td><td>0</td><td>0</td><td>0</td><td>1</td><td>115</td><td>32</td><td>11</td><td>1</td><td>11</td><td>34</td><td>0.229</td><td>2.58</td><td>0</td><td>2</td><td>0</td><td>0</td><td>156</td><td>6</td><td>13</td><td>2</td><td>3</td><td>4</td><td>31</td><td>0</td><td>0</td><td>0</td><td>0</td><td>0</td><td>0</td><td>0</td><td>0</td><td>0</td><td>0</td><td>0</td><td>0</td><td>0</td><td>0</td><td>0</td><td>0</td><td>0</td><td>0</td></tr><tr><td>2011</td><td>&quot;zumayjo01&quot;</td><td>1400000</td><td>null</td><td>null</td><td>null</td><td>null</td><td>null</td><td>null</td><td>null</td><td>null</td><td>null</td><td>null</td><td>null</td><td>null</td><td>null</td><td>null</td><td>null</td><td>null</td><td>null</td><td>null</td><td>null</td><td>null</td><td>null</td><td>null</td><td>null</td><td>null</td><td>null</td><td>null</td><td>null</td><td>null</td><td>null</td><td>null</td><td>null</td><td>null</td><td>null</td><td>null</td><td>null</td><td>null</td><td>null</td><td>null</td><td>null</td><td>null</td><td>null</td><td>null</td><td>null</td><td>null</td><td>null</td><td>null</td><td>null</td><td>null</td><td>null</td><td>null</td><td>null</td><td>null</td><td>null</td><td>null</td><td>null</td><td>null</td></tr><tr><td>2014</td><td>&quot;zuninmi01&quot;</td><td>504100</td><td>130</td><td>125</td><td>3363</td><td>1010</td><td>84</td><td>5</td><td>5</td><td>8</td><td>0</td><td>71</td><td>28</td><td>0</td><td>null</td><td>null</td><td>null</td><td>null</td><td>null</td><td>null</td><td>null</td><td>null</td><td>null</td><td>null</td><td>null</td><td>null</td><td>null</td><td>null</td><td>null</td><td>null</td><td>null</td><td>null</td><td>null</td><td>null</td><td>null</td><td>null</td><td>null</td><td>null</td><td>null</td><td>131</td><td>0</td><td>438</td><td>51</td><td>87</td><td>20</td><td>2</td><td>22</td><td>60</td><td>0</td><td>3</td><td>17</td><td>158</td><td>1</td><td>17</td><td>0</td><td>4</td><td>12</td><td>0</td></tr><tr><td>2015</td><td>&quot;zuninmi01&quot;</td><td>523500</td><td>112</td><td>101</td><td>2759</td><td>809</td><td>44</td><td>5</td><td>6</td><td>6</td><td>0</td><td>42</td><td>22</td><td>0</td><td>null</td><td>null</td><td>null</td><td>null</td><td>null</td><td>null</td><td>null</td><td>null</td><td>null</td><td>null</td><td>null</td><td>null</td><td>null</td><td>null</td><td>null</td><td>null</td><td>null</td><td>null</td><td>null</td><td>null</td><td>null</td><td>null</td><td>null</td><td>null</td><td>null</td><td>112</td><td>0</td><td>350</td><td>28</td><td>61</td><td>11</td><td>0</td><td>11</td><td>28</td><td>0</td><td>1</td><td>21</td><td>132</td><td>0</td><td>5</td><td>8</td><td>2</td><td>6</td><td>0</td></tr><tr><td>2016</td><td>&quot;zychto01&quot;</td><td>511000</td><td>12</td><td>0</td><td>41</td><td>0</td><td>0</td><td>1</td><td>0</td><td>0</td><td>0</td><td>0</td><td>0</td><td>0</td><td>1</td><td>0</td><td>12</td><td>0</td><td>0</td><td>0</td><td>0</td><td>41</td><td>10</td><td>5</td><td>0</td><td>10</td><td>21</td><td>0.208</td><td>3.29</td><td>2</td><td>0</td><td>1</td><td>0</td><td>60</td><td>3</td><td>6</td><td>0</td><td>1</td><td>1</td><td>12</td><td>0</td><td>0</td><td>0</td><td>0</td><td>0</td><td>0</td><td>0</td><td>0</td><td>0</td><td>0</td><td>0</td><td>0</td><td>0</td><td>0</td><td>0</td><td>0</td><td>0</td><td>0</td></tr></tbody></table></div>"
      ],
      "text/plain": [
       "shape: (9_131, 59)\n",
       "┌────────┬───────────┬─────────┬────────────┬───┬──────────┬──────────┬────────────┬───────┐\n",
       "│ yearID ┆ playerID  ┆ salary  ┆ G_fielding ┆ … ┆ SH_right ┆ SF_right ┆ GIDP_right ┆ G_old │\n",
       "│ ---    ┆ ---       ┆ ---     ┆ ---        ┆   ┆ ---      ┆ ---      ┆ ---        ┆ ---   │\n",
       "│ i64    ┆ str       ┆ i64     ┆ i64        ┆   ┆ i64      ┆ i64      ┆ i64        ┆ i64   │\n",
       "╞════════╪═══════════╪═════════╪════════════╪═══╪══════════╪══════════╪════════════╪═══════╡\n",
       "│ 2007   ┆ aardsda01 ┆ 387500  ┆ 25         ┆ … ┆ 0        ┆ 0        ┆ 0          ┆ 0     │\n",
       "│ 2008   ┆ aardsda01 ┆ 403250  ┆ 47         ┆ … ┆ 0        ┆ 0        ┆ 0          ┆ 0     │\n",
       "│ 2009   ┆ aardsda01 ┆ 419000  ┆ 73         ┆ … ┆ 0        ┆ 0        ┆ 0          ┆ 0     │\n",
       "│ 2010   ┆ aardsda01 ┆ 2750000 ┆ 53         ┆ … ┆ 0        ┆ 0        ┆ 0          ┆ 0     │\n",
       "│ 2011   ┆ aardsda01 ┆ 4500000 ┆ null       ┆ … ┆ null     ┆ null     ┆ null       ┆ null  │\n",
       "│ …      ┆ …         ┆ …       ┆ …          ┆ … ┆ …        ┆ …        ┆ …          ┆ …     │\n",
       "│ 2010   ┆ zumayjo01 ┆ 915000  ┆ 31         ┆ … ┆ 0        ┆ 0        ┆ 0          ┆ 0     │\n",
       "│ 2011   ┆ zumayjo01 ┆ 1400000 ┆ null       ┆ … ┆ null     ┆ null     ┆ null       ┆ null  │\n",
       "│ 2014   ┆ zuninmi01 ┆ 504100  ┆ 130        ┆ … ┆ 0        ┆ 4        ┆ 12         ┆ 0     │\n",
       "│ 2015   ┆ zuninmi01 ┆ 523500  ┆ 112        ┆ … ┆ 8        ┆ 2        ┆ 6          ┆ 0     │\n",
       "│ 2016   ┆ zychto01  ┆ 511000  ┆ 12         ┆ … ┆ 0        ┆ 0        ┆ 0          ┆ 0     │\n",
       "└────────┴───────────┴─────────┴────────────┴───┴──────────┴──────────┴────────────┴───────┘"
      ]
     },
     "execution_count": 739,
     "metadata": {},
     "output_type": "execute_result"
    }
   ],
   "source": [
    "salaries_joined = (salaries_edit\n",
    "                   .join(fielding_edit2.rename({\n",
    "                       \"G\": \"G_fielding\", \n",
    "                       \"GS\": \"GS_fielding\"\n",
    "                   }), on=['yearID', 'playerID'], how='left')\n",
    "                   .join(pitching_edit.rename({\n",
    "                       \"G\": \"G_pitching\", \n",
    "                       \"GS\": \"GS_pitching\"\n",
    "                   }), on=['yearID', 'playerID'], how='left')\n",
    "                   .join(batting_edit.rename({\n",
    "                       \"G\": \"G_batting2\", \n",
    "                        \"G_batting\": \"G_batting_total\", \n",
    "                   }), on=['yearID', 'playerID'], how='left')\n",
    "                 )\n",
    "salaries_joined"
   ]
  },
  {
   "cell_type": "code",
   "execution_count": 740,
   "id": "f3496f4f-f558-4ef0-9292-e2247483e389",
   "metadata": {},
   "outputs": [
    {
     "data": {
      "text/html": [
       "<div><style>\n",
       ".dataframe > thead > tr,\n",
       ".dataframe > tbody > tr {\n",
       "  text-align: right;\n",
       "  white-space: pre-wrap;\n",
       "}\n",
       "</style>\n",
       "<small>shape: (9_131, 60)</small><table border=\"1\" class=\"dataframe\"><thead><tr><th>yearID</th><th>playerID</th><th>salary</th><th>G_fielding</th><th>GS_fielding</th><th>InnOuts</th><th>PO</th><th>A</th><th>E</th><th>DP</th><th>PB</th><th>WP</th><th>SB</th><th>CS</th><th>ZR</th><th>W</th><th>L</th><th>G_pitching</th><th>GS_pitching</th><th>CG</th><th>SHO</th><th>SV</th><th>IPouts</th><th>H</th><th>ER</th><th>HR</th><th>BB</th><th>SO</th><th>BAOpp</th><th>ERA</th><th>IBB</th><th>WP_right</th><th>HBP</th><th>BK</th><th>BFP</th><th>GF</th><th>R</th><th>SH</th><th>SF</th><th>GIDP</th><th>G_batting2</th><th>G_batting_total</th><th>AB</th><th>R_right</th><th>H_right</th><th>2B</th><th>3B</th><th>HR_right</th><th>RBI</th><th>SB_right</th><th>CS_right</th><th>BB_right</th><th>SO_right</th><th>IBB_right</th><th>HBP_right</th><th>SH_right</th><th>SF_right</th><th>GIDP_right</th><th>G_old</th><th>Training_Validation</th></tr><tr><td>i64</td><td>str</td><td>i64</td><td>i64</td><td>i64</td><td>i64</td><td>i64</td><td>i64</td><td>i64</td><td>i64</td><td>i64</td><td>i64</td><td>i64</td><td>i64</td><td>i64</td><td>i64</td><td>i64</td><td>i64</td><td>i64</td><td>i64</td><td>i64</td><td>i64</td><td>i64</td><td>i64</td><td>i64</td><td>i64</td><td>i64</td><td>i64</td><td>f64</td><td>f64</td><td>i64</td><td>i64</td><td>i64</td><td>i64</td><td>i64</td><td>i64</td><td>i64</td><td>i64</td><td>i64</td><td>i64</td><td>i64</td><td>i64</td><td>i64</td><td>i64</td><td>i64</td><td>i64</td><td>i64</td><td>i64</td><td>i64</td><td>i64</td><td>i64</td><td>i64</td><td>i64</td><td>i64</td><td>i64</td><td>i64</td><td>i64</td><td>i64</td><td>i64</td><td>str</td></tr></thead><tbody><tr><td>2007</td><td>&quot;aardsda01&quot;</td><td>387500</td><td>25</td><td>0</td><td>97</td><td>2</td><td>4</td><td>1</td><td>0</td><td>0</td><td>0</td><td>0</td><td>0</td><td>0</td><td>2</td><td>1</td><td>25</td><td>0</td><td>0</td><td>0</td><td>0</td><td>97</td><td>39</td><td>23</td><td>4</td><td>17</td><td>36</td><td>0.3</td><td>6.4</td><td>3</td><td>2</td><td>1</td><td>0</td><td>151</td><td>7</td><td>24</td><td>2</td><td>1</td><td>1</td><td>25</td><td>0</td><td>0</td><td>0</td><td>0</td><td>0</td><td>0</td><td>0</td><td>0</td><td>0</td><td>0</td><td>0</td><td>0</td><td>0</td><td>0</td><td>0</td><td>0</td><td>0</td><td>0</td><td>&quot;Training&quot;</td></tr><tr><td>2008</td><td>&quot;aardsda01&quot;</td><td>403250</td><td>47</td><td>0</td><td>146</td><td>3</td><td>6</td><td>0</td><td>0</td><td>0</td><td>0</td><td>0</td><td>0</td><td>0</td><td>4</td><td>2</td><td>47</td><td>0</td><td>0</td><td>0</td><td>0</td><td>146</td><td>49</td><td>30</td><td>4</td><td>35</td><td>49</td><td>0.268</td><td>5.55</td><td>2</td><td>3</td><td>5</td><td>0</td><td>228</td><td>7</td><td>32</td><td>3</td><td>2</td><td>4</td><td>47</td><td>0</td><td>1</td><td>0</td><td>0</td><td>0</td><td>0</td><td>0</td><td>0</td><td>0</td><td>0</td><td>0</td><td>1</td><td>0</td><td>0</td><td>0</td><td>0</td><td>0</td><td>0</td><td>&quot;Training&quot;</td></tr><tr><td>2009</td><td>&quot;aardsda01&quot;</td><td>419000</td><td>73</td><td>0</td><td>214</td><td>2</td><td>5</td><td>0</td><td>1</td><td>0</td><td>0</td><td>0</td><td>0</td><td>0</td><td>3</td><td>6</td><td>73</td><td>0</td><td>0</td><td>0</td><td>38</td><td>214</td><td>49</td><td>20</td><td>4</td><td>34</td><td>80</td><td>0.19</td><td>2.52</td><td>3</td><td>2</td><td>0</td><td>0</td><td>296</td><td>53</td><td>23</td><td>2</td><td>1</td><td>2</td><td>73</td><td>0</td><td>0</td><td>0</td><td>0</td><td>0</td><td>0</td><td>0</td><td>0</td><td>0</td><td>0</td><td>0</td><td>0</td><td>0</td><td>0</td><td>0</td><td>0</td><td>0</td><td>0</td><td>&quot;Training&quot;</td></tr><tr><td>2010</td><td>&quot;aardsda01&quot;</td><td>2750000</td><td>53</td><td>0</td><td>149</td><td>2</td><td>3</td><td>1</td><td>0</td><td>0</td><td>0</td><td>0</td><td>0</td><td>0</td><td>0</td><td>6</td><td>53</td><td>0</td><td>0</td><td>0</td><td>31</td><td>149</td><td>33</td><td>19</td><td>5</td><td>25</td><td>49</td><td>0.198</td><td>3.44</td><td>5</td><td>2</td><td>2</td><td>0</td><td>202</td><td>43</td><td>19</td><td>7</td><td>1</td><td>5</td><td>53</td><td>0</td><td>0</td><td>0</td><td>0</td><td>0</td><td>0</td><td>0</td><td>0</td><td>0</td><td>0</td><td>0</td><td>0</td><td>0</td><td>0</td><td>0</td><td>0</td><td>0</td><td>0</td><td>&quot;Training&quot;</td></tr><tr><td>2011</td><td>&quot;aardsda01&quot;</td><td>4500000</td><td>null</td><td>null</td><td>null</td><td>null</td><td>null</td><td>null</td><td>null</td><td>null</td><td>null</td><td>null</td><td>null</td><td>null</td><td>null</td><td>null</td><td>null</td><td>null</td><td>null</td><td>null</td><td>null</td><td>null</td><td>null</td><td>null</td><td>null</td><td>null</td><td>null</td><td>null</td><td>null</td><td>null</td><td>null</td><td>null</td><td>null</td><td>null</td><td>null</td><td>null</td><td>null</td><td>null</td><td>null</td><td>null</td><td>null</td><td>null</td><td>null</td><td>null</td><td>null</td><td>null</td><td>null</td><td>null</td><td>null</td><td>null</td><td>null</td><td>null</td><td>null</td><td>null</td><td>null</td><td>null</td><td>null</td><td>null</td><td>&quot;Training&quot;</td></tr><tr><td>&hellip;</td><td>&hellip;</td><td>&hellip;</td><td>&hellip;</td><td>&hellip;</td><td>&hellip;</td><td>&hellip;</td><td>&hellip;</td><td>&hellip;</td><td>&hellip;</td><td>&hellip;</td><td>&hellip;</td><td>&hellip;</td><td>&hellip;</td><td>&hellip;</td><td>&hellip;</td><td>&hellip;</td><td>&hellip;</td><td>&hellip;</td><td>&hellip;</td><td>&hellip;</td><td>&hellip;</td><td>&hellip;</td><td>&hellip;</td><td>&hellip;</td><td>&hellip;</td><td>&hellip;</td><td>&hellip;</td><td>&hellip;</td><td>&hellip;</td><td>&hellip;</td><td>&hellip;</td><td>&hellip;</td><td>&hellip;</td><td>&hellip;</td><td>&hellip;</td><td>&hellip;</td><td>&hellip;</td><td>&hellip;</td><td>&hellip;</td><td>&hellip;</td><td>&hellip;</td><td>&hellip;</td><td>&hellip;</td><td>&hellip;</td><td>&hellip;</td><td>&hellip;</td><td>&hellip;</td><td>&hellip;</td><td>&hellip;</td><td>&hellip;</td><td>&hellip;</td><td>&hellip;</td><td>&hellip;</td><td>&hellip;</td><td>&hellip;</td><td>&hellip;</td><td>&hellip;</td><td>&hellip;</td><td>&hellip;</td></tr><tr><td>2010</td><td>&quot;zumayjo01&quot;</td><td>915000</td><td>31</td><td>0</td><td>115</td><td>0</td><td>6</td><td>0</td><td>0</td><td>0</td><td>0</td><td>0</td><td>0</td><td>0</td><td>2</td><td>1</td><td>31</td><td>0</td><td>0</td><td>0</td><td>1</td><td>115</td><td>32</td><td>11</td><td>1</td><td>11</td><td>34</td><td>0.229</td><td>2.58</td><td>0</td><td>2</td><td>0</td><td>0</td><td>156</td><td>6</td><td>13</td><td>2</td><td>3</td><td>4</td><td>31</td><td>0</td><td>0</td><td>0</td><td>0</td><td>0</td><td>0</td><td>0</td><td>0</td><td>0</td><td>0</td><td>0</td><td>0</td><td>0</td><td>0</td><td>0</td><td>0</td><td>0</td><td>0</td><td>&quot;Training&quot;</td></tr><tr><td>2011</td><td>&quot;zumayjo01&quot;</td><td>1400000</td><td>null</td><td>null</td><td>null</td><td>null</td><td>null</td><td>null</td><td>null</td><td>null</td><td>null</td><td>null</td><td>null</td><td>null</td><td>null</td><td>null</td><td>null</td><td>null</td><td>null</td><td>null</td><td>null</td><td>null</td><td>null</td><td>null</td><td>null</td><td>null</td><td>null</td><td>null</td><td>null</td><td>null</td><td>null</td><td>null</td><td>null</td><td>null</td><td>null</td><td>null</td><td>null</td><td>null</td><td>null</td><td>null</td><td>null</td><td>null</td><td>null</td><td>null</td><td>null</td><td>null</td><td>null</td><td>null</td><td>null</td><td>null</td><td>null</td><td>null</td><td>null</td><td>null</td><td>null</td><td>null</td><td>null</td><td>null</td><td>&quot;Training&quot;</td></tr><tr><td>2014</td><td>&quot;zuninmi01&quot;</td><td>504100</td><td>130</td><td>125</td><td>3363</td><td>1010</td><td>84</td><td>5</td><td>5</td><td>8</td><td>0</td><td>71</td><td>28</td><td>0</td><td>null</td><td>null</td><td>null</td><td>null</td><td>null</td><td>null</td><td>null</td><td>null</td><td>null</td><td>null</td><td>null</td><td>null</td><td>null</td><td>null</td><td>null</td><td>null</td><td>null</td><td>null</td><td>null</td><td>null</td><td>null</td><td>null</td><td>null</td><td>null</td><td>null</td><td>131</td><td>0</td><td>438</td><td>51</td><td>87</td><td>20</td><td>2</td><td>22</td><td>60</td><td>0</td><td>3</td><td>17</td><td>158</td><td>1</td><td>17</td><td>0</td><td>4</td><td>12</td><td>0</td><td>&quot;Training&quot;</td></tr><tr><td>2015</td><td>&quot;zuninmi01&quot;</td><td>523500</td><td>112</td><td>101</td><td>2759</td><td>809</td><td>44</td><td>5</td><td>6</td><td>6</td><td>0</td><td>42</td><td>22</td><td>0</td><td>null</td><td>null</td><td>null</td><td>null</td><td>null</td><td>null</td><td>null</td><td>null</td><td>null</td><td>null</td><td>null</td><td>null</td><td>null</td><td>null</td><td>null</td><td>null</td><td>null</td><td>null</td><td>null</td><td>null</td><td>null</td><td>null</td><td>null</td><td>null</td><td>null</td><td>112</td><td>0</td><td>350</td><td>28</td><td>61</td><td>11</td><td>0</td><td>11</td><td>28</td><td>0</td><td>1</td><td>21</td><td>132</td><td>0</td><td>5</td><td>8</td><td>2</td><td>6</td><td>0</td><td>&quot;Training&quot;</td></tr><tr><td>2016</td><td>&quot;zychto01&quot;</td><td>511000</td><td>12</td><td>0</td><td>41</td><td>0</td><td>0</td><td>1</td><td>0</td><td>0</td><td>0</td><td>0</td><td>0</td><td>0</td><td>1</td><td>0</td><td>12</td><td>0</td><td>0</td><td>0</td><td>0</td><td>41</td><td>10</td><td>5</td><td>0</td><td>10</td><td>21</td><td>0.208</td><td>3.29</td><td>2</td><td>0</td><td>1</td><td>0</td><td>60</td><td>3</td><td>6</td><td>0</td><td>1</td><td>1</td><td>12</td><td>0</td><td>0</td><td>0</td><td>0</td><td>0</td><td>0</td><td>0</td><td>0</td><td>0</td><td>0</td><td>0</td><td>0</td><td>0</td><td>0</td><td>0</td><td>0</td><td>0</td><td>0</td><td>&quot;Validation&quot;</td></tr></tbody></table></div>"
      ],
      "text/plain": [
       "shape: (9_131, 60)\n",
       "┌────────┬───────────┬─────────┬────────────┬───┬──────────┬────────────┬───────┬──────────────────┐\n",
       "│ yearID ┆ playerID  ┆ salary  ┆ G_fielding ┆ … ┆ SF_right ┆ GIDP_right ┆ G_old ┆ Training_Validat │\n",
       "│ ---    ┆ ---       ┆ ---     ┆ ---        ┆   ┆ ---      ┆ ---        ┆ ---   ┆ ion              │\n",
       "│ i64    ┆ str       ┆ i64     ┆ i64        ┆   ┆ i64      ┆ i64        ┆ i64   ┆ ---              │\n",
       "│        ┆           ┆         ┆            ┆   ┆          ┆            ┆       ┆ str              │\n",
       "╞════════╪═══════════╪═════════╪════════════╪═══╪══════════╪════════════╪═══════╪══════════════════╡\n",
       "│ 2007   ┆ aardsda01 ┆ 387500  ┆ 25         ┆ … ┆ 0        ┆ 0          ┆ 0     ┆ Training         │\n",
       "│ 2008   ┆ aardsda01 ┆ 403250  ┆ 47         ┆ … ┆ 0        ┆ 0          ┆ 0     ┆ Training         │\n",
       "│ 2009   ┆ aardsda01 ┆ 419000  ┆ 73         ┆ … ┆ 0        ┆ 0          ┆ 0     ┆ Training         │\n",
       "│ 2010   ┆ aardsda01 ┆ 2750000 ┆ 53         ┆ … ┆ 0        ┆ 0          ┆ 0     ┆ Training         │\n",
       "│ 2011   ┆ aardsda01 ┆ 4500000 ┆ null       ┆ … ┆ null     ┆ null       ┆ null  ┆ Training         │\n",
       "│ …      ┆ …         ┆ …       ┆ …          ┆ … ┆ …        ┆ …          ┆ …     ┆ …                │\n",
       "│ 2010   ┆ zumayjo01 ┆ 915000  ┆ 31         ┆ … ┆ 0        ┆ 0          ┆ 0     ┆ Training         │\n",
       "│ 2011   ┆ zumayjo01 ┆ 1400000 ┆ null       ┆ … ┆ null     ┆ null       ┆ null  ┆ Training         │\n",
       "│ 2014   ┆ zuninmi01 ┆ 504100  ┆ 130        ┆ … ┆ 4        ┆ 12         ┆ 0     ┆ Training         │\n",
       "│ 2015   ┆ zuninmi01 ┆ 523500  ┆ 112        ┆ … ┆ 2        ┆ 6          ┆ 0     ┆ Training         │\n",
       "│ 2016   ┆ zychto01  ┆ 511000  ┆ 12         ┆ … ┆ 0        ┆ 0          ┆ 0     ┆ Validation       │\n",
       "└────────┴───────────┴─────────┴────────────┴───┴──────────┴────────────┴───────┴──────────────────┘"
      ]
     },
     "execution_count": 740,
     "metadata": {},
     "output_type": "execute_result"
    }
   ],
   "source": [
    "q2_table = (salaries_joined\n",
    "    .with_columns(\n",
    "        pl.when(pl.col('yearID') == 2016)\n",
    "        .then(pl.lit('Validation'))\n",
    "        .otherwise(pl.lit('Training'))\n",
    "        .alias('Training_Validation')\n",
    "    ))\n",
    "q2_table"
   ]
  },
  {
   "cell_type": "code",
   "execution_count": 741,
   "id": "cb1e5f24-e805-449b-93c3-f73fb98fbc99",
   "metadata": {},
   "outputs": [],
   "source": [
    "q2_table.write_csv(\"./data/q2_table.csv\")"
   ]
  }
 ],
 "metadata": {
  "kernelspec": {
   "display_name": "Python 3 (ipykernel)",
   "language": "python",
   "name": "python3"
  },
  "language_info": {
   "codemirror_mode": {
    "name": "ipython",
    "version": 3
   },
   "file_extension": ".py",
   "mimetype": "text/x-python",
   "name": "python",
   "nbconvert_exporter": "python",
   "pygments_lexer": "ipython3",
   "version": "3.12.5"
  }
 },
 "nbformat": 4,
 "nbformat_minor": 5
}
